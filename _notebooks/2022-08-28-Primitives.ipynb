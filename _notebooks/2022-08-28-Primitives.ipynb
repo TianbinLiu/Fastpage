{
 "cells": [
  {
   "cell_type": "markdown",
   "metadata": {},
   "source": [
    "# Key learning on Primitives:\n",
    "- toc: true \n",
    "- badges: true\n",
    "- comments: true\n",
    "- categories: [jupyter]\n",
    "- image: images/chart-preview.png\n",
    "\n",
    "\n",
    "\n"
   ]
  },
  {
   "cell_type": "markdown",
   "metadata": {},
   "source": [
    "# Data Types\n",
    "- Define in a Class the following data types\n",
    "- Describe in comments how each data type choice is appropriate to application"
   ]
  },
  {
   "cell_type": "code",
   "execution_count": 20,
   "metadata": {},
   "outputs": [],
   "source": [
    "public class DefinePrimitives {\n",
    "    public static void main(String[] args) {\n",
    "      int anInt = 100;  //It can be used in app that stored user information like age\n",
    "      double aDouble = 89.9; //It like integer, but It can used to store information(number) after the decimal point\n",
    "      boolean aBoolean = true; // It can be used to define a value is true or not which we can use it in if statement\n",
    "\n",
    "      String aString = \"Hello, World!\";   //It can be used to print information in the screen for users to see\n",
    "      String aStringFormal = new String(\"Greetings, World!\");\n",
    "    }\n",
    "  }\n",
    "  DefinePrimitives.main(null)"
   ]
  },
  {
   "cell_type": "markdown",
   "metadata": {},
   "source": [
    "### Perform arithmetic expressions and assignment in a program code\n",
    "### Perform compound assignment operator (ie +=), add comments to describe the result of operator"
   ]
  },
  {
   "cell_type": "code",
   "execution_count": 19,
   "metadata": {},
   "outputs": [
    {
     "name": "stdout",
     "output_type": "stream",
     "text": [
      "c: -25000\n"
     ]
    }
   ],
   "source": [
    "int a = 100;\n",
    "int b = 200;\n",
    "int c = 0;\n",
    "\n",
    "c = (a + b) * (a - b);\n",
    "\n",
    "c += (100 * a)/b * a;\n",
    "\n",
    "System.out.println(\"c: \" + c);\n"
   ]
  },
  {
   "cell_type": "markdown",
   "metadata": {},
   "source": [
    "### Determine what is result is in a variable as a result of an data type and expression (ie integer vs double)\n",
    "\n",
    "### Answer: if the result in a variable is an integer number or the expression is int, then the data type is integer. If the result include a decimal point or the expression is double, then it is double. "
   ]
  },
  {
   "cell_type": "markdown",
   "metadata": {},
   "source": [
    "# Input Primitive data"
   ]
  },
  {
   "cell_type": "markdown",
   "metadata": {},
   "source": [
    "### Perform an arithmetic expressions that uses casting, add comments that show how it produces desired result. "
   ]
  },
  {
   "cell_type": "code",
   "execution_count": 2,
   "metadata": {},
   "outputs": [
    {
     "name": "stdout",
     "output_type": "stream",
     "text": [
      "12.2/2 =6.1\n"
     ]
    }
   ],
   "source": [
    "double a = 12.2/2;\n",
    "int b = (int)(a + 0.5);\n",
    "System.out.println(\"12.2/2 =\" + a);\n"
   ]
  },
  {
   "cell_type": "code",
   "execution_count": 2,
   "metadata": {},
   "outputs": [
    {
     "name": "stdout",
     "output_type": "stream",
     "text": [
      "Enter an integer: 1\n",
      "Enter a double: 1.9\n",
      "Enter a boolean: Not an boolean (true or false), java.util.InputMismatchException\n",
      "Enter a String: true\n"
     ]
    }
   ],
   "source": [
    "// java style to import library\n",
    "import java.util.Scanner;\n",
    "\n",
    "// class must alway have 1st letter as uppercase, CamelCase is Java Class convention\n",
    "public class ScanPrimitives {\n",
    "    public static void main(String[] args) {    \n",
    "        Scanner input;\n",
    "\n",
    "        // primitive int\n",
    "        input = new Scanner(System.in);\n",
    "        System.out.print(\"Enter an integer: \");\n",
    "        try {\n",
    "            int sampleInputInt = input.nextInt();\n",
    "            System.out.println(sampleInputInt);\n",
    "        } catch (Exception e) {  // if not an integer\n",
    "            System.out.println(\"Not an integer (form like 159), \" + e);\n",
    "        }\n",
    "        input.close();\n",
    "\n",
    "        // primitive double\n",
    "        input = new Scanner(System.in);\n",
    "        System.out.print(\"Enter a double: \");\n",
    "        try {\n",
    "            double sampleInputDouble = input.nextDouble();\n",
    "            System.out.println(sampleInputDouble);\n",
    "        } catch (Exception e) {  // if not a number\n",
    "            System.out.println(\"Not an double (form like 9.99), \" + e);\n",
    "        }\n",
    "        input.close();\n",
    "\n",
    "        // primitive boolean\n",
    "        input =  new Scanner(System.in);\n",
    "        System.out.print(\"Enter a boolean: \");\n",
    "        try {\n",
    "            boolean sampleInputBoolean = input.nextBoolean();\n",
    "            System.out.println(sampleInputBoolean);\n",
    "        } catch (Exception e) {  // if not true or false\n",
    "            System.out.println(\"Not an boolean (true or false), \" + e);\n",
    "        }\n",
    "        input.close();\n",
    "\n",
    "        // wrapper class String\n",
    "        input =  new Scanner(System.in);\n",
    "        System.out.print(\"Enter a String: \");\n",
    "        try {\n",
    "            String sampleInputString = input.nextLine();\n",
    "            System.out.println(sampleInputString);\n",
    "        } catch (Exception e) { // this may never happen\n",
    "            System.out.println(\"Not an String, \" + e);\n",
    "        }\n",
    "        input.close();\n",
    "    }\n",
    "}\n",
    "ScanPrimitives.main(null);"
   ]
  },
  {
   "cell_type": "markdown",
   "metadata": {},
   "source": [
    "# Output Primitive Data"
   ]
  },
  {
   "cell_type": "code",
   "execution_count": 3,
   "metadata": {},
   "outputs": [
    {
     "name": "stdout",
     "output_type": "stream",
     "text": [
      "Integer Division\n",
      "\tint output with concatenation: 7/2 = 3\n",
      "\tint output with format: 7/2 = 3\n",
      "\tint output with printf: 7/2 = 3\n",
      "Double Division\n",
      "\tdouble output with concatenation: 7.0/2.0 = 3.5\n",
      "\tdouble output with format: 7.00/2.00 = 3.50\n",
      "\tdouble output with printf: 7.00/2.00 = 3.50\n",
      "Casting and Remainders\n",
      "\tint cast to double on division: 7/2 = 3.50\n",
      "\tint using modulo for remainder: 7/2 = 3 remainder 1\n"
     ]
    }
   ],
   "source": [
    "public class PrimitiveDivision {\n",
    "    public static void main(String[] args) {\n",
    "        int i1 = 7, i2 = 2;\n",
    "        System.out.println(\"Integer Division\");\n",
    "        System.out.println(\"\\tint output with concatenation: \" + i1 + \"/\" + i2 + \" = \" + i1/i2);\n",
    "        System.out.println(String.format(\"\\tint output with format: %d/%d = %d\",i1, i2, i1/i2));\n",
    "        System.out.printf(\"\\tint output with printf: %d/%d = %d\\n\",i1, i2, i1/i2);\n",
    "\n",
    "        double d1 = 7, d2 = 2;\n",
    "        System.out.println(\"Double Division\");\n",
    "        System.out.println(\"\\tdouble output with concatenation: \" + d1 + \"/\" + d2 + \" = \" + d1/d2);\n",
    "        System.out.println(String.format(\"\\tdouble output with format: %.2f/%.2f = %.2f\",d1, d2, d1/d2));\n",
    "        System.out.printf(\"\\tdouble output with printf: %.2f/%.2f = %.2f\\n\",d1, d2, d1/d2);\n",
    "\n",
    "        System.out.println(\"Casting and Remainders\");\n",
    "        System.out.printf(\"\\tint cast to double on division: %d/%d = %.2f\\n\",i1, i2, i1/(double)i2);\n",
    "        System.out.println(\"\\tint using modulo for remainder: \" + i1 + \"/\" + i2 + \" = \" + i1/i2 + \" remainder \" + i1%i2);\n",
    "    }\n",
    "}\n",
    "PrimitiveDivision.main(null);"
   ]
  },
  {
   "cell_type": "markdown",
   "metadata": {},
   "source": [
    "# Grade Calculator, putting Input and Output together"
   ]
  },
  {
   "cell_type": "code",
   "execution_count": 4,
   "metadata": {},
   "outputs": [
    {
     "name": "stdout",
     "output_type": "stream",
     "text": [
      "Enter a double, 0 to exit: 0.0\n",
      "Average: NaN\n"
     ]
    }
   ],
   "source": [
    "public class GradeCalculator {\n",
    "    // introduction to Double wrapper class (object)\n",
    "    ArrayList<Double> grades;   // similar to Python list\n",
    "\n",
    "    // constructor, initializes ArrayList and call enterGrades method\n",
    "    public GradeCalculator() {\n",
    "        this.grades = new ArrayList<>();\n",
    "        this.enterGrades();\n",
    "    }\n",
    "\n",
    "    // double requires test for zero versus threshold, DO NOT compare to Zero\n",
    "    private boolean isZero(double value){\n",
    "        double threshold = 0.001;\n",
    "        return value >= -threshold && value <= threshold;\n",
    "    }\n",
    "\n",
    "\n",
    "    // enterGrades input method using scanner\n",
    "    private void enterGrades() {\n",
    "        Scanner input;\n",
    "\n",
    "        while (true) {\n",
    "            input = new Scanner(System.in);\n",
    "            System.out.print(\"Enter a double, 0 to exit: \");\n",
    "            try {\n",
    "                double sampleInputDouble = input.nextDouble();\n",
    "                System.out.println(sampleInputDouble);\n",
    "                if (isZero(sampleInputDouble)) break;       // exit loop on isZero\n",
    "                else this.grades.add(sampleInputDouble);    // adding to object, ArrayList grades\n",
    "            } catch (Exception e) {  // if not a number\n",
    "                System.out.println(\"Not an double (form like 9.99), \" + e);\n",
    "            }\n",
    "            input.close();\n",
    "        }\n",
    "    }\n",
    "\n",
    "    // average calculation \n",
    "    public double average() {\n",
    "        double total = 0;   // running total\n",
    "        for (double num : this.grades) {    // enhanced for loop\n",
    "            total += num;   // shortcut add and assign operator\n",
    "        }\n",
    "        return (total / this.grades.size());  // double math, ArrayList grades object maintains its size\n",
    "    }\n",
    "\n",
    "    // static main method, used as driver and tester\n",
    "    public static void main(String[] args) {\n",
    "        GradeCalculator grades = new GradeCalculator(); // calls constructor, creates object, which calls enterGrades\n",
    "        System.out.println(\"Average: \" + String.format(\"%.2f\", grades.average()));  // format used to standardize to two decimal points\n",
    "    }\n",
    "}\n",
    "// IJava activation\n",
    "GradeCalculator.main(null);"
   ]
  }
 ],
 "metadata": {
  "kernelspec": {
   "display_name": "Java",
   "language": "java",
   "name": "java"
  },
  "language_info": {
   "codemirror_mode": "java",
   "file_extension": ".jshell",
   "mimetype": "text/x-java-source",
   "name": "java",
   "pygments_lexer": "java",
   "version": "11.0.16+8-post-Ubuntu-0ubuntu118.04"
  },
  "orig_nbformat": 4
 },
 "nbformat": 4,
 "nbformat_minor": 2
}
