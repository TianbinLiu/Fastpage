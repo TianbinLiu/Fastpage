{
 "cells": [
  {
   "attachments": {},
   "cell_type": "markdown",
   "metadata": {},
   "source": [
    "# HasMaps and BigO\n",
    "> HasMaps and BigO Hacks\n",
    "\n",
    "- toc: true \n",
    "- badges: true\n",
    "- comments: true\n",
    "- categories: [CSA]\n",
    "- image: images/chart-preview.png"
   ]
  },
  {
   "attachments": {},
   "cell_type": "markdown",
   "metadata": {},
   "source": [
    "## Hacks\n",
    "### Analyze the Big O complexity on Sorts.\n",
    "- Establish analytics including:time to sort, number of comparisons and number of swaps.- Average the results for each each Sort, run each at least 12 times and 5000 elements. You should throw out High and Low when doing analysis.\n",
    "- Make your final/judgement on best sort: Number of Comparisons, Number of Swaps, Big O complexity, and Total Time.\n",
    "\n",
    "### Build your own Hashmap. Make a HashMap to correspond to a Data Structure using a Collection.\n",
    "- Be sure to have 5000 records\n",
    "- Perform analysis on Binary Search vs HashMap Lookup, try using random to search and find 100 keys in 5000 records. Perform 12 times and throw out high and low.\n",
    "\n",
    "### Extra, Practical learning\n",
    "- Performing Iteration, Delete, and Add operations are another way to analyze Collection vs HashMap data structure.\n",
    "- A HashMap and a Collection can be used in a Class, POJO and API.\n",
    "- Make a Diagram on the Pros and Cons of Collection vs HashMap"
   ]
  },
  {
   "attachments": {},
   "cell_type": "markdown",
   "metadata": {},
   "source": [
    "#### Analyze the Big O complexity on Sorts.(Bubble sort)\n",
    "- Results:\n",
    "\n",
    "| time to sort ( Nanoseconds ) | number of comparisons | number of swaps|\n",
    "| ----------- | ----------- | ----------- |\n",
    "| 19812143        | 12497500       | 6231639       |\n",
    "| 11277495        | 12497500       | 6225670       |\n",
    "| 10972838        | 12497500       | 6253007       |\n",
    "| 10695529        | 12497500       | 6211277       |\n",
    "| 10859437        | 12497500       | 6256542       |\n",
    "| 11789985        | 12497500       | 6234734       |\n",
    "| 11279741        | 12497500       | 6238329       |\n",
    "| 11105992        | 12497500       | 6215745       |\n",
    "| 11248693        | 12497500       | 6219546       |\n",
    "| 10781436        | 12497500       | 6301807       |\n",
    "| 15269456        | 12497500       | 6218502       |\n",
    "| 11252731        | 12497500       | 6247986       |\n",
    "- Average Result ( throw out High and Low ) :\n",
    "\n",
    "| time to sort ( Nanoseconds ) | number of comparisons | number of swaps|\n",
    "| ----------- | ----------- | ----------- |\n",
    "| 11583780.4 ( 0.01158378 sec ) | 12497500       | 6234170   |\n",
    "\n",
    "- Big O complexity: $O(2n)$"
   ]
  },
  {
   "cell_type": "code",
   "execution_count": 38,
   "metadata": {
    "vscode": {
     "languageId": "java"
    }
   },
   "outputs": [
    {
     "name": "stdout",
     "output_type": "stream",
     "text": [
      "Nanoseconds: 11252731\n",
      "number of comparisons: 12497500\n",
      "number of Swaps: 6247986\n"
     ]
    }
   ],
   "source": [
    "import java.util.Random;\n",
    "\n",
    "public class BubbleSort{  \n",
    "    private int numOfComparisons = 0;\n",
    "    private int numberOfSwaps = 0;\n",
    "\n",
    "    public void bubbleSort(int[] arr) {   \n",
    "        int temp = 0;  \n",
    "        for(int i=0; i < arr.length; i++){  \n",
    "            for(int j=1; j < (arr.length-i); j++){  \n",
    "                if(arr[j-1] > arr[j]){   \n",
    "                    temp = arr[j-1];  \n",
    "                    arr[j-1] = arr[j];  \n",
    "                    arr[j] = temp;  \n",
    "                    numberOfSwaps++;\n",
    "                }  \n",
    "                numOfComparisons++;\n",
    "            }  \n",
    "        }  \n",
    "  \n",
    "    }  \n",
    "\n",
    "    public int getNumOfComparisons(){\n",
    "        return numOfComparisons;\n",
    "    }\n",
    "\n",
    "    public int getNumOfSwaps(){\n",
    "        return numberOfSwaps;\n",
    "    }\n",
    "\n",
    "    public static void main(String[] args) {  \n",
    "        BubbleSort test = new BubbleSort();\n",
    "        Random num = new Random();\n",
    "        int arr[] = new int[5000];\n",
    "        for (int i = 0; i < arr.length; i++) {\n",
    "            arr[i] = num.nextInt(); // storing random integers in an array\n",
    "        }\n",
    "        long start = System.nanoTime();\n",
    "        test.bubbleSort(arr); \n",
    "        long finish = System.nanoTime();\n",
    "        long timeElapsed = finish - start;\n",
    "        System.out.println(\"Nanoseconds: \" + timeElapsed);\n",
    "        System.out.println(\"number of comparisons: \" + test.getNumOfComparisons());\n",
    "        System.out.println(\"number of Swaps: \" + test.getNumOfSwaps());\n",
    "    }\n",
    "\n",
    "}  \n",
    "BubbleSort.main(null);\n"
   ]
  },
  {
   "attachments": {},
   "cell_type": "markdown",
   "metadata": {},
   "source": [
    "#### Analyze the Big O complexity on Sorts.(Selection Sort)\n",
    "- Results:\n",
    "\n",
    "| time to sort| number of comparisons | number of swaps|\n",
    "| ----------- | ----------- | ----------- |\n",
    "| 45525806        | 12497500       | 4989       |\n",
    "| 38155117        | 12497500       | 4992       |\n",
    "| 67550993        | 12497500       | 4990       |\n",
    "| 34199386        | 12497500       | 4992       |\n",
    "| 74329261        | 12497500       | 4987       |\n",
    "| 34322954        | 12497500       | 4989       |\n",
    "| 30619399        | 12497500       | 4991       |\n",
    "| 76688505        | 12497500       | 4995       |\n",
    "| 81416016        | 12497500       | 4994       |\n",
    "| 30958109        | 12497500       | 4992       |\n",
    "| 34052482        | 12497500       | 4996       |\n",
    "| 30426794        | 12497500       | 4984       |\n",
    "- Average Result ( throw out High and Low ) :\n",
    "\n",
    "| time to sort| number of comparisons | number of swaps|\n",
    "| ----------- | ----------- | ----------- |\n",
    "| 46640201.2  ( 0.0466402 sec )   | 12497500       | 4991.1   |\n",
    "\n",
    "- Big O complexity: $O(n^2)$"
   ]
  },
  {
   "cell_type": "code",
   "execution_count": 50,
   "metadata": {
    "vscode": {
     "languageId": "java"
    }
   },
   "outputs": [
    {
     "name": "stdout",
     "output_type": "stream",
     "text": [
      "Nanoseconds: 30426794\n",
      "number of comparisons: 12497500\n",
      "number of Swaps: 4984\n"
     ]
    }
   ],
   "source": [
    "import java.util.Random;\n",
    "\n",
    "int numOfComparisons = 0;\n",
    "int numberOfSwaps = 0;\n",
    "\n",
    "private void swapItems(int firstIndex, int secondIndex, Object[] arrayOfStuff){\n",
    "    Object thirdHand = arrayOfStuff[firstIndex];\n",
    "    arrayOfStuff[firstIndex] = arrayOfStuff[secondIndex];\n",
    "    arrayOfStuff[secondIndex] = thirdHand;\n",
    "}\n",
    "\n",
    "\n",
    "Random num = new Random();\n",
    "Integer[] Array = new Integer[5000];\n",
    "for (int i = 0; i < Array.length; i++) {\n",
    "    Array[i] = num.nextInt(); // storing random integers in an array\n",
    "}\n",
    "\n",
    "long start = System.nanoTime();\n",
    "for (int outerLoop = 0; outerLoop < Array.length; outerLoop++){\n",
    "    int minIndex = outerLoop;\n",
    "    for (int inner = outerLoop +1; inner < Array.length; inner++){\n",
    "        if (Array[inner].compareTo(Array[minIndex]) < 0){\n",
    "            minIndex = inner;\n",
    "        }\n",
    "        numOfComparisons++;\n",
    "    }\n",
    "\n",
    "    if (minIndex != outerLoop){\n",
    "        swapItems(minIndex, outerLoop, Array);\n",
    "        numberOfSwaps++;\n",
    "    }\n",
    "}\n",
    "long finish = System.nanoTime();\n",
    "long timeElapsed = finish - start;\n",
    "System.out.println(\"Nanoseconds: \" + timeElapsed);\n",
    "System.out.println(\"number of comparisons: \" + numOfComparisons);\n",
    "System.out.println(\"number of Swaps: \" + numberOfSwaps);\n"
   ]
  },
  {
   "attachments": {},
   "cell_type": "markdown",
   "metadata": {},
   "source": [
    "#### Analyze the Big O complexity on Sorts.(Insertion Sort)\n",
    "- Results:\n",
    "\n",
    "| time to sort| number of comparisons | number of swaps|\n",
    "| ----------- | ----------- | ----------- |\n",
    "| 85324159        | 6194343       | 4999       |\n",
    "| 54161199        | 6304691       | 4999       |\n",
    "| 49719391        | 6207362       | 4999       |\n",
    "| 60188283        | 6250397       | 4999       |\n",
    "| 43470668        | 6242023       | 4999       |\n",
    "| 55945324        | 6315065       | 4999       |\n",
    "| 51786821        | 6203872       | 4999       |\n",
    "| 50318224        | 6235621       | 4999       |\n",
    "| 47346352        | 6193247       | 4999       |\n",
    "| 55712293        | 6224631       | 4999       |\n",
    "| 161017610       | 6340534       | 4999       |\n",
    "| 48902754        | 6226656       | 4999       |\n",
    "- Average Result ( throw out High and Low ) :\n",
    "\n",
    "| time to sort| number of comparisons | number of swaps|\n",
    "| ----------- | ----------- | ----------- |\n",
    "| 55552911.6 ( 0.05555291 sec )     | 6240466.1       | 4999   |\n",
    "\n",
    "- Big O complexity: <br>\n",
    "The worst-case (and average-case) complexity of the insertion sort algorithm is $O(n²)$ <br>\n",
    "The best-case time complexity of insertion sort algorithm is $O(n)$ time complexity"
   ]
  },
  {
   "cell_type": "code",
   "execution_count": 62,
   "metadata": {
    "vscode": {
     "languageId": "java"
    }
   },
   "outputs": [
    {
     "name": "stdout",
     "output_type": "stream",
     "text": [
      "Nanoseconds: 48902754\n",
      "number of comparisons: 6226656\n",
      "number of Swaps: 4999\n"
     ]
    }
   ],
   "source": [
    "int numOfComparisons = 0;\n",
    "int numberOfSwaps = 0;\n",
    "\n",
    "ArrayList<Integer> tester = new ArrayList<Integer>();\n",
    "Random num = new Random();\n",
    "Integer[] Array = new Integer[5000];\n",
    "for (int i = 0; i < 5000; i++) {\n",
    "    tester.add(num.nextInt()); // storing random integers in an ArrayList\n",
    "}\n",
    "\n",
    "long start = System.nanoTime();\n",
    "for (int outerLoop = 1; outerLoop < tester.size(); outerLoop++){\n",
    "    Integer tested = tester.get(outerLoop);\n",
    "    int inner = outerLoop -1 ;\n",
    "    while (inner >= 0 && tested.compareTo(tester.get(inner)) < 0){\n",
    "        numOfComparisons++;\n",
    "        tester.set(inner + 1, tester.get(inner));\n",
    "        inner--;\n",
    "    }\n",
    "    tester.set(inner + 1, tested);\n",
    "    numberOfSwaps++;\n",
    "}\n",
    "long finish = System.nanoTime();\n",
    "\n",
    "long timeElapsed = finish - start;\n",
    "System.out.println(\"Nanoseconds: \" + timeElapsed);\n",
    "System.out.println(\"number of comparisons: \" + numOfComparisons);\n",
    "System.out.println(\"number of Swaps: \" + numberOfSwaps);"
   ]
  },
  {
   "attachments": {},
   "cell_type": "markdown",
   "metadata": {},
   "source": [
    "#### Analyze the Big O complexity on Sorts.(Merge Sort)\n",
    "- Results:\n",
    "\n",
    "| time to sort| number of comparisons | number of swaps|\n",
    "| ----------- | ----------- | ----------- |\n",
    "| 10215714        | 55195       | 61808       |\n",
    "| 8790276        | 55255       | 61808       |\n",
    "| 8235763        | 55197       | 61808       |\n",
    "| 7962740        | 55316       | 61808       |\n",
    "| 9345303        | 55268       | 61808       |\n",
    "| 10223829        | 55233       | 61808       |\n",
    "| 12360116        | 55236       | 61808       |\n",
    "| 8212420        | 55225       | 61808       |\n",
    "| 10812344        | 55252       | 61808       |\n",
    "| 9678818        | 55254       | 61808       |\n",
    "| 7790542        | 55249       | 61808       |\n",
    "| 9994474        | 55204       | 61808       |\n",
    "- Average Result ( throw out High and Low ) :\n",
    "\n",
    "| time to sort| number of comparisons | number of swaps|\n",
    "| ----------- | ----------- | ----------- |\n",
    "| 9347168.1 ( 0.009347168 sec )     | 55237.3      | 61808   |\n",
    "\n",
    "- Big O complexity: <br>\n",
    "Overall time complexity of Merge sort is $O(nLogn)$. It is more efficient as it is in worst case also the runtime is $O(nlogn)$ <br>\n",
    "The space complexity of Merge sort is $O(n)$. This means that this algorithm takes a lot of space and may slower down operations for the last data sets"
   ]
  },
  {
   "cell_type": "code",
   "execution_count": 74,
   "metadata": {
    "vscode": {
     "languageId": "java"
    }
   },
   "outputs": [
    {
     "name": "stdout",
     "output_type": "stream",
     "text": [
      "Nanoseconds: 9994474\n",
      "number of comparisons: 55204\n",
      "number of Swaps: 61808\n"
     ]
    }
   ],
   "source": [
    "int numOfComparisons = 0;\n",
    "int numberOfSwaps = 0;\n",
    "public static void merge(int[] a, int[] l, int[] r, int left, int right) {\n",
    "    int i = 0, j = 0, k = 0;\n",
    "    while (i < left && j < right) {\n",
    "        if (l[i] <= r[j]) {\n",
    "            numOfComparisons++;\n",
    "            a[k++] = l[i++];\n",
    "            numberOfSwaps++;\n",
    "        }\n",
    "        else {\n",
    "            numOfComparisons++;\n",
    "            a[k++] = r[j++];\n",
    "            numberOfSwaps++;\n",
    "        }\n",
    "    }\n",
    "    while (i < left) {\n",
    "        a[k++] = l[i++];\n",
    "        numberOfSwaps++;\n",
    "    }\n",
    "    while (j < right) {\n",
    "        a[k++] = r[j++];\n",
    "        numberOfSwaps++;\n",
    "    }\n",
    "}\n",
    "\n",
    "public static void mergeSort(int[]myArray, int index){\n",
    "        if (index < 2){\n",
    "            return;\n",
    "        }\n",
    "    \n",
    "        int middle = (index)/2;\n",
    "        int[] leftArray = new int[middle];\n",
    "        int[] rightArray = new int[index - middle];\n",
    "    \n",
    "        for (int i = 0; i < middle; i++) {\n",
    "            leftArray[i] = myArray[i];\n",
    "        }\n",
    "        for (int i = middle; i < index; i++) {\n",
    "            rightArray[i - middle] = myArray[i];\n",
    "        }\n",
    "        mergeSort(leftArray, middle);\n",
    "        mergeSort(rightArray, index - middle);\n",
    "        merge(myArray, leftArray, rightArray, middle, index-middle);\n",
    "}\n",
    "Random num = new Random();\n",
    "int[] tester = new int[5000];\n",
    "for (int i = 0; i < tester.length; i++) {\n",
    "    tester[i] = num.nextInt(); // storing random integers in an ArrayList\n",
    "}\n",
    "long start = System.nanoTime();\n",
    "mergeSort(tester, tester.length);\n",
    "long finish = System.nanoTime();\n",
    "long timeElapsed = finish - start;\n",
    "System.out.println(\"Nanoseconds: \" + timeElapsed);\n",
    "System.out.println(\"number of comparisons: \" + numOfComparisons);\n",
    "System.out.println(\"number of Swaps: \" + numberOfSwaps);\n"
   ]
  },
  {
   "attachments": {},
   "cell_type": "markdown",
   "metadata": {},
   "source": [
    "| Sort | time to sort | number of comparisons | number of swaps|\n",
    "| ----------- | --------------------------------- | ----------- | ----------- |\n",
    "| Bubble      | 11583780.4 ( 0.01158378 sec )     | 12497500       | 6234170   |\n",
    "| Selection   | 46640201.2 ( 0.0466402 sec )      | 12497500       | 4991.1   |\n",
    "| Insertion   | 55552911.6 ( 0.05555291 sec )     | 6240466.1      | 4999   |\n",
    "| Merge       | 9347168.1 ( 0.009347168 sec )     | 55237.3        | 61808   |\n"
   ]
  },
  {
   "attachments": {},
   "cell_type": "markdown",
   "metadata": {},
   "source": [
    "#### Hashmap(Binary sort)"
   ]
  },
  {
   "cell_type": "markdown",
   "metadata": {},
   "source": []
  }
 ],
 "metadata": {
  "kernelspec": {
   "display_name": "Java",
   "language": "java",
   "name": "java"
  },
  "language_info": {
   "codemirror_mode": "java",
   "file_extension": ".jshell",
   "mimetype": "text/x-java-source",
   "name": "Java",
   "pygments_lexer": "java",
   "version": "11.0.17+8-post-Ubuntu-1ubuntu218.04"
  },
  "orig_nbformat": 4
 },
 "nbformat": 4,
 "nbformat_minor": 2
}
