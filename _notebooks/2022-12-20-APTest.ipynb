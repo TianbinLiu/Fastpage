{
 "cells": [
  {
   "attachments": {},
   "cell_type": "markdown",
   "metadata": {},
   "source": [
    "# AP CSA HW\n",
    "\n",
    "- toc: true \n",
    "- badges: true\n",
    "- comments: true\n",
    "- categories: [AP]\n",
    "- image: images/chart-preview.png"
   ]
  },
  {
   "attachments": {},
   "cell_type": "markdown",
   "metadata": {},
   "source": [
    "# 2D Array"
   ]
  },
  {
   "attachments": {},
   "cell_type": "markdown",
   "metadata": {},
   "source": [
    "<img src=\"images/2DArray/2DArrayMCQ1.png\" alt=\"Alternative text\" />\n"
   ]
  },
  {
   "attachments": {},
   "cell_type": "markdown",
   "metadata": {},
   "source": [
    "## Answer:  D"
   ]
  },
  {
   "attachments": {},
   "cell_type": "markdown",
   "metadata": {},
   "source": [
    "<img src=\"images/2DArray/2DArrayMCQ2a.png\" alt=\"Alternative text\" />\n",
    "<img src=\"images/2DArray/2DArrayMCQ2b.png\" alt=\"Alternative text\" />"
   ]
  },
  {
   "attachments": {},
   "cell_type": "markdown",
   "metadata": {},
   "source": [
    "## Answer : B"
   ]
  },
  {
   "attachments": {},
   "cell_type": "markdown",
   "metadata": {},
   "source": [
    "<img src=\"images/2DArray/2DArrayMCQ3.png\" alt=\"Alternative text\" />"
   ]
  },
  {
   "attachments": {},
   "cell_type": "markdown",
   "metadata": {},
   "source": [
    "## Answer: B\n"
   ]
  },
  {
   "attachments": {},
   "cell_type": "markdown",
   "metadata": {},
   "source": [
    "<img src=\"images/2DArray/2DArrayFRQ1.png\" alt=\"Alternative text\" />"
   ]
  },
  {
   "cell_type": "code",
   "execution_count": 4,
   "metadata": {
    "vscode": {
     "languageId": "java"
    }
   },
   "outputs": [],
   "source": [
    "//part (a.)\n",
    "int check = 0;\n",
    "private void fillBlock(String str){\n",
    "    String [][] letterBlock = new String [numRows][numCols];\n",
    "    for (r = 0; r < letterBlock.length ; r++){\n",
    "        for (c = 0; c < letterBlock[r].length; c++){\n",
    "            if (check > str.length()){\n",
    "                letterBlock[r][c] = \"A\";\n",
    "            }\n",
    "            else{\n",
    "                letterBlock[r][c] = str.substring(check, check + 1);\n",
    "            }\n",
    "            check ++;\n",
    "        }\n",
    "    }\n",
    "}"
   ]
  },
  {
   "attachments": {},
   "cell_type": "markdown",
   "metadata": {},
   "source": [
    "# Unit1 Primitive Type / Unit2 Using Object"
   ]
  },
  {
   "attachments": {},
   "cell_type": "markdown",
   "metadata": {},
   "source": [
    "<img src=\"images/Unit1Unit2/Unit1Unit2MCQ1.png\" alt=\"Alternative text\" />"
   ]
  },
  {
   "attachments": {},
   "cell_type": "markdown",
   "metadata": {},
   "source": [
    "## Answer: D"
   ]
  },
  {
   "attachments": {},
   "cell_type": "markdown",
   "metadata": {},
   "source": [
    "<img src=\"images/Unit1Unit2/Unit1Unit2MCQ2.png\" alt=\"Alternative text\" />"
   ]
  },
  {
   "attachments": {},
   "cell_type": "markdown",
   "metadata": {},
   "source": [
    "## Answer: C"
   ]
  },
  {
   "attachments": {},
   "cell_type": "markdown",
   "metadata": {},
   "source": [
    "<img src=\"images/Unit1Unit2/Unit1Unit2MCQ3.png\" alt=\"Alternative text\" />"
   ]
  },
  {
   "attachments": {},
   "cell_type": "markdown",
   "metadata": {},
   "source": [
    "## Answer: D"
   ]
  },
  {
   "attachments": {},
   "cell_type": "markdown",
   "metadata": {},
   "source": [
    "<img src=\"images/Unit1Unit2/Unit1Unit2MCQ4.png\" alt=\"Alternative text\" />"
   ]
  },
  {
   "attachments": {},
   "cell_type": "markdown",
   "metadata": {},
   "source": [
    "## Answer : D"
   ]
  },
  {
   "attachments": {},
   "cell_type": "markdown",
   "metadata": {},
   "source": [
    "<img src=\"images/Unit1Unit2/Unit1Unit2MCQ5.png\" alt=\"Alternative text\" />"
   ]
  },
  {
   "attachments": {},
   "cell_type": "markdown",
   "metadata": {},
   "source": [
    "## Answer: C"
   ]
  },
  {
   "attachments": {},
   "cell_type": "markdown",
   "metadata": {},
   "source": [
    "<img src=\"images/Unit1Unit2/Unit1Unit2MCQ6.png\" alt=\"Alternative text\" />"
   ]
  },
  {
   "attachments": {},
   "cell_type": "markdown",
   "metadata": {},
   "source": [
    "## Answer: E"
   ]
  },
  {
   "attachments": {},
   "cell_type": "markdown",
   "metadata": {},
   "source": [
    "# Unit2 Using Object"
   ]
  },
  {
   "attachments": {},
   "cell_type": "markdown",
   "metadata": {},
   "source": [
    "<img src=\"images/Unit1Unit2/Unit2MCQ1.png\" alt=\"Alternative text\" />"
   ]
  },
  {
   "cell_type": "code",
   "execution_count": 1,
   "metadata": {
    "vscode": {
     "languageId": "java"
    }
   },
   "outputs": [
    {
     "name": "stdout",
     "output_type": "stream",
     "text": [
      "30Hellow7815\n"
     ]
    }
   ],
   "source": [
    "System.out.println(7+8+(7+8)+\"Hellow\"+7+8+(7+8));"
   ]
  },
  {
   "attachments": {},
   "cell_type": "markdown",
   "metadata": {},
   "source": [
    "## Answer: D"
   ]
  },
  {
   "attachments": {},
   "cell_type": "markdown",
   "metadata": {},
   "source": [
    "<img src=\"images/Unit1Unit2/Unit2MCQ2.png\" alt=\"Alternative text\" />"
   ]
  },
  {
   "attachments": {},
   "cell_type": "markdown",
   "metadata": {},
   "source": [
    "## Answer: D"
   ]
  },
  {
   "attachments": {},
   "cell_type": "markdown",
   "metadata": {},
   "source": [
    "<img src=\"images/Unit1Unit2/Unit2MCQ3.png\" alt=\"Alternative text\" />"
   ]
  },
  {
   "cell_type": "code",
   "execution_count": 3,
   "metadata": {
    "vscode": {
     "languageId": "java"
    }
   },
   "outputs": [],
   "source": [
    "String s = \"holy\";\n",
    "String t = s.substring(4);\n",
    "if (s.equals(t)){\n",
    "    System.out.println(\"1\");\n",
    "}"
   ]
  },
  {
   "attachments": {},
   "cell_type": "markdown",
   "metadata": {},
   "source": [
    "## Answer: E"
   ]
  },
  {
   "attachments": {},
   "cell_type": "markdown",
   "metadata": {},
   "source": [
    "<img src=\"images/Unit1Unit2/Unit2MCQ4.png\" alt=\"Alternative text\" />"
   ]
  },
  {
   "attachments": {},
   "cell_type": "markdown",
   "metadata": {},
   "source": [
    "## Answer: C"
   ]
  },
  {
   "attachments": {},
   "cell_type": "markdown",
   "metadata": {},
   "source": [
    "<img src=\"images/Unit1Unit2/Unit2MCQ5.png\" alt=\"Alternative text\" />"
   ]
  },
  {
   "attachments": {},
   "cell_type": "markdown",
   "metadata": {},
   "source": [
    "## Answer: C"
   ]
  },
  {
   "attachments": {},
   "cell_type": "markdown",
   "metadata": {},
   "source": [
    "<img src=\"images/Unit1Unit2/Unit2MCQ6.png\" alt=\"Alternative text\" />"
   ]
  },
  {
   "attachments": {},
   "cell_type": "markdown",
   "metadata": {},
   "source": [
    "## Answer: A"
   ]
  },
  {
   "attachments": {},
   "cell_type": "markdown",
   "metadata": {},
   "source": [
    "<img src=\"images/Unit1Unit2/Unit2MCQ7.png\" alt=\"Alternative text\" />"
   ]
  },
  {
   "attachments": {},
   "cell_type": "markdown",
   "metadata": {},
   "source": [
    "## Answer: D"
   ]
  },
  {
   "attachments": {},
   "cell_type": "markdown",
   "metadata": {},
   "source": [
    "<img src=\"images/Unit1Unit2/Unit2FRQ1.png\" alt=\"Alternative text\" />"
   ]
  },
  {
   "cell_type": "code",
   "execution_count": 6,
   "metadata": {
    "vscode": {
     "languageId": "java"
    }
   },
   "outputs": [],
   "source": [
    "public static String scrambleWord(String word){\n",
    "    for (i=0; i < word.length(); i++){\n",
    "        if (word.substring(i, i+1) == \"A\" && word.substring(i+1, i+2) != \"A\"){\n",
    "            swap(word, i, i+1);\n",
    "        }\n",
    "    }\n",
    "    return word;\n",
    "}"
   ]
  },
  {
   "attachments": {},
   "cell_type": "markdown",
   "metadata": {},
   "source": [
    "# Unit 3 If Statement"
   ]
  },
  {
   "attachments": {},
   "cell_type": "markdown",
   "metadata": {},
   "source": [
    "<img src=\"images/Unit3/Unit3MCQ1.png\" alt=\"Alternative text\" />"
   ]
  },
  {
   "attachments": {},
   "cell_type": "markdown",
   "metadata": {},
   "source": [
    "## Answer: D"
   ]
  },
  {
   "attachments": {},
   "cell_type": "markdown",
   "metadata": {},
   "source": [
    "<img src=\"images/Unit3/Unit3MCQ2.png\" alt=\"Alternative text\" />"
   ]
  },
  {
   "attachments": {},
   "cell_type": "markdown",
   "metadata": {},
   "source": [
    "## Answer: D"
   ]
  },
  {
   "attachments": {},
   "cell_type": "markdown",
   "metadata": {},
   "source": [
    "<img src=\"images/Unit3/Unit3MCQ3.png\" alt=\"Alternative text\" />"
   ]
  },
  {
   "attachments": {},
   "cell_type": "markdown",
   "metadata": {},
   "source": [
    "## Answer: D"
   ]
  },
  {
   "attachments": {},
   "cell_type": "markdown",
   "metadata": {},
   "source": [
    "<img src=\"images/Unit3/Unit3MCQ4.png\" alt=\"Alternative text\" />"
   ]
  },
  {
   "attachments": {},
   "cell_type": "markdown",
   "metadata": {},
   "source": [
    "## Answer: A"
   ]
  },
  {
   "attachments": {},
   "cell_type": "markdown",
   "metadata": {},
   "source": [
    "<img src=\"images/Unit3/Unit3MCQ5.png\" alt=\"Alternative text\" />"
   ]
  },
  {
   "attachments": {},
   "cell_type": "markdown",
   "metadata": {},
   "source": [
    "## Answer: C"
   ]
  },
  {
   "attachments": {},
   "cell_type": "markdown",
   "metadata": {},
   "source": [
    "<img src=\"images/Unit3/Unit3MCQ6.png\" alt=\"Alternative text\" />"
   ]
  },
  {
   "attachments": {},
   "cell_type": "markdown",
   "metadata": {},
   "source": [
    "## Answer: D"
   ]
  },
  {
   "attachments": {},
   "cell_type": "markdown",
   "metadata": {},
   "source": [
    "<img src=\"images/Unit3/Unit3MCQ7.png\" alt=\"Alternative text\" />"
   ]
  },
  {
   "attachments": {},
   "cell_type": "markdown",
   "metadata": {},
   "source": [
    "## Answer: C"
   ]
  },
  {
   "attachments": {},
   "cell_type": "markdown",
   "metadata": {},
   "source": [
    "<img src=\"images/Unit3/Unit3MCQ8.png\" alt=\"Alternative text\" />"
   ]
  },
  {
   "attachments": {},
   "cell_type": "markdown",
   "metadata": {},
   "source": [
    "## Answer: A"
   ]
  },
  {
   "attachments": {},
   "cell_type": "markdown",
   "metadata": {},
   "source": [
    "<img src=\"images/Unit3/Unit3MCQ9.png\" alt=\"Alternative text\" />"
   ]
  },
  {
   "attachments": {},
   "cell_type": "markdown",
   "metadata": {},
   "source": [
    "## Answer: B"
   ]
  },
  {
   "attachments": {},
   "cell_type": "markdown",
   "metadata": {},
   "source": [
    "<img src=\"images/Unit3/Unit3MCQ10.png\" alt=\"Alternative text\" />"
   ]
  },
  {
   "attachments": {},
   "cell_type": "markdown",
   "metadata": {},
   "source": [
    "## Answer: E"
   ]
  },
  {
   "attachments": {},
   "cell_type": "markdown",
   "metadata": {},
   "source": [
    "# Unit 4 Iteration"
   ]
  },
  {
   "attachments": {},
   "cell_type": "markdown",
   "metadata": {},
   "source": [
    "<img src=\"images/Unit4/Unit4MCQ1.png\" alt=\"Alternative text\" />"
   ]
  },
  {
   "attachments": {},
   "cell_type": "markdown",
   "metadata": {},
   "source": [
    "## Answer: D"
   ]
  },
  {
   "attachments": {},
   "cell_type": "markdown",
   "metadata": {},
   "source": [
    "<img src=\"images/Unit4/Unit4MCQ2a.png\" alt=\"Alternative text\" />\n",
    "<img src=\"images/Unit4/Unit4MCQ2b.png\" alt=\"Alternative text\" />"
   ]
  },
  {
   "attachments": {},
   "cell_type": "markdown",
   "metadata": {},
   "source": [
    "## Asnwer: E"
   ]
  },
  {
   "attachments": {},
   "cell_type": "markdown",
   "metadata": {},
   "source": [
    "<img src=\"images/Unit4/Unit4MCQ3.png\" alt=\"Alternative text\" />"
   ]
  },
  {
   "attachments": {},
   "cell_type": "markdown",
   "metadata": {},
   "source": [
    "## Answer: B"
   ]
  },
  {
   "attachments": {},
   "cell_type": "markdown",
   "metadata": {},
   "source": [
    "<img src=\"images/Unit4/Unit4MCQ4.png\" alt=\"Alternative text\" />"
   ]
  },
  {
   "attachments": {},
   "cell_type": "markdown",
   "metadata": {},
   "source": [
    "## Answer: D"
   ]
  },
  {
   "attachments": {},
   "cell_type": "markdown",
   "metadata": {},
   "source": [
    "<img src=\"images/Unit4/Unit4MCQ5.png\" alt=\"Alternative text\" />"
   ]
  },
  {
   "attachments": {},
   "cell_type": "markdown",
   "metadata": {},
   "source": [
    "## Answer: A"
   ]
  },
  {
   "attachments": {},
   "cell_type": "markdown",
   "metadata": {},
   "source": [
    "<img src=\"images/Unit4/Unit4MCQ6.png\" alt=\"Alternative text\" />"
   ]
  },
  {
   "attachments": {},
   "cell_type": "markdown",
   "metadata": {},
   "source": [
    "## Answer: D"
   ]
  },
  {
   "attachments": {},
   "cell_type": "markdown",
   "metadata": {},
   "source": [
    "<img src=\"images/Unit4/Unit4MCQ7.png\" alt=\"Alternative text\" />"
   ]
  },
  {
   "attachments": {},
   "cell_type": "markdown",
   "metadata": {},
   "source": [
    "## Answer: A"
   ]
  },
  {
   "attachments": {},
   "cell_type": "markdown",
   "metadata": {},
   "source": [
    "<img src=\"images/Unit4/Unit4MCQ8.png\" alt=\"Alternative text\" />"
   ]
  },
  {
   "attachments": {},
   "cell_type": "markdown",
   "metadata": {},
   "source": [
    "## Answer: C"
   ]
  },
  {
   "attachments": {},
   "cell_type": "markdown",
   "metadata": {},
   "source": [
    "<img src=\"images/Unit4/Unit4MCQ9.png\" alt=\"Alternative text\" />"
   ]
  },
  {
   "attachments": {},
   "cell_type": "markdown",
   "metadata": {},
   "source": [
    "## 0021003\n",
    "## Answer: A? but why 3 mod 4 = 3?"
   ]
  },
  {
   "attachments": {},
   "cell_type": "markdown",
   "metadata": {},
   "source": [
    "<img src=\"images/Unit4/Unit4MCQ10.png\" alt=\"Alternative text\" />"
   ]
  },
  {
   "attachments": {},
   "cell_type": "markdown",
   "metadata": {},
   "source": [
    "## Answer: B"
   ]
  },
  {
   "attachments": {},
   "cell_type": "markdown",
   "metadata": {},
   "source": [
    "<img src=\"images/Unit4/Unit4MCQ11.png\" alt=\"Alternative text\" />"
   ]
  },
  {
   "attachments": {},
   "cell_type": "markdown",
   "metadata": {},
   "source": [
    "## Answer: A"
   ]
  },
  {
   "attachments": {},
   "cell_type": "markdown",
   "metadata": {},
   "source": [
    "<img src=\"images/Unit4/Unit4MCQ12.png\" alt=\"Alternative text\" />"
   ]
  },
  {
   "attachments": {},
   "cell_type": "markdown",
   "metadata": {},
   "source": [
    "## Answer: D"
   ]
  },
  {
   "attachments": {},
   "cell_type": "markdown",
   "metadata": {},
   "source": [
    "<img src=\"images/Unit4/Unit4FRQ1a.png\" alt=\"Alternative text\" />\n",
    "<img src=\"images/Unit4/Unit4FRQ1b.png\" alt=\"Alternative text\" />\n",
    "<img src=\"images/Unit4/Unit4FRQ1c.png\" alt=\"Alternative text\" />"
   ]
  },
  {
   "cell_type": "code",
   "execution_count": null,
   "metadata": {
    "vscode": {
     "languageId": "java"
    }
   },
   "outputs": [],
   "source": [
    "// part (a)\n",
    "public LogMessage (String message){\n",
    "    this.machineID = message.substring(0, message.indexOf(\":\"));\n",
    "    this.description = message.substring(message.indexOf(\":\") + 1, message.length());\n",
    "}"
   ]
  },
  {
   "cell_type": "code",
   "execution_count": null,
   "metadata": {
    "vscode": {
     "languageId": "java"
    }
   },
   "outputs": [],
   "source": [
    "//part (b)\n",
    "public boolean containsWord(String keyword){\n",
    "    boolean contain = true;\n",
    "    if (description.indexOf(keyword) == -1){\n",
    "        contain = false;\n",
    "    }\n",
    "\n",
    "    return contain;\n",
    "}"
   ]
  },
  {
   "attachments": {},
   "cell_type": "markdown",
   "metadata": {},
   "source": [
    "<img src=\"images/Unit4/Unit4FRQ2a.png\" alt=\"Alternative text\" />\n",
    "<img src=\"images/Unit4/Unit4FRQ2b.png\" alt=\"Alternative text\" />\n",
    "<img src=\"images/Unit4/Unit4FRQ2c.png\" alt=\"Alternative text\" />\n",
    "<img src=\"images/Unit4/Unit4FRQ2d.png\" alt=\"Alternative text\" />\n",
    "<img src=\"images/Unit4/Unit4FRQ2e.png\" alt=\"Alternative text\" />"
   ]
  },
  {
   "cell_type": "code",
   "execution_count": null,
   "metadata": {
    "vscode": {
     "languageId": "java"
    }
   },
   "outputs": [],
   "source": [
    "// part (a)\n",
    "public void replaceNthOccurrence(String str, int n, String repl){\n",
    "    \n",
    "}"
   ]
  },
  {
   "attachments": {},
   "cell_type": "markdown",
   "metadata": {},
   "source": [
    "# Unit 5 Classes"
   ]
  },
  {
   "attachments": {},
   "cell_type": "markdown",
   "metadata": {},
   "source": [
    "<img src=\"images/Unit5/Unit5MCQ1a.png\" alt=\"Alternative text\" />\n",
    "<img src=\"images/Unit5/Unit5MCQ1b.png\" alt=\"Alternative text\" />\n",
    "\n"
   ]
  },
  {
   "attachments": {},
   "cell_type": "markdown",
   "metadata": {},
   "source": [
    "## Answer: B"
   ]
  },
  {
   "attachments": {},
   "cell_type": "markdown",
   "metadata": {},
   "source": [
    "<img src=\"images/Unit5/Unit5MCQ1c.png\" alt=\"Alternative text\" />\n"
   ]
  },
  {
   "attachments": {},
   "cell_type": "markdown",
   "metadata": {},
   "source": [
    "## Answer: C"
   ]
  },
  {
   "attachments": {},
   "cell_type": "markdown",
   "metadata": {},
   "source": [
    "<img src=\"images/Unit5/Unit5MCQ1d.png\" alt=\"Alternative text\" />\n"
   ]
  },
  {
   "attachments": {},
   "cell_type": "markdown",
   "metadata": {},
   "source": [
    "## Answer: E"
   ]
  },
  {
   "attachments": {},
   "cell_type": "markdown",
   "metadata": {},
   "source": [
    "<img src=\"images/Unit5/Unit5MCQ1e.png\" alt=\"Alternative text\" />\n"
   ]
  },
  {
   "attachments": {},
   "cell_type": "markdown",
   "metadata": {},
   "source": [
    "## Answer: A"
   ]
  },
  {
   "attachments": {},
   "cell_type": "markdown",
   "metadata": {},
   "source": [
    "<img src=\"images/Unit5/Unit5MCQ1f.png\" alt=\"Alternative text\" />\n"
   ]
  },
  {
   "attachments": {},
   "cell_type": "markdown",
   "metadata": {},
   "source": [
    "## Answer: A"
   ]
  },
  {
   "attachments": {},
   "cell_type": "markdown",
   "metadata": {},
   "source": [
    "<img src=\"images/Unit5/Unit5MCQ2a.png\" alt=\"Alternative text\" />\n",
    "<img src=\"images/Unit5/Unit5MCQ2b.png\" alt=\"Alternative text\" />\n"
   ]
  },
  {
   "attachments": {},
   "cell_type": "markdown",
   "metadata": {},
   "source": [
    "<img src=\"images/Unit5/Unit5MCQ2c.png\" alt=\"Alternative text\" />\n"
   ]
  },
  {
   "attachments": {},
   "cell_type": "markdown",
   "metadata": {},
   "source": [
    "## Answer: D"
   ]
  },
  {
   "attachments": {},
   "cell_type": "markdown",
   "metadata": {},
   "source": [
    "<img src=\"images/Unit5/Unit5MCQ2d.png\" alt=\"Alternative text\" />\n"
   ]
  },
  {
   "attachments": {},
   "cell_type": "markdown",
   "metadata": {},
   "source": [
    "## Answer: D"
   ]
  },
  {
   "attachments": {},
   "cell_type": "markdown",
   "metadata": {},
   "source": [
    "<img src=\"images/Unit5/Unit5MCQ2e.png\" alt=\"Alternative text\" />\n"
   ]
  },
  {
   "attachments": {},
   "cell_type": "markdown",
   "metadata": {},
   "source": [
    "## Answer: E"
   ]
  },
  {
   "attachments": {},
   "cell_type": "markdown",
   "metadata": {},
   "source": [
    "<img src=\"images/Unit5/Unit5MCQ2f.png\" alt=\"Alternative text\" />\n"
   ]
  },
  {
   "attachments": {},
   "cell_type": "markdown",
   "metadata": {},
   "source": [
    "## Answer：D. n is int."
   ]
  },
  {
   "attachments": {},
   "cell_type": "markdown",
   "metadata": {},
   "source": [
    "<img src=\"images/Unit5/Unit5MCQ3.png\" alt=\"Alternative text\" />\n"
   ]
  },
  {
   "attachments": {},
   "cell_type": "markdown",
   "metadata": {},
   "source": [
    "## Answer: C"
   ]
  },
  {
   "attachments": {},
   "cell_type": "markdown",
   "metadata": {},
   "source": [
    "<img src=\"images/Unit5/Unit5MCQ4a.png\" alt=\"Alternative text\" />\n"
   ]
  },
  {
   "attachments": {},
   "cell_type": "markdown",
   "metadata": {},
   "source": [
    "## Answer: C"
   ]
  },
  {
   "attachments": {},
   "cell_type": "markdown",
   "metadata": {},
   "source": [
    "<img src=\"images/Unit5/Unit5MCQ4b.png\" alt=\"Alternative text\" />\n"
   ]
  },
  {
   "attachments": {},
   "cell_type": "markdown",
   "metadata": {},
   "source": [
    "## Answer: B"
   ]
  },
  {
   "attachments": {},
   "cell_type": "markdown",
   "metadata": {},
   "source": [
    "<img src=\"images/Unit5/Unit5MCQ4c.png\" alt=\"Alternative text\" />\n"
   ]
  },
  {
   "attachments": {},
   "cell_type": "markdown",
   "metadata": {},
   "source": [
    "## Answer: E"
   ]
  },
  {
   "attachments": {},
   "cell_type": "markdown",
   "metadata": {},
   "source": [
    "<img src=\"images/Unit5/Unit5MCQ4d.png\" alt=\"Alternative text\" />\n"
   ]
  },
  {
   "attachments": {},
   "cell_type": "markdown",
   "metadata": {},
   "source": [
    "## Answer: C"
   ]
  },
  {
   "attachments": {},
   "cell_type": "markdown",
   "metadata": {},
   "source": [
    "# Unit5 part2 HW"
   ]
  },
  {
   "attachments": {},
   "cell_type": "markdown",
   "metadata": {},
   "source": [
    "<img src=\"images/Unit5/Unit5part2MCQ1a.png\" alt=\"Alternative text\" />"
   ]
  },
  {
   "attachments": {},
   "cell_type": "markdown",
   "metadata": {},
   "source": [
    "## Answer: D"
   ]
  },
  {
   "attachments": {},
   "cell_type": "markdown",
   "metadata": {},
   "source": [
    "<img src=\"images/Unit5/Unit5part2MCQ1b.png\" alt=\"Alternative text\" />"
   ]
  },
  {
   "attachments": {},
   "cell_type": "markdown",
   "metadata": {},
   "source": [
    "## Answer: B"
   ]
  },
  {
   "attachments": {},
   "cell_type": "markdown",
   "metadata": {},
   "source": [
    "<img src=\"images/Unit5/Unit5part2MCQ1c.png\" alt=\"Alternative text\" />"
   ]
  },
  {
   "attachments": {},
   "cell_type": "markdown",
   "metadata": {},
   "source": [
    "## Answer: C, reason: java 自动调用toString method"
   ]
  },
  {
   "attachments": {},
   "cell_type": "markdown",
   "metadata": {},
   "source": [
    "<img src=\"images/Unit5/Unit5part2MCQ2a.png\" alt=\"Alternative text\" />\n",
    "<img src=\"images/Unit5/Unit5part2MCQ2b2.png\" alt=\"Alternative text\" />"
   ]
  },
  {
   "attachments": {},
   "cell_type": "markdown",
   "metadata": {},
   "source": [
    "## Answer: B"
   ]
  },
  {
   "attachments": {},
   "cell_type": "markdown",
   "metadata": {},
   "source": [
    "<img src=\"images/Unit5/Unit5part2MCQ2c.png\" alt=\"Alternative text\" />\n",
    "<img src=\"images/Unit5/Unit5part2MCQ2d.png\" alt=\"Alternative text\" />"
   ]
  },
  {
   "attachments": {},
   "cell_type": "markdown",
   "metadata": {},
   "source": [
    "## Answer: C"
   ]
  },
  {
   "attachments": {},
   "cell_type": "markdown",
   "metadata": {},
   "source": [
    "<img src=\"images/Unit5/Unit5part2MCQ2e.png\" alt=\"Alternative text\" />\n",
    "<img src=\"images/Unit5/Unit5part2MCQ2f.png\" alt=\"Alternative text\" />"
   ]
  },
  {
   "attachments": {},
   "cell_type": "markdown",
   "metadata": {},
   "source": [
    "## Answer: A"
   ]
  },
  {
   "attachments": {},
   "cell_type": "markdown",
   "metadata": {},
   "source": [
    "<img src=\"images/Unit5/Unit5part2MCQ3.png\" alt=\"Alternative text\" />"
   ]
  },
  {
   "attachments": {},
   "cell_type": "markdown",
   "metadata": {},
   "source": [
    "## Answer: E"
   ]
  },
  {
   "attachments": {},
   "cell_type": "markdown",
   "metadata": {},
   "source": [
    "<img src=\"images/Unit5/Unit5part2MCQ4a.png\" alt=\"Alternative text\" />"
   ]
  },
  {
   "attachments": {},
   "cell_type": "markdown",
   "metadata": {},
   "source": [
    "## Answer: B"
   ]
  },
  {
   "attachments": {},
   "cell_type": "markdown",
   "metadata": {},
   "source": [
    "<img src=\"images/Unit5/Unit5part2MCQ4b.png\" alt=\"Alternative text\" />"
   ]
  },
  {
   "attachments": {},
   "cell_type": "markdown",
   "metadata": {},
   "source": [
    "## Answer D"
   ]
  },
  {
   "attachments": {},
   "cell_type": "markdown",
   "metadata": {},
   "source": [
    "<img src=\"images/Unit5/Unit5part2MCQ4c.png\" alt=\"Alternative text\" />\n",
    "<img src=\"images/Unit5/Unit5part2MCQ4d.png\" alt=\"Alternative text\" />"
   ]
  },
  {
   "attachments": {},
   "cell_type": "markdown",
   "metadata": {},
   "source": [
    "## Answer: A"
   ]
  },
  {
   "attachments": {},
   "cell_type": "markdown",
   "metadata": {},
   "source": [
    "# Unit 5 QS 33 FRQ Part a\n",
    "<img src=\"images/Unit5/Unit5part2FRQ1.png\" alt=\"Alternative text\" />"
   ]
  },
  {
   "cell_type": "code",
   "execution_count": null,
   "metadata": {
    "vscode": {
     "languageId": "java"
    }
   },
   "outputs": [],
   "source": [
    "public class FrogSimulation{\n",
    "    private int goalDistance;\n",
    "    private int maxHops;\n",
    "\n",
    "    private int hopDistance();\n",
    "    public boolean simulate(){\n",
    "        boolean reach = false;\n",
    "        for (i=0; i<maxHops && reach == false; i++){\n",
    "            goalDistance -= hopDistance();\n",
    "            if (goalDistance < 0){\n",
    "                reach = true;\n",
    "            }\n",
    "        }\n",
    "        return reach;\n",
    "    }\n",
    "\n",
    "    public double runSimulations (int num)\n",
    "}"
   ]
  },
  {
   "attachments": {},
   "cell_type": "markdown",
   "metadata": {},
   "source": [
    "# Unit 5 QS 33 FRQ Part b\n",
    "<img src=\"images/Unit5/Unit5part2FRQ2.png\" alt=\"Alternative text\" />"
   ]
  },
  {
   "cell_type": "code",
   "execution_count": null,
   "metadata": {
    "vscode": {
     "languageId": "java"
    }
   },
   "outputs": [],
   "source": [
    "public double runSimulations (int num){\n",
    "    int count = 0;\n",
    "    for (i=0; i < num; i++){\n",
    "        if (simulate()){\n",
    "            count ++;\n",
    "        }\n",
    "    }\n",
    "    return (double)count/num;\n",
    "}"
   ]
  },
  {
   "attachments": {},
   "cell_type": "markdown",
   "metadata": {},
   "source": [
    "# Unit 5 QS 34 FRQ Part a\n",
    "<img src=\"images/Unit5/Unit5part2FRQ3.png\" alt=\"Alternative text\" />"
   ]
  },
  {
   "cell_type": "code",
   "execution_count": null,
   "metadata": {
    "vscode": {
     "languageId": "java"
    }
   },
   "outputs": [],
   "source": [
    "public static int numberOfLeapYears(int year1, int year2){\n",
    "    int count = 0;\n",
    "    for (i = year1; i <= year2 ; i++){\n",
    "        if (isLeapYear(i)){\n",
    "            System.out.println(\"leap year: \" + i);\n",
    "            count++\n",
    "        }\n",
    "    }\n",
    "    return count;\n",
    "}"
   ]
  },
  {
   "attachments": {},
   "cell_type": "markdown",
   "metadata": {},
   "source": [
    "# Unit 5 QS 34 FRQ Part b\n",
    "<img src=\"images/Unit5/Unit5part2FRQ4.png\" alt=\"Alternative text\" />"
   ]
  },
  {
   "cell_type": "code",
   "execution_count": null,
   "metadata": {
    "vscode": {
     "languageId": "java"
    }
   },
   "outputs": [],
   "source": [
    "public static int dayOfWeek(int month, int day, int year){\n",
    "    return (firstDayOfYear(year) + dayOfYear(month, day, year)-1)%7\n",
    "}"
   ]
  },
  {
   "attachments": {},
   "cell_type": "markdown",
   "metadata": {},
   "source": [
    "# Unit6"
   ]
  },
  {
   "attachments": {},
   "cell_type": "markdown",
   "metadata": {},
   "source": [
    "<img src=\"images/Unit6/Unit6MCQ1.png\" alt=\"Alternative text\" />"
   ]
  },
  {
   "attachments": {},
   "cell_type": "markdown",
   "metadata": {},
   "source": [
    "## Answer: E"
   ]
  },
  {
   "attachments": {},
   "cell_type": "markdown",
   "metadata": {},
   "source": [
    "<img src=\"images/Unit6/Unit6MCQ2.png\" alt=\"Alternative text\" />"
   ]
  },
  {
   "attachments": {},
   "cell_type": "markdown",
   "metadata": {},
   "source": [
    "## Answer: E, reason: 如果没有负数，最后return的是一个正数"
   ]
  },
  {
   "attachments": {},
   "cell_type": "markdown",
   "metadata": {},
   "source": [
    "<img src=\"images/Unit6/Unit6MCQ3.png\" alt=\"Alternative text\" />"
   ]
  },
  {
   "attachments": {},
   "cell_type": "markdown",
   "metadata": {},
   "source": [
    "## Answer: E, reason: i++不在结尾，最后会out of range"
   ]
  },
  {
   "attachments": {},
   "cell_type": "markdown",
   "metadata": {},
   "source": [
    "<img src=\"images/Unit6/Unit6MCQ4.png\" alt=\"Alternative text\" />"
   ]
  },
  {
   "attachments": {},
   "cell_type": "markdown",
   "metadata": {},
   "source": [
    "## Answer: C"
   ]
  },
  {
   "attachments": {},
   "cell_type": "markdown",
   "metadata": {},
   "source": [
    "<img src=\"images/Unit6/Unit6MCQ5.png\" alt=\"Alternative text\" />"
   ]
  },
  {
   "attachments": {},
   "cell_type": "markdown",
   "metadata": {},
   "source": [
    "## Answer: C, reason: 改变b也会改变arr 因为 arr储存的是address"
   ]
  },
  {
   "attachments": {},
   "cell_type": "markdown",
   "metadata": {},
   "source": [
    "<img src=\"images/Unit6/Unit6MCQ6a.png\" alt=\"Alternative text\" />\n",
    "<img src=\"images/Unit6/Unit6MCQ6b.png\" alt=\"Alternative text\" />"
   ]
  },
  {
   "attachments": {},
   "cell_type": "markdown",
   "metadata": {},
   "source": [
    "## Answer: D, 一个Array储存，class object。"
   ]
  },
  {
   "attachments": {},
   "cell_type": "markdown",
   "metadata": {},
   "source": [
    "<img src=\"images/Unit6/Unit6MCQ6c.png\" alt=\"Alternative text\" />"
   ]
  },
  {
   "attachments": {},
   "cell_type": "markdown",
   "metadata": {},
   "source": [
    "## Answer: B, Reason: 没有toString method所以III不行"
   ]
  },
  {
   "attachments": {},
   "cell_type": "markdown",
   "metadata": {},
   "source": [
    "<img src=\"images/Unit6/Unit6MCQ6d.png\" alt=\"Alternative text\" />"
   ]
  },
  {
   "attachments": {},
   "cell_type": "markdown",
   "metadata": {},
   "source": [
    "## Answer: C"
   ]
  },
  {
   "attachments": {},
   "cell_type": "markdown",
   "metadata": {},
   "source": [
    "<img src=\"images/Unit6/Unit6MCQ7.png\" alt=\"Alternative text\" />"
   ]
  },
  {
   "attachments": {},
   "cell_type": "markdown",
   "metadata": {},
   "source": [
    "## Answer: E, stuArr储存的都是student object所以III是对的"
   ]
  },
  {
   "attachments": {},
   "cell_type": "markdown",
   "metadata": {},
   "source": [
    "<img src=\"images/Unit6/Unit6MCQ8.png\" alt=\"Alternative text\" />"
   ]
  },
  {
   "attachments": {},
   "cell_type": "markdown",
   "metadata": {},
   "source": [
    "## Answer: B"
   ]
  },
  {
   "attachments": {},
   "cell_type": "markdown",
   "metadata": {},
   "source": [
    "<img src=\"images/Unit6/Unit6MCQ9.png\" alt=\"Alternative text\" />"
   ]
  },
  {
   "attachments": {},
   "cell_type": "markdown",
   "metadata": {},
   "source": [
    "## Answer: D. 但不清楚为什么，只是其他四个选项都是确定是错的所以选的D"
   ]
  },
  {
   "attachments": {},
   "cell_type": "markdown",
   "metadata": {},
   "source": [
    "<img src=\"images/Unit6/Unit6MCQ10.png\" alt=\"Alternative text\" />"
   ]
  },
  {
   "attachments": {},
   "cell_type": "markdown",
   "metadata": {},
   "source": [
    "## Answer: C, reason: for-each loop 在这种情况下不能修改card"
   ]
  },
  {
   "attachments": {},
   "cell_type": "markdown",
   "metadata": {},
   "source": [
    "<img src=\"images/Unit6/Unit6MCQ11.png\" alt=\"Alternative text\" />"
   ]
  },
  {
   "attachments": {},
   "cell_type": "markdown",
   "metadata": {},
   "source": [
    "## Answer: D"
   ]
  },
  {
   "attachments": {},
   "cell_type": "markdown",
   "metadata": {},
   "source": [
    "<img src=\"images/Unit6/Unit6MCQ12.png\" alt=\"Alternative text\" />"
   ]
  },
  {
   "attachments": {},
   "cell_type": "markdown",
   "metadata": {},
   "source": [
    "## Answer: D"
   ]
  },
  {
   "attachments": {},
   "cell_type": "markdown",
   "metadata": {},
   "source": [
    "# Unit6 part2 HW\n",
    "<img src=\"images/Unit6/Unit6part2MCQ1.png\" alt=\"Alternative text\" />"
   ]
  },
  {
   "attachments": {},
   "cell_type": "markdown",
   "metadata": {},
   "source": [
    "## Answer: A"
   ]
  },
  {
   "attachments": {},
   "cell_type": "markdown",
   "metadata": {},
   "source": [
    "<img src=\"images/Unit6/Unit6part2MCQ2a.png\" alt=\"Alternative text\" />\n",
    "<img src=\"images/Unit6/Unit6part2MCQ2b.png\" alt=\"Alternative text\" />\n",
    "<img src=\"images/Unit6/Unit6part2MCQ2c.png\" alt=\"Alternative text\" />"
   ]
  },
  {
   "attachments": {},
   "cell_type": "markdown",
   "metadata": {},
   "source": [
    "## Answer: B"
   ]
  },
  {
   "attachments": {},
   "cell_type": "markdown",
   "metadata": {},
   "source": [
    "<img src=\"images/Unit6/Unit6part2MCQ3.png\" alt=\"Alternative text\" />"
   ]
  },
  {
   "attachments": {},
   "cell_type": "markdown",
   "metadata": {},
   "source": [
    "## Answer: C"
   ]
  },
  {
   "attachments": {},
   "cell_type": "markdown",
   "metadata": {},
   "source": [
    "<img src=\"images/Unit6/Unit6part2MCQ4.png\" alt=\"Alternative text\" />"
   ]
  },
  {
   "attachments": {},
   "cell_type": "markdown",
   "metadata": {},
   "source": [
    "## Answer: A"
   ]
  },
  {
   "attachments": {},
   "cell_type": "markdown",
   "metadata": {},
   "source": [
    "<img src=\"images/Unit6/Unit6part2MCQ5.png\" alt=\"Alternative text\" />"
   ]
  },
  {
   "attachments": {},
   "cell_type": "markdown",
   "metadata": {},
   "source": [
    "## Answer: B"
   ]
  },
  {
   "attachments": {},
   "cell_type": "markdown",
   "metadata": {},
   "source": [
    "<img src=\"images/Unit6/Unit6part2MCQ6.png\" alt=\"Alternative text\" />"
   ]
  },
  {
   "attachments": {},
   "cell_type": "markdown",
   "metadata": {},
   "source": [
    "## Answer: D"
   ]
  },
  {
   "attachments": {},
   "cell_type": "markdown",
   "metadata": {},
   "source": [
    "<img src=\"images/Unit6/Unit6part2MCQ7.png\" alt=\"Alternative text\" />"
   ]
  },
  {
   "attachments": {},
   "cell_type": "markdown",
   "metadata": {},
   "source": [
    "## Answer: C"
   ]
  },
  {
   "attachments": {},
   "cell_type": "markdown",
   "metadata": {},
   "source": [
    "<img src=\"images/Unit6/Unit6part2MCQ8.png\" alt=\"Alternative text\" />"
   ]
  },
  {
   "attachments": {},
   "cell_type": "markdown",
   "metadata": {},
   "source": [
    "## Answer: D"
   ]
  },
  {
   "attachments": {},
   "cell_type": "markdown",
   "metadata": {},
   "source": [
    "<img src=\"images/Unit6/Unit6part2MCQ9a.png\" alt=\"Alternative text\" />\n",
    "<img src=\"images/Unit6/Unit6part2MCQ9b.png\" alt=\"Alternative text\" />"
   ]
  },
  {
   "attachments": {},
   "cell_type": "markdown",
   "metadata": {},
   "source": [
    "## Answer: A"
   ]
  },
  {
   "attachments": {},
   "cell_type": "markdown",
   "metadata": {},
   "source": [
    "<img src=\"images/Unit6/Unit6part2MCQ10.png\" alt=\"Alternative text\" />"
   ]
  },
  {
   "attachments": {},
   "cell_type": "markdown",
   "metadata": {},
   "source": [
    "## Answer: B"
   ]
  },
  {
   "attachments": {},
   "cell_type": "markdown",
   "metadata": {},
   "source": [
    "<img src=\"images/Unit6/Unit6part2MCQ11.png\" alt=\"Alternative text\" />"
   ]
  },
  {
   "attachments": {},
   "cell_type": "markdown",
   "metadata": {},
   "source": [
    "## Answer: A"
   ]
  },
  {
   "attachments": {},
   "cell_type": "markdown",
   "metadata": {},
   "source": [
    "<img src=\"images/Unit6/Unit6part2MCQ12.png\" alt=\"Alternative text\" />"
   ]
  },
  {
   "attachments": {},
   "cell_type": "markdown",
   "metadata": {},
   "source": [
    "## Answer: D"
   ]
  },
  {
   "attachments": {},
   "cell_type": "markdown",
   "metadata": {},
   "source": [
    "<img src=\"images/Unit6/Unit6part2MCQ13a.png\" alt=\"Alternative text\" />\n",
    "<img src=\"images/Unit6/Unit6part2MCQ13b.png\" alt=\"Alternative text\" />"
   ]
  },
  {
   "attachments": {},
   "cell_type": "markdown",
   "metadata": {},
   "source": [
    "## Answer: D"
   ]
  },
  {
   "attachments": {},
   "cell_type": "markdown",
   "metadata": {},
   "source": [
    "<img src=\"images/Unit6/Unit6part2MCQ14a.png\" alt=\"Alternative text\" />\n",
    "<img src=\"images/Unit6/Unit6part2MCQ14b.png\" alt=\"Alternative text\" />"
   ]
  },
  {
   "attachments": {},
   "cell_type": "markdown",
   "metadata": {},
   "source": [
    "## Answer: C"
   ]
  },
  {
   "attachments": {},
   "cell_type": "markdown",
   "metadata": {},
   "source": [
    "<img src=\"images/Unit6/Unit6part2MCQ15a.png\" alt=\"Alternative text\" />\n",
    "<img src=\"images/Unit6/Unit6part2MCQ15b.png\" alt=\"Alternative text\" />"
   ]
  },
  {
   "attachments": {},
   "cell_type": "markdown",
   "metadata": {},
   "source": [
    "## Answer: A"
   ]
  },
  {
   "attachments": {},
   "cell_type": "markdown",
   "metadata": {},
   "source": [
    "<img src=\"images/Unit6/Unit6part2MCQ16.png\" alt=\"Alternative text\" />"
   ]
  },
  {
   "attachments": {},
   "cell_type": "markdown",
   "metadata": {},
   "source": [
    "## Answer: C"
   ]
  },
  {
   "attachments": {},
   "cell_type": "markdown",
   "metadata": {},
   "source": [
    "<img src=\"images/Unit6/Unit6part2MCQ17a.png\" alt=\"Alternative text\" />\n",
    "<img src=\"images/Unit6/Unit6part2MCQ17b.png\" alt=\"Alternative text\" />"
   ]
  },
  {
   "attachments": {},
   "cell_type": "markdown",
   "metadata": {},
   "source": [
    "## Answer: B"
   ]
  },
  {
   "attachments": {},
   "cell_type": "markdown",
   "metadata": {},
   "source": [
    "<img src=\"images/Unit6/Unit6part2MCQ18.png\" alt=\"Alternative text\" />"
   ]
  },
  {
   "attachments": {},
   "cell_type": "markdown",
   "metadata": {},
   "source": [
    "## Answer: B"
   ]
  },
  {
   "attachments": {},
   "cell_type": "markdown",
   "metadata": {},
   "source": [
    "<img src=\"images/Unit6/Unit6part2MCQ19a.png\" alt=\"Alternative text\" />\n",
    "<img src=\"images/Unit6/Unit6part2MCQ19b.png\" alt=\"Alternative text\" />"
   ]
  },
  {
   "attachments": {},
   "cell_type": "markdown",
   "metadata": {},
   "source": [
    "## Answer: D"
   ]
  },
  {
   "attachments": {},
   "cell_type": "markdown",
   "metadata": {},
   "source": [
    "<img src=\"images/Unit6/Unit6part2MCQ20.png\" alt=\"Alternative text\" />"
   ]
  },
  {
   "attachments": {},
   "cell_type": "markdown",
   "metadata": {},
   "source": [
    "## Answer: C"
   ]
  },
  {
   "attachments": {},
   "cell_type": "markdown",
   "metadata": {},
   "source": [
    "<img src=\"images/Unit6/Unit6part2MCQ21a.png\" alt=\"Alternative text\" />\n",
    "<img src=\"images/Unit6/Unit6part2MCQ21b.png\" alt=\"Alternative text\" />"
   ]
  },
  {
   "attachments": {},
   "cell_type": "markdown",
   "metadata": {},
   "source": [
    "## Answer: E"
   ]
  },
  {
   "attachments": {},
   "cell_type": "markdown",
   "metadata": {},
   "source": [
    "<img src=\"images/Unit6/Unit6part2MCQ22.png\" alt=\"Alternative text\" />"
   ]
  },
  {
   "attachments": {},
   "cell_type": "markdown",
   "metadata": {},
   "source": [
    "## Answer: A"
   ]
  },
  {
   "attachments": {},
   "cell_type": "markdown",
   "metadata": {},
   "source": [
    "<img src=\"images/Unit6/Unit6part2MCQ23.png\" alt=\"Alternative text\" />"
   ]
  },
  {
   "attachments": {},
   "cell_type": "markdown",
   "metadata": {},
   "source": [
    "## Answer: C"
   ]
  },
  {
   "attachments": {},
   "cell_type": "markdown",
   "metadata": {},
   "source": [
    "<img src=\"images/Unit6/Unit6part2MCQ24a.png\" alt=\"Alternative text\" />\n",
    "<img src=\"images/Unit6/Unit6part2MCQ24b.png\" alt=\"Alternative text\" />"
   ]
  },
  {
   "attachments": {},
   "cell_type": "markdown",
   "metadata": {},
   "source": [
    "## Answer: A"
   ]
  },
  {
   "attachments": {},
   "cell_type": "markdown",
   "metadata": {},
   "source": [
    "<img src=\"images/Unit6/Unit6part2MCQ25.png\" alt=\"Alternative text\" />"
   ]
  },
  {
   "attachments": {},
   "cell_type": "markdown",
   "metadata": {},
   "source": [
    "## Answer: A"
   ]
  },
  {
   "attachments": {},
   "cell_type": "markdown",
   "metadata": {},
   "source": [
    "<img src=\"images/Unit6/Unit6part2MCQ26.png\" alt=\"Alternative text\" />"
   ]
  },
  {
   "attachments": {},
   "cell_type": "markdown",
   "metadata": {},
   "source": [
    "## Answer: B"
   ]
  },
  {
   "attachments": {},
   "cell_type": "markdown",
   "metadata": {},
   "source": [
    "<img src=\"images/Unit6/Unit6part2MCQ27.png\" alt=\"Alternative text\" />"
   ]
  },
  {
   "attachments": {},
   "cell_type": "markdown",
   "metadata": {},
   "source": [
    "## Answer: C"
   ]
  },
  {
   "attachments": {},
   "cell_type": "markdown",
   "metadata": {},
   "source": [
    "<img src=\"images/Unit6/Unit6part2MCQ28.png\" alt=\"Alternative text\" />"
   ]
  },
  {
   "attachments": {},
   "cell_type": "markdown",
   "metadata": {},
   "source": [
    "## Answer: A"
   ]
  },
  {
   "attachments": {},
   "cell_type": "markdown",
   "metadata": {},
   "source": [
    "<img src=\"images/Unit6/Unit6part2MCQ29a.png\" alt=\"Alternative text\" />"
   ]
  },
  {
   "attachments": {},
   "cell_type": "markdown",
   "metadata": {},
   "source": [
    "## Answer: C"
   ]
  },
  {
   "attachments": {},
   "cell_type": "markdown",
   "metadata": {},
   "source": [
    "<img src=\"images/Unit6/Unit6part2MCQ30a.png\" alt=\"Alternative text\" />\n",
    "<img src=\"images/Unit6/Unit6part2MCQ30b.png\" alt=\"Alternative text\" />"
   ]
  },
  {
   "attachments": {},
   "cell_type": "markdown",
   "metadata": {},
   "source": [
    "## Answer: A"
   ]
  },
  {
   "attachments": {},
   "cell_type": "markdown",
   "metadata": {},
   "source": [
    "<img src=\"images/Unit6/Unit6part2MCQ31.png\" alt=\"Alternative text\" />"
   ]
  },
  {
   "attachments": {},
   "cell_type": "markdown",
   "metadata": {},
   "source": [
    "## Answer: B"
   ]
  },
  {
   "attachments": {},
   "cell_type": "markdown",
   "metadata": {},
   "source": [
    "<img src=\"images/Unit6/Unit6part2MCQ32.png\" alt=\"Alternative text\" />"
   ]
  },
  {
   "attachments": {},
   "cell_type": "markdown",
   "metadata": {},
   "source": [
    "## Answer: B"
   ]
  },
  {
   "attachments": {},
   "cell_type": "markdown",
   "metadata": {},
   "source": [
    "## Unit6 FRQ 1-3\n",
    "<img src=\"images/Unit6/Unit6FRQ1.png\" alt=\"Alternative text\" />"
   ]
  },
  {
   "cell_type": "code",
   "execution_count": null,
   "metadata": {
    "vscode": {
     "languageId": "java"
    }
   },
   "outputs": [],
   "source": [
    "public boolean isLevelTrailSegment(int start, int end){\n",
    "    int max = markers[start];\n",
    "    int min = markers[start];\n",
    "    for (i = start; i <= end; i++){\n",
    "        if(markers[i] < min){\n",
    "            min = markers[i];\n",
    "        }\n",
    "        else if (marker[i] > max){\n",
    "            max = markers[i];\n",
    "        }\n",
    "    }\n",
    "    return (max - min) <= 10;\n",
    "}"
   ]
  },
  {
   "attachments": {},
   "cell_type": "markdown",
   "metadata": {},
   "source": [
    "<img src=\"images/Unit6/Unit6FRQ2.png\" alt=\"Alternative text\" />"
   ]
  },
  {
   "cell_type": "code",
   "execution_count": null,
   "metadata": {
    "vscode": {
     "languageId": "java"
    }
   },
   "outputs": [],
   "source": [
    "public boolean isDifficult(){\n",
    "    int counter = 0;\n",
    "    for (i = 1, i < markers.length; i++){\n",
    "        if (math.abs(markers[i]-markers[i-1]) >= 30){\n",
    "            counter ++;\n",
    "        }\n",
    "    }\n",
    "    return counter >= 3;\n",
    "}"
   ]
  },
  {
   "attachments": {},
   "cell_type": "markdown",
   "metadata": {},
   "source": [
    "<img src=\"images/Unit6/Unit6FRQ3.png\" alt=\"Alternative text\" />"
   ]
  },
  {
   "cell_type": "code",
   "execution_count": null,
   "metadata": {
    "vscode": {
     "languageId": "java"
    }
   },
   "outputs": [],
   "source": [
    "public int limitAmplitude(int limit){\n",
    "    int counter = 0;\n",
    "    for (i = 0; i < samples.length; i++){\n",
    "        if (samples[i] > limit){\n",
    "            samples[i] = limit;\n",
    "            counter++;\n",
    "        }\n",
    "        else if (samples[i] < -1*limit){\n",
    "            samples[i] = -1*limit;\n",
    "            counter++;\n",
    "        }\n",
    "    }\n",
    "    return counter;\n",
    "}"
   ]
  },
  {
   "attachments": {},
   "cell_type": "markdown",
   "metadata": {},
   "source": [
    "<img src=\"images/Unit6/Unit6FRQ4.png\" alt=\"Alternative text\" />"
   ]
  },
  {
   "cell_type": "code",
   "execution_count": null,
   "metadata": {
    "vscode": {
     "languageId": "java"
    }
   },
   "outputs": [],
   "source": [
    "public void trimSilenceFromBeginning(){\n",
    "    int counter = 0;\n",
    "    for (i=0; i < samples.length && (samples[i] == 0); i++){\n",
    "        counter++;\n",
    "    }\n",
    "    int[] secondArray = new int[samples.length - counter];\n",
    "    for (k=0; k < secondArray.length; k++){\n",
    "        secondArray[k] = samples[counter + k];\n",
    "    }\n",
    "    samples = secondArray;\n",
    "}"
   ]
  },
  {
   "attachments": {},
   "cell_type": "markdown",
   "metadata": {},
   "source": [
    "<img src=\"images/Unit6/Unit6FRQ5.png\" alt=\"Alternative text\" />"
   ]
  },
  {
   "cell_type": "code",
   "execution_count": null,
   "metadata": {
    "vscode": {
     "languageId": "java"
    }
   },
   "outputs": [],
   "source": [
    "public TokenPass(int playerCount){\n",
    "    board = new int[playerCount];\n",
    "    for (i=0, i<board.length; i++){\n",
    "        board[i] = (int) (math.random() * 10) + 1;\n",
    "    }\n",
    "    currentPlayer = (int) (math.random() * playerCount);\n",
    "}"
   ]
  },
  {
   "attachments": {},
   "cell_type": "markdown",
   "metadata": {},
   "source": [
    "<img src=\"images/Unit6/Unit6FRQ6.png\" alt=\"Alternative text\" />"
   ]
  },
  {
   "cell_type": "code",
   "execution_count": null,
   "metadata": {
    "vscode": {
     "languageId": "java"
    }
   },
   "outputs": [],
   "source": [
    "public void distributeCurrentPlayerTokens(){\n",
    "    int counter = currentPlayer;\n",
    "    for (i=1, i<=board[currentPlayer], i++){\n",
    "        if ((counter)%(board.length -1) != 0){\n",
    "            board[currentPlayer] -= 1;\n",
    "            counter ++;\n",
    "            board[counter] += 1;\n",
    "        }\n",
    "        else if ((counter)%(board.length -1) == 0){\n",
    "            board[currentPlayer] -= 1;\n",
    "            counter = 0;\n",
    "            board[counter] += 1;\n",
    "        }\n",
    "    }\n",
    "}"
   ]
  },
  {
   "attachments": {},
   "cell_type": "markdown",
   "metadata": {},
   "source": [
    "# Unit7 HW"
   ]
  },
  {
   "attachments": {},
   "cell_type": "markdown",
   "metadata": {},
   "source": [
    "<img src=\"images/Unit7/Unit7MCQ1.png\" alt=\"Alternative text\" />"
   ]
  },
  {
   "attachments": {},
   "cell_type": "markdown",
   "metadata": {},
   "source": [
    "## Answer: D, 更详细"
   ]
  },
  {
   "attachments": {},
   "cell_type": "markdown",
   "metadata": {},
   "source": [
    "<img src=\"images/Unit7/Unit7MCQ2.png\" alt=\"Alternative text\" />"
   ]
  },
  {
   "attachments": {},
   "cell_type": "markdown",
   "metadata": {},
   "source": [
    "## Answer: A"
   ]
  },
  {
   "attachments": {},
   "cell_type": "markdown",
   "metadata": {},
   "source": [
    "<img src=\"images/Unit7/Unit7MCQ3.png\" alt=\"Alternative text\" />"
   ]
  },
  {
   "attachments": {},
   "cell_type": "markdown",
   "metadata": {},
   "source": [
    "## Answer: B, ArrayList 是 List 的子类"
   ]
  },
  {
   "attachments": {},
   "cell_type": "markdown",
   "metadata": {},
   "source": [
    "<img src=\"images/Unit7/Unit7MCQ4.png\" alt=\"Alternative text\" />"
   ]
  },
  {
   "attachments": {},
   "cell_type": "markdown",
   "metadata": {},
   "source": [
    "## Answer: E"
   ]
  },
  {
   "attachments": {},
   "cell_type": "markdown",
   "metadata": {},
   "source": [
    "<img src=\"images/Unit7/Unit7MCQ5.png\" alt=\"Alternative text\" />"
   ]
  },
  {
   "attachments": {},
   "cell_type": "markdown",
   "metadata": {},
   "source": [
    "## Answer: C"
   ]
  },
  {
   "attachments": {},
   "cell_type": "markdown",
   "metadata": {},
   "source": [
    "<img src=\"images/Unit7/Unit7MCQ6a.png\" alt=\"Alternative text\" />\n",
    "<img src=\"images/Unit7/Unit7MCQ6b.png\" alt=\"Alternative text\" />"
   ]
  },
  {
   "attachments": {},
   "cell_type": "markdown",
   "metadata": {},
   "source": [
    "## Answer: A"
   ]
  },
  {
   "attachments": {},
   "cell_type": "markdown",
   "metadata": {},
   "source": [
    "<img src=\"images/Unit7/Unit7MCQ7.png\" alt=\"Alternative text\" />"
   ]
  },
  {
   "attachments": {},
   "cell_type": "markdown",
   "metadata": {},
   "source": [
    "## Answer: A, 左边的Object没有用，但右边的set还是执行了"
   ]
  },
  {
   "attachments": {},
   "cell_type": "markdown",
   "metadata": {},
   "source": [
    "<img src=\"images/Unit7/Unit7MCQ8a.png\" alt=\"Alternative text\" />\n",
    "<img src=\"images/Unit7/Unit7MCQ8b.png\" alt=\"Alternative text\" />"
   ]
  },
  {
   "attachments": {},
   "cell_type": "markdown",
   "metadata": {},
   "source": [
    "## Answer: E "
   ]
  },
  {
   "attachments": {},
   "cell_type": "markdown",
   "metadata": {},
   "source": [
    "<img src=\"images/Unit7/Unit7MCQ9.png\" alt=\"Alternative text\" />"
   ]
  },
  {
   "attachments": {},
   "cell_type": "markdown",
   "metadata": {},
   "source": [
    "## Answer: D, getValue出来的是double1.而double可以直接用=="
   ]
  },
  {
   "attachments": {},
   "cell_type": "markdown",
   "metadata": {},
   "source": [
    "<img src=\"images/Unit7/Unit7MCQ10a.png\" alt=\"Alternative text\" />\n",
    "<img src=\"images/Unit7/Unit7MCQ10b.png\" alt=\"Alternative text\" />\n"
   ]
  },
  {
   "attachments": {},
   "cell_type": "markdown",
   "metadata": {},
   "source": [
    "## Answer: E"
   ]
  },
  {
   "attachments": {},
   "cell_type": "markdown",
   "metadata": {},
   "source": [
    "<img src=\"images/Unit7/Unit7MCQ11.png\" alt=\"Alternative text\" />\n"
   ]
  },
  {
   "attachments": {},
   "cell_type": "markdown",
   "metadata": {},
   "source": [
    "## Answer: E"
   ]
  },
  {
   "attachments": {},
   "cell_type": "markdown",
   "metadata": {},
   "source": [
    "<img src=\"images/Unit7/Unit7MCQ12a.png\" alt=\"Alternative text\" />\n",
    "<img src=\"images/Unit7/Unit7MCQ12b.png\" alt=\"Alternative text\" />\n",
    "\n"
   ]
  },
  {
   "attachments": {},
   "cell_type": "markdown",
   "metadata": {},
   "source": [
    "## Answer: C"
   ]
  },
  {
   "attachments": {},
   "cell_type": "markdown",
   "metadata": {},
   "source": [
    "<img src=\"images/Unit7/Unit7MCQ13.png\" alt=\"Alternative text\" />\n"
   ]
  },
  {
   "attachments": {},
   "cell_type": "markdown",
   "metadata": {},
   "source": [
    "## Answer: C, II从右往左所以remove不会改变element的index顺序。只有I会skip一些element"
   ]
  },
  {
   "attachments": {},
   "cell_type": "markdown",
   "metadata": {},
   "source": [
    "<img src=\"images/Unit7/Unit7MCQ14.png\" alt=\"Alternative text\" />\n"
   ]
  },
  {
   "attachments": {},
   "cell_type": "markdown",
   "metadata": {},
   "source": [
    "## Answer: B"
   ]
  },
  {
   "attachments": {},
   "cell_type": "markdown",
   "metadata": {},
   "source": [
    "<img src=\"images/Unit7/Unit7MCQ15.png\" alt=\"Alternative text\" />\n"
   ]
  },
  {
   "attachments": {},
   "cell_type": "markdown",
   "metadata": {},
   "source": [
    "## Answer: E"
   ]
  },
  {
   "attachments": {},
   "cell_type": "markdown",
   "metadata": {},
   "source": [
    "<img src=\"images/Unit7/Unit7MCQ16a.png\" alt=\"Alternative text\" />\n"
   ]
  },
  {
   "attachments": {},
   "cell_type": "markdown",
   "metadata": {},
   "source": [
    "## Answer: A"
   ]
  },
  {
   "attachments": {},
   "cell_type": "markdown",
   "metadata": {},
   "source": [
    "<img src=\"images/Unit7/Unit7MCQ17.png\" alt=\"Alternative text\" />\n"
   ]
  },
  {
   "attachments": {},
   "cell_type": "markdown",
   "metadata": {},
   "source": [
    "## Answer: E"
   ]
  },
  {
   "attachments": {},
   "cell_type": "markdown",
   "metadata": {},
   "source": [
    "<img src=\"images/Unit7/Unit7MCQ18.png\" alt=\"Alternative text\" />\n"
   ]
  },
  {
   "attachments": {},
   "cell_type": "markdown",
   "metadata": {},
   "source": [
    "## Answer: D"
   ]
  },
  {
   "attachments": {},
   "cell_type": "markdown",
   "metadata": {},
   "source": [
    "<img src=\"images/Unit7/Unit7MCQ19.png\" alt=\"Alternative text\" />\n"
   ]
  },
  {
   "attachments": {},
   "cell_type": "markdown",
   "metadata": {},
   "source": [
    "## Answer: E"
   ]
  },
  {
   "attachments": {},
   "cell_type": "markdown",
   "metadata": {},
   "source": [
    "<img src=\"images/Unit7/Unit7MCQ20a.png\" alt=\"Alternative text\" />\n",
    "<img src=\"images/Unit7/Unit7MCQ20b.png\" alt=\"Alternative text\" />\n",
    "\n"
   ]
  },
  {
   "attachments": {},
   "cell_type": "markdown",
   "metadata": {},
   "source": [
    "## Answer: B"
   ]
  },
  {
   "attachments": {},
   "cell_type": "markdown",
   "metadata": {},
   "source": [
    "<img src=\"images/Unit7/Unit7MCQ21.png\" alt=\"Alternative text\" />\n"
   ]
  },
  {
   "attachments": {},
   "cell_type": "markdown",
   "metadata": {},
   "source": [
    "## Answer: D"
   ]
  },
  {
   "attachments": {},
   "cell_type": "markdown",
   "metadata": {},
   "source": [
    "<img src=\"images/Unit7/Unit7MCQ22.png\" alt=\"Alternative text\" />\n"
   ]
  },
  {
   "attachments": {},
   "cell_type": "markdown",
   "metadata": {},
   "source": [
    "## Answer: C"
   ]
  },
  {
   "attachments": {},
   "cell_type": "markdown",
   "metadata": {},
   "source": [
    "<img src=\"images/Unit7/Unit7MCQ23a.png\" alt=\"Alternative text\" />\n",
    "<img src=\"images/Unit7/Unit7MCQ23b.png\" alt=\"Alternative text\" />\n"
   ]
  },
  {
   "attachments": {},
   "cell_type": "markdown",
   "metadata": {},
   "source": [
    "## Answer: A"
   ]
  },
  {
   "attachments": {},
   "cell_type": "markdown",
   "metadata": {},
   "source": [
    "<img src=\"images/Unit7/Unit7MCQ24.png\" alt=\"Alternative text\" />\n"
   ]
  },
  {
   "attachments": {},
   "cell_type": "markdown",
   "metadata": {},
   "source": [
    "## Answer: C"
   ]
  },
  {
   "attachments": {},
   "cell_type": "markdown",
   "metadata": {},
   "source": [
    "## FRQ 29-30\n",
    "<img src=\"images/Unit7/Unit7FRQ1a.png\" alt=\"Alternative text\" />\n",
    "<img src=\"images/Unit7/Unit7FRQ1b.png\" alt=\"Alternative text\" />\n",
    "<img src=\"images/Unit7/Unit7FRQ1c.png\" alt=\"Alternative text\" />\n"
   ]
  },
  {
   "cell_type": "code",
   "execution_count": null,
   "metadata": {
    "vscode": {
     "languageId": "java"
    }
   },
   "outputs": [],
   "source": [
    "private int getIndexForFit(NumberTile tile){\n",
    "    if (board.size() == 0){\n",
    "        return 0;\n",
    "    }\n",
    "    for (i=0; i<board.size(); i++){\n",
    "        if (((board.get(i)).getRight()).equals(tile.getLeft()) && ((board.get(i+1)).getLeft()).equals(tile.getRight())){\n",
    "            return i+1;\n",
    "        }\n",
    "        else if (i == board.size()-1){\n",
    "            if (((board.get(i)).getRight()).equals(tile.getLeft())){\n",
    "                return i;\n",
    "            }\n",
    "        }\n",
    "        else{\n",
    "            return -1;\n",
    "        }\n",
    "    }\n",
    "}"
   ]
  },
  {
   "attachments": {},
   "cell_type": "markdown",
   "metadata": {},
   "source": [
    "<img src=\"images/Unit7/Unit7FRQ2.png\" alt=\"Alternative text\" />\n"
   ]
  },
  {
   "cell_type": "code",
   "execution_count": null,
   "metadata": {
    "vscode": {
     "languageId": "java"
    }
   },
   "outputs": [],
   "source": [
    "public boolean insertTile(NumberTile tile){\n",
    "    int index = board.getIndexForFit(tile);\n",
    "    return board.add(index, tile);\n",
    "}"
   ]
  },
  {
   "attachments": {},
   "cell_type": "markdown",
   "metadata": {},
   "source": [
    "<img src=\"images/Unit7/Unit7FRQ3a.png\" alt=\"Alternative text\" />\n",
    "<img src=\"images/Unit7/Unit7FRQ3b.png\" alt=\"Alternative text\" />\n",
    "\n",
    "\n"
   ]
  },
  {
   "cell_type": "code",
   "execution_count": null,
   "metadata": {
    "vscode": {
     "languageId": "java"
    }
   },
   "outputs": [],
   "source": [
    "public int getTotalBoxes(){\n",
    "    int total = 0;\n",
    "    for (CookieOrder order : orders){\n",
    "        total += order.getNumBoxes();\n",
    "    }\n",
    "    return total;\n",
    "}"
   ]
  },
  {
   "attachments": {},
   "cell_type": "markdown",
   "metadata": {},
   "source": [
    "<img src=\"images/Unit7/Unit7FRQ4.png\" alt=\"Alternative text\" />\n"
   ]
  },
  {
   "cell_type": "code",
   "execution_count": null,
   "metadata": {
    "vscode": {
     "languageId": "java"
    }
   },
   "outputs": [],
   "source": [
    "public int removeVariety(String cookieVar){\n",
    "    int total = 0;\n",
    "    for (i=0; i < goodies.size(); i++){\n",
    "        if (((goodies.get(i)).getVariety()).equals(cookieVar) > -1){\n",
    "            total += (goodies.get(i)).getNumBoxes();\n",
    "            goodies.remove(i);\n",
    "            i--;\n",
    "        }\n",
    "    }\n",
    "    return total;\n",
    "}"
   ]
  },
  {
   "cell_type": "code",
   "execution_count": 2,
   "metadata": {
    "vscode": {
     "languageId": "java"
    }
   },
   "outputs": [
    {
     "ename": "CompilationException",
     "evalue": "",
     "output_type": "error",
     "traceback": [
      "\u001b[1m\u001b[30m|   \u001b[1m\u001b[30mArrayList<Integer> numList = \u001b[0m\u001b[1m\u001b[30m\u001b[41mnew ArrayList<Integer>(1, 2, 2, 3)\u001b[0m\u001b[1m\u001b[30m;\u001b[0m",
      "\u001b[1m\u001b[31mno suitable constructor found for ArrayList(int,int,int,int)\u001b[0m",
      "\u001b[1m\u001b[31m    constructor java.util.ArrayList.ArrayList(int) is not applicable\u001b[0m",
      "\u001b[1m\u001b[31m      (actual and formal argument lists differ in length)\u001b[0m",
      "\u001b[1m\u001b[31m    constructor java.util.ArrayList.ArrayList() is not applicable\u001b[0m",
      "\u001b[1m\u001b[31m      (actual and formal argument lists differ in length)\u001b[0m",
      "\u001b[1m\u001b[31m    constructor java.util.ArrayList.ArrayList(java.util.Collection<? extends java.lang.Integer>) is not applicable\u001b[0m",
      "\u001b[1m\u001b[31m      (actual and formal argument lists differ in length)\u001b[0m",
      ""
     ]
    }
   ],
   "source": [
    "ArrayList<Integer> numList = new ArrayList<Integer>(1, 2, 2, 3);\n",
    "int val = 4;\n",
    "int index = 0;\n",
    "while(val > numList.get(index)){\n",
    "    index++;\n",
    "}\n",
    "numList.add(index, val)\n",
    "System.out.println(numList);"
   ]
  },
  {
   "attachments": {},
   "cell_type": "markdown",
   "metadata": {},
   "source": [
    "# Unit 9 MCQ HW\n",
    "<img src=\"images/Unit9/Unit9MCQ1.png\" alt=\"Alternative text\" />\n"
   ]
  },
  {
   "attachments": {},
   "cell_type": "markdown",
   "metadata": {},
   "source": [
    "## Answer: E, \".\"并不会分割，所以ob.compareTo(intOb)是一个整体"
   ]
  },
  {
   "attachments": {},
   "cell_type": "markdown",
   "metadata": {},
   "source": [
    "<img src=\"images/Unit9/Unit9MCQ2.png\" alt=\"Alternative text\" />\n"
   ]
  },
  {
   "attachments": {},
   "cell_type": "markdown",
   "metadata": {},
   "source": [
    "## Answer: A"
   ]
  },
  {
   "attachments": {},
   "cell_type": "markdown",
   "metadata": {},
   "source": [
    "<img src=\"images/Unit9/Unit9MCQ3a.png\" alt=\"Alternative text\" />\n",
    "<img src=\"images/Unit9/Unit9MCQ3b.png\" alt=\"Alternative text\" />\n"
   ]
  },
  {
   "attachments": {},
   "cell_type": "markdown",
   "metadata": {},
   "source": [
    "## Answer: A"
   ]
  },
  {
   "attachments": {},
   "cell_type": "markdown",
   "metadata": {},
   "source": [
    "<img src=\"images/Unit9/Unit9MCQ4.png\" alt=\"Alternative text\" />\n"
   ]
  },
  {
   "attachments": {},
   "cell_type": "markdown",
   "metadata": {},
   "source": [
    "## Answer: E"
   ]
  },
  {
   "attachments": {},
   "cell_type": "markdown",
   "metadata": {},
   "source": [
    "<img src=\"images/Unit9/Unit9MCQ5a.png\" alt=\"Alternative text\" />\n",
    "<img src=\"images/Unit9/Unit9MCQ5b.png\" alt=\"Alternative text\" />\n",
    "\n"
   ]
  },
  {
   "attachments": {},
   "cell_type": "markdown",
   "metadata": {},
   "source": [
    "## Answer: D"
   ]
  },
  {
   "attachments": {},
   "cell_type": "markdown",
   "metadata": {},
   "source": [
    "<img src=\"images/Unit9/Unit9MCQ6.png\" alt=\"Alternative text\" />\n"
   ]
  },
  {
   "attachments": {},
   "cell_type": "markdown",
   "metadata": {},
   "source": [
    "## Answer: C"
   ]
  },
  {
   "attachments": {},
   "cell_type": "markdown",
   "metadata": {},
   "source": [
    "<img src=\"images/Unit9/Unit9MCQ7.png\" alt=\"Alternative text\" />\n"
   ]
  },
  {
   "attachments": {},
   "cell_type": "markdown",
   "metadata": {},
   "source": [
    "## Answer: D"
   ]
  },
  {
   "attachments": {},
   "cell_type": "markdown",
   "metadata": {},
   "source": [
    "<img src=\"images/Unit9/Unit9MCQ8.png\" alt=\"Alternative text\" />\n"
   ]
  },
  {
   "attachments": {},
   "cell_type": "markdown",
   "metadata": {},
   "source": [
    "## Answer: E super有时不是必要的"
   ]
  },
  {
   "attachments": {},
   "cell_type": "markdown",
   "metadata": {},
   "source": [
    "<img src=\"images/Unit9/Unit9MCQ9.png\" alt=\"Alternative text\" />\n"
   ]
  },
  {
   "attachments": {},
   "cell_type": "markdown",
   "metadata": {},
   "source": [
    "## Answer: D，当两个class中有相同名字的method，不加super默认使用子类class的method"
   ]
  },
  {
   "attachments": {},
   "cell_type": "markdown",
   "metadata": {},
   "source": [
    "<img src=\"images/Unit9/Unit9MCQ10.png\" alt=\"Alternative text\" />\n"
   ]
  },
  {
   "attachments": {},
   "cell_type": "markdown",
   "metadata": {},
   "source": [
    "## Answer: B"
   ]
  },
  {
   "attachments": {},
   "cell_type": "markdown",
   "metadata": {},
   "source": [
    "<img src=\"images/Unit9/Unit9MCQ11.png\" alt=\"Alternative text\" />\n"
   ]
  },
  {
   "attachments": {},
   "cell_type": "markdown",
   "metadata": {},
   "source": [
    "## Answer: E, SavingsAccount 中的 addInterest method 不能被父类BankAccount class引用。"
   ]
  },
  {
   "attachments": {},
   "cell_type": "markdown",
   "metadata": {},
   "source": [
    "<img src=\"images/Unit9/Unit9MCQ12.png\" alt=\"Alternative text\" />\n"
   ]
  },
  {
   "attachments": {},
   "cell_type": "markdown",
   "metadata": {},
   "source": [
    "## Answer: D"
   ]
  },
  {
   "attachments": {},
   "cell_type": "markdown",
   "metadata": {},
   "source": [
    "<img src=\"images/Unit9/Unit9MCQ13.png\" alt=\"Alternative text\" />\n"
   ]
  },
  {
   "attachments": {},
   "cell_type": "markdown",
   "metadata": {},
   "source": [
    "## Answer: C"
   ]
  },
  {
   "attachments": {},
   "cell_type": "markdown",
   "metadata": {},
   "source": [
    "<img src=\"images/Unit9/Unit9MCQ14.png\" alt=\"Alternative text\" />\n"
   ]
  },
  {
   "attachments": {},
   "cell_type": "markdown",
   "metadata": {},
   "source": [
    "## Answer: D"
   ]
  },
  {
   "attachments": {},
   "cell_type": "markdown",
   "metadata": {},
   "source": [
    "<img src=\"images/Unit9/Unit9MCQ15a.png\" alt=\"Alternative text\" />\n",
    "<img src=\"images/Unit9/Unit9MCQ15b.png\" alt=\"Alternative text\" />\n",
    "\n"
   ]
  },
  {
   "attachments": {},
   "cell_type": "markdown",
   "metadata": {},
   "source": [
    "## Answer: B, private method 不能被其他class引用。即使有extends也不行"
   ]
  },
  {
   "attachments": {},
   "cell_type": "markdown",
   "metadata": {},
   "source": [
    "<img src=\"images/Unit9/Unit9MCQ16.png\" alt=\"Alternative text\" />\n"
   ]
  },
  {
   "attachments": {},
   "cell_type": "markdown",
   "metadata": {},
   "source": [
    "## Answer: A， data特指variable"
   ]
  },
  {
   "attachments": {},
   "cell_type": "markdown",
   "metadata": {},
   "source": [
    "<img src=\"images/Unit9/Unit9MCQ17.png\" alt=\"Alternative text\" />\n"
   ]
  },
  {
   "attachments": {},
   "cell_type": "markdown",
   "metadata": {},
   "source": [
    "## Answer: E"
   ]
  },
  {
   "attachments": {},
   "cell_type": "markdown",
   "metadata": {},
   "source": [
    "<img src=\"images/Unit9/Unit9MCQ18.png\" alt=\"Alternative text\" />\n"
   ]
  },
  {
   "attachments": {},
   "cell_type": "markdown",
   "metadata": {},
   "source": [
    "## Answer: D, 同名函数调用的时候会先调用后面的也就是Thing2中的cal method"
   ]
  },
  {
   "attachments": {},
   "cell_type": "markdown",
   "metadata": {},
   "source": [
    "<img src=\"images/Unit9/Unit9MCQ19a.png\" alt=\"Alternative text\" />\n",
    "<img src=\"images/Unit9/Unit9MCQ19b.png\" alt=\"Alternative text\" />\n",
    "\n"
   ]
  },
  {
   "attachments": {},
   "cell_type": "markdown",
   "metadata": {},
   "source": [
    "## Answer: B"
   ]
  },
  {
   "attachments": {},
   "cell_type": "markdown",
   "metadata": {},
   "source": [
    "<img src=\"images/Unit9/Unit9MCQ20a.png\" alt=\"Alternative text\" />\n",
    "<img src=\"images/Unit9/Unit9MCQ20b.png\" alt=\"Alternative text\" />\n",
    "\n"
   ]
  },
  {
   "attachments": {},
   "cell_type": "markdown",
   "metadata": {},
   "source": [
    "## Answer: B"
   ]
  },
  {
   "attachments": {},
   "cell_type": "markdown",
   "metadata": {},
   "source": [
    "<img src=\"images/Unit9/Unit9MCQ21a.png\" alt=\"Alternative text\" />\n",
    "<img src=\"images/Unit9/Unit9MCQ21b.png\" alt=\"Alternative text\" />\n"
   ]
  },
  {
   "attachments": {},
   "cell_type": "markdown",
   "metadata": {},
   "source": [
    "## Answer: B"
   ]
  },
  {
   "attachments": {},
   "cell_type": "markdown",
   "metadata": {},
   "source": [
    "<img src=\"images/Unit9/Unit9MCQ22.png\" alt=\"Alternative text\" />\n"
   ]
  },
  {
   "attachments": {},
   "cell_type": "markdown",
   "metadata": {},
   "source": [
    "## Answer: A"
   ]
  },
  {
   "attachments": {},
   "cell_type": "markdown",
   "metadata": {},
   "source": [
    "<img src=\"images/Unit9/Unit9MCQ23a.png\" alt=\"Alternative text\" />\n",
    "<img src=\"images/Unit9/Unit9MCQ23b.png\" alt=\"Alternative text\" />\n",
    "\n"
   ]
  },
  {
   "attachments": {},
   "cell_type": "markdown",
   "metadata": {},
   "source": [
    "## Answer: B"
   ]
  },
  {
   "attachments": {},
   "cell_type": "markdown",
   "metadata": {},
   "source": [
    "<img src=\"images/Unit9/Unit9MCQ24a.png\" alt=\"Alternative text\" />\n",
    "<img src=\"images/Unit9/Unit9MCQ24b.png\" alt=\"Alternative text\" />\n",
    "\n"
   ]
  },
  {
   "attachments": {},
   "cell_type": "markdown",
   "metadata": {},
   "source": [
    "## Answer: D"
   ]
  },
  {
   "attachments": {},
   "cell_type": "markdown",
   "metadata": {},
   "source": [
    "<img src=\"images/Unit9/Unit9MCQ25a.png\" alt=\"Alternative text\" />\n",
    "<img src=\"images/Unit9/Unit9MCQ25b.png\" alt=\"Alternative text\" />\n",
    "\n"
   ]
  },
  {
   "attachments": {},
   "cell_type": "markdown",
   "metadata": {},
   "source": [
    "## Answer: B,  同名函数调用的时候会先调用后面的也就是Jersey中的speak method"
   ]
  },
  {
   "attachments": {},
   "cell_type": "markdown",
   "metadata": {},
   "source": [
    "<img src=\"images/Unit9/Unit9MCQ26a.png\" alt=\"Alternative text\" />\n",
    "<img src=\"images/Unit9/Unit9MCQ26b.png\" alt=\"Alternative text\" />\n",
    "<img src=\"images/Unit9/Unit9MCQ26c.png\" alt=\"Alternative text\" />\n",
    "\n"
   ]
  },
  {
   "attachments": {},
   "cell_type": "markdown",
   "metadata": {},
   "source": [
    "## Answer: A"
   ]
  },
  {
   "attachments": {},
   "cell_type": "markdown",
   "metadata": {},
   "source": [
    "# Unit 9 HW"
   ]
  },
  {
   "attachments": {},
   "cell_type": "markdown",
   "metadata": {},
   "source": [
    "## MCQ\n",
    "16. C Correct answer: A\n",
    "17. B\n",
    "18. A Correct answer: E\n",
    "19. C\n",
    "20. B\n",
    "21. D\n",
    "22. E\n",
    "23. E\n",
    "24. B\n",
    "25. D or E Correct answer: D\n",
    "26. ? Correct answer: C\n",
    "27. A\n",
    "28. C\n",
    "29. B\n",
    "30. ? Correct answer: D\n",
    "31. E\n",
    "32. C Correct answer: E"
   ]
  },
  {
   "attachments": {},
   "cell_type": "markdown",
   "metadata": {},
   "source": [
    "## FRQ #44"
   ]
  },
  {
   "cell_type": "code",
   "execution_count": null,
   "metadata": {
    "vscode": {
     "languageId": "java"
    }
   },
   "outputs": [],
   "source": [
    "//part a\n",
    "public class RandomStringChooser{\n",
    "    private String[] wordArray;\n",
    "    public int num =0;\n",
    "\n",
    "    public RandomStringChooser(String[] str){\n",
    "        wordArray = str;\n",
    "    }\n",
    "\n",
    "    public String getNext(){\n",
    "        String a = \"\";\n",
    "        if (wordArray[num] != null){\n",
    "            a = wordArray[num];\n",
    "            num++;\n",
    "        }\n",
    "        else{\n",
    "            a = \"None\";\n",
    "        }\n",
    "        return a;\n",
    "    }\n",
    "}\n",
    "RandomStringChooser sChooser = new RandomStringChooser(wordArray);"
   ]
  },
  {
   "cell_type": "code",
   "execution_count": null,
   "metadata": {
    "vscode": {
     "languageId": "java"
    }
   },
   "outputs": [],
   "source": [
    "// part b\n",
    "\n",
    "public RandomLetterChooser(String str){\n",
    "    super.(getSingleLetters(str));\n",
    "}"
   ]
  },
  {
   "attachments": {},
   "cell_type": "markdown",
   "metadata": {},
   "source": [
    "#### 2015 Computer Science A Released Exam FRQ"
   ]
  },
  {
   "attachments": {},
   "cell_type": "markdown",
   "metadata": {},
   "source": [
    "#### 1a."
   ]
  },
  {
   "cell_type": "code",
   "execution_count": 12,
   "metadata": {
    "vscode": {
     "languageId": "java"
    }
   },
   "outputs": [
    {
     "name": "stdout",
     "output_type": "stream",
     "text": [
      "10\n"
     ]
    }
   ],
   "source": [
    "public class DiverseArray{\n",
    "    \n",
    "    public static int arraySum(int[] arr){\n",
    "        int sum = 0;\n",
    "        for (int i = 0; i < arr.length;i++){\n",
    "            sum += arr[i];\n",
    "        }\n",
    "        return sum;\n",
    "    }\n",
    "    \n",
    "    public static void main(String[] args) {\n",
    "        int[]array = {0,1,2,3,4};\n",
    "        System.out.println(arraySum(array));\n",
    "    }\n",
    "}\n",
    "DiverseArray.main(null);"
   ]
  },
  {
   "attachments": {},
   "cell_type": "markdown",
   "metadata": {},
   "source": [
    "#### 1b."
   ]
  },
  {
   "cell_type": "code",
   "execution_count": null,
   "metadata": {
    "vscode": {
     "languageId": "java"
    }
   },
   "outputs": [],
   "source": [
    "public class DiverseArray{\n",
    "    \n",
    "    public static int[] rowSums(int[][] arr2D){\n",
    "        int[] arr = new int[arr2D[0].length];\n",
    "        int sum = 0;\n",
    "        for (int r = 0; r < arr2D.length;r++){\n",
    "            sum = arraySum(arr2D[r]);\n",
    "            arr[r] = sum;\n",
    "        }\n",
    "        return arr;\n",
    "    }\n",
    "    \n",
    "    public static void main(String[] args) {\n",
    "        int[][]array = {{0,1,2,3,4},{5,6,7,8,9},{0,1,2,3,4},{5,6,7,8,9},{0,1,2,3,4}};\n",
    "\n",
    "        for(int num : rowSums(array)){\n",
    "            System.out.println(num);\n",
    "        }\n",
    "    }\n",
    "}\n",
    "DiverseArray.main(null);"
   ]
  },
  {
   "attachments": {},
   "cell_type": "markdown",
   "metadata": {},
   "source": [
    "#### 1c."
   ]
  },
  {
   "cell_type": "code",
   "execution_count": null,
   "metadata": {
    "vscode": {
     "languageId": "java"
    }
   },
   "outputs": [],
   "source": [
    "public class DiverseArray{\n",
    "    \n",
    "    public static boolean isDiverse(int[][] arr2D){\n",
    "        int[] diverse = rowSums(arr2D);\n",
    "        for (int i = 0; i<diverse.length-1;i++){\n",
    "            for(int j =i; j <diverse.length-1; j++){\n",
    "                if (diverse[j] = diverse[j+1]){\n",
    "                    return false;\n",
    "                }\n",
    "            }\n",
    "        }\n",
    "        return true;\n",
    "    }\n",
    "    \n",
    "    public static void main(String[] args) {\n",
    "        int[][]array = {{0,1,2,3,4},{5,6,7,8,9},{0,1,2,3,4},{5,6,7,8,9},{0,1,2,3,4}};\n",
    "        System.out.println(isDiverse(array));\n",
    "    }\n",
    "}\n",
    "DiverseArray.main(null);"
   ]
  },
  {
   "attachments": {},
   "cell_type": "markdown",
   "metadata": {},
   "source": [
    "#### 2."
   ]
  },
  {
   "cell_type": "code",
   "execution_count": 25,
   "metadata": {
    "vscode": {
     "languageId": "java"
    }
   },
   "outputs": [
    {
     "name": "stdout",
     "output_type": "stream",
     "text": [
      "HA+**"
     ]
    }
   ],
   "source": [
    "public class HiddenWord{\n",
    "    private String guess;\n",
    "\n",
    "    public HiddenWord(String word){\n",
    "        guess = word;\n",
    "    }\n",
    "\n",
    "    public void getHint(String word){\n",
    "        if(guess.length() == word.length()){\n",
    "        for (int i = 0; i < word.length(); i++){\n",
    "            if (guess.substring(i, i+1).equals(word.substring(i, i+1))){\n",
    "                System.out.print(word.substring(i, i+1));\n",
    "            }\n",
    "            else if (guess.indexOf(word.substring(i, i+1)) != -1){\n",
    "                System.out.print(\"+\");\n",
    "            }\n",
    "            else {\n",
    "                System.out.print(\"*\");\n",
    "            }\n",
    "        }\n",
    "        }else{\n",
    "            System.out.println(\"the length doesn't match, please type a new guess\");\n",
    "        }\n",
    "        \n",
    "    }\n",
    "\n",
    "    public static void main(String[] args) {\n",
    "        HiddenWord puzzle = new HiddenWord(\"HARPS\");\n",
    "        puzzle.getHint(\"HAABB\");\n",
    "    }\n",
    "}\n",
    "\n",
    "HiddenWord.main(null);"
   ]
  },
  {
   "attachments": {},
   "cell_type": "markdown",
   "metadata": {},
   "source": [
    "#### 3a."
   ]
  },
  {
   "cell_type": "code",
   "execution_count": null,
   "metadata": {
    "vscode": {
     "languageId": "java"
    }
   },
   "outputs": [],
   "source": [
    "public int getValueAt(int row, int col){\n",
    "    for (int i = 0; i < entries.size(); i++){\n",
    "        if(entries.get(i).getRow() == row && entries.get(i).getCol() == col){\n",
    "            return entries.get(i).getValue();\n",
    "        }\n",
    "        else{\n",
    "            return 0;\n",
    "        }\n",
    "    }\n",
    "}"
   ]
  },
  {
   "attachments": {},
   "cell_type": "markdown",
   "metadata": {},
   "source": [
    "#### 3b."
   ]
  },
  {
   "cell_type": "code",
   "execution_count": 1,
   "metadata": {
    "vscode": {
     "languageId": "java"
    }
   },
   "outputs": [],
   "source": [
    "public void removeColumn(int col){\n",
    "    for (int i = 0; i < entries.size(); i++){\n",
    "        if(entries.get(i).getCol() == col){\n",
    "            entries.remove(i);\n",
    "        }\n",
    "        if (entries.get(i).getCol() > col){\n",
    "            int newRow = entries.get(i).getRow();\n",
    "            int newCol = entries.get(i).getCol()-1;\n",
    "            int newValue = entries.get(i).getValue();\n",
    "            entries.set(i, new SparseArrayEntry(newRow, newCol, newValue));\n",
    "        }\n",
    "    }\n",
    "}"
   ]
  },
  {
   "attachments": {},
   "cell_type": "markdown",
   "metadata": {},
   "source": [
    "#### 4a."
   ]
  },
  {
   "cell_type": "code",
   "execution_count": null,
   "metadata": {
    "vscode": {
     "languageId": "java"
    }
   },
   "outputs": [],
   "source": [
    "public class NumberGroup{\n",
    "    int[]num;\n",
    "\n",
    "    public NumberGroup(){\n",
    "        num = {0,1,2,3,4};\n",
    "    }\n",
    "\n",
    "    public NumberGroup(int[] Array){\n",
    "        num = Array;\n",
    "    }\n",
    "\n",
    "    public boolean contains(int value){\n",
    "        for (int element : num){\n",
    "            if(element == value){\n",
    "                return true;\n",
    "            }\n",
    "            else{\n",
    "                return false;\n",
    "            }\n",
    "        }\n",
    "    }\n",
    "}"
   ]
  },
  {
   "attachments": {},
   "cell_type": "markdown",
   "metadata": {},
   "source": [
    "#### 4b."
   ]
  },
  {
   "cell_type": "code",
   "execution_count": null,
   "metadata": {
    "vscode": {
     "languageId": "java"
    }
   },
   "outputs": [],
   "source": [
    "public class Range extends NumberGroup{\n",
    "    public Range(int min, int max){\n",
    "        int[]num = new int[(max-min)];\n",
    "        for(i = 0; i < (max-min); i++){\n",
    "            num[i] = (min+i);\n",
    "        }\n",
    "        super(num);\n",
    "    }\n",
    "}"
   ]
  },
  {
   "attachments": {},
   "cell_type": "markdown",
   "metadata": {},
   "source": [
    "#### 4c."
   ]
  },
  {
   "cell_type": "code",
   "execution_count": null,
   "metadata": {
    "vscode": {
     "languageId": "java"
    }
   },
   "outputs": [],
   "source": [
    "public boolean contains(int num){\n",
    "    for (NumberGroup group : groupList){\n",
    "        return group.contains(num);\n",
    "    }\n",
    "}"
   ]
  },
  {
   "attachments": {},
   "cell_type": "markdown",
   "metadata": {},
   "source": [
    "#### FRQ stepTracker"
   ]
  },
  {
   "cell_type": "code",
   "execution_count": 11,
   "metadata": {
    "vscode": {
     "languageId": "java"
    }
   },
   "outputs": [
    {
     "data": {
      "text/plain": [
       "0"
      ]
     },
     "execution_count": 11,
     "metadata": {},
     "output_type": "execute_result"
    }
   ],
   "source": [
    "public class StepTracker{\n",
    "    private int minimumstep = 0;\n",
    "    private ArrayList<Integer> days = new ArrayList<Integer>();\n",
    "\n",
    "    public StepTracker(int num){\n",
    "        minimumstep = num;\n",
    "    }\n",
    "\n",
    "    public void addDailySteps(int num){\n",
    "        days.add(num);\n",
    "    }\n",
    "\n",
    "    public int activeDays(){\n",
    "        int active = 0;\n",
    "        if (days.size() > 0){\n",
    "        for (int i = 0; i < days.size(); i++){\n",
    "            if(days.get(i) >= minimumstep){\n",
    "                active++;\n",
    "            }\n",
    "        }\n",
    "        }\n",
    "        return active;\n",
    "        \n",
    "    }\n",
    "\n",
    "    public double averageSteps(){\n",
    "        double num = 0;\n",
    "        if(days.size() > 0){\n",
    "        for (int i = 0; i < days.size(); i++){\n",
    "            num += days.get(i);\n",
    "        }\n",
    "        num = (double)num/days.size();\n",
    "        }\n",
    "        return num;\n",
    "    }\n",
    "}\n",
    "\n",
    "StepTracker tr = new StepTracker(10000);\n",
    "tr.activeDays();\n",
    "tr.averageSteps();\n",
    "tr.addDailySteps(9000);\n",
    "tr.addDailySteps(5000);\n",
    "tr.activeDays();"
   ]
  },
  {
   "attachments": {},
   "cell_type": "markdown",
   "metadata": {},
   "source": [
    "### 2022 FRQ"
   ]
  },
  {
   "attachments": {},
   "cell_type": "markdown",
   "metadata": {},
   "source": [
    "#### 1.a"
   ]
  },
  {
   "cell_type": "code",
   "execution_count": 3,
   "metadata": {
    "vscode": {
     "languageId": "java"
    }
   },
   "outputs": [],
   "source": [
    "public int getScore(){\n",
    "    int sum = 0;\n",
    "    if (levelOne.goalReached()){\n",
    "        if(levelTwo.goalReached()){\n",
    "            if(levelThree.goalReached()){\n",
    "                sum = levelOne.getPoints() + levelTwo.getPoints() + levelThree.getPoints();\n",
    "            }\n",
    "            sum = levelOne.getPoints() + levelTwo.getPoints();\n",
    "        }\n",
    "        sum = levelOne.getPoints();\n",
    "    }\n",
    "    if (isBonus()){\n",
    "        return (sum *= 3);\n",
    "    }\n",
    "    return sum;\n",
    "}"
   ]
  },
  {
   "attachments": {},
   "cell_type": "markdown",
   "metadata": {},
   "source": [
    "#### 1.b"
   ]
  },
  {
   "cell_type": "code",
   "execution_count": 4,
   "metadata": {
    "vscode": {
     "languageId": "java"
    }
   },
   "outputs": [],
   "source": [
    "public int playManyTimes(int num){\n",
    "    int highestScore = 0;\n",
    "    for (i = 0; i < num; i++){\n",
    "        play();\n",
    "        if(getScore() > highestScore){\n",
    "            highestScore = getScore();\n",
    "        }\n",
    "    }\n",
    "    return highestScore;\n",
    "}"
   ]
  },
  {
   "attachments": {},
   "cell_type": "markdown",
   "metadata": {},
   "source": [
    "#### 2"
   ]
  },
  {
   "cell_type": "code",
   "execution_count": 9,
   "metadata": {
    "vscode": {
     "languageId": "java"
    }
   },
   "outputs": [],
   "source": [
    "public class Book\n",
    "{\n",
    "    /** The title of the book */\n",
    "    private String title;\n",
    "    /** The price of the book */\n",
    "    private double price;\n",
    "    /** Creates a new Book with given title and price */\n",
    "    public Book(String bookTitle, double bookPrice){ /* implementation not shown */ }\n",
    "    /** Returns the title of the book */\n",
    "    public String getTitle(){ \n",
    "        return title; \n",
    "    }\n",
    "    /** Returns a string containing the title and price of the Book */\n",
    "    public String getBookInfo()\n",
    "    {\n",
    "        return title + \"-\" + price;\n",
    "    }\n",
    "    // There may be instance variables, constructors, and methods that are not shown.\n",
    "} \n",
    "\n",
    "public class Textbook extends Book{\n",
    "\n",
    "    private int ediNumber;\n",
    "\n",
    "    public Textbook(String bookTitle, double bookPrice, int num){\n",
    "        super(bookTitle, bookPrice);\n",
    "        this.ediNumber = num;\n",
    "    }\n",
    "\n",
    "    public int getEdition(){\n",
    "        return ediNumber;\n",
    "    }\n",
    "\n",
    "    public String getBookInfo(){\n",
    "        return super.getBookInfo() + \"-\" + getEdition();\n",
    "    }\n",
    "\n",
    "    public boolean canSubstituteFor(Textbook book){\n",
    "        return (super.getTitle().equals(book.getTitle()) && (getEdition() >= book.getEdition()));\n",
    "    }\n",
    "\n",
    "}"
   ]
  },
  {
   "attachments": {},
   "cell_type": "markdown",
   "metadata": {},
   "source": [
    "#### 3.a"
   ]
  },
  {
   "cell_type": "code",
   "execution_count": 10,
   "metadata": {
    "vscode": {
     "languageId": "java"
    }
   },
   "outputs": [],
   "source": [
    "public double getAverageRating(){\n",
    "    double sum = 0.0; \n",
    "    for(int i = 0; i < allReviews.length(); i++){\n",
    "        sum += allReviews[i].getRating();\n",
    "    }\n",
    "    return (sum/allReviews.length());\n",
    "}"
   ]
  },
  {
   "attachments": {},
   "cell_type": "markdown",
   "metadata": {},
   "source": [
    "#### 3.b"
   ]
  },
  {
   "cell_type": "code",
   "execution_count": null,
   "metadata": {
    "vscode": {
     "languageId": "java"
    }
   },
   "outputs": [],
   "source": [
    "public ArrayList<String> collectComments(){\n",
    "    ArrayList<String> comments = new ArrayList<String>();\n",
    "    for(int i = 0; i < allReviews.length(); i++){\n",
    "        String userCommend = allReviewsp[i].getComment();\n",
    "        if (userCommend.indexOf(\"!\") != -1){\n",
    "            if(userCommend.subString(userCommend.length -1, userCommend.length).equals(\"!\")){\n",
    "                comments.add(i + \"-\" + userCommend);\n",
    "            }\n",
    "            else {\n",
    "                comments.add(i + \"-\" + userCommend + \".\");\n",
    "            }\n",
    "        }\n",
    "    }\n",
    "    return comments;\n",
    "}"
   ]
  },
  {
   "attachments": {},
   "cell_type": "markdown",
   "metadata": {},
   "source": [
    "#### 4.a"
   ]
  },
  {
   "cell_type": "code",
   "execution_count": 22,
   "metadata": {
    "vscode": {
     "languageId": "java"
    }
   },
   "outputs": [],
   "source": [
    "public void repopulate(){\n",
    "    for(int r = 0; r < grid.length; r++){\n",
    "        for(int c = 0; c < grid[0].length; c++){\n",
    "            int random = (int)(Math.random() * (Integer.MAX_VALUE+1));\n",
    "            while((random % 100) == 0){\n",
    "                random = (int)(Math.random() * (Integer.MAX_VALUE+1));\n",
    "            }\n",
    "            if(random % 10 !=0){\n",
    "                random = (random/10) *10;\n",
    "            }\n",
    "\n",
    "            grid[r][c] = random;\n",
    "\n",
    "        }\n",
    "    }\n",
    "}"
   ]
  },
  {
   "attachments": {},
   "cell_type": "markdown",
   "metadata": {},
   "source": [
    "#### 4.b"
   ]
  },
  {
   "cell_type": "code",
   "execution_count": null,
   "metadata": {
    "vscode": {
     "languageId": "java"
    }
   },
   "outputs": [],
   "source": [
    "public int countIncreasingCols(){\n",
    "    int counter = 0;\n",
    "    for(int c = 0; c < grid.length; c++){\n",
    "        for(int r = 0; r < grid[0].length-1; r++){\n",
    "            boolean isIncreasing = true;\n",
    "            if(grid[r][c] > grid[r+1][c]){\n",
    "                isIncreasing = false;\n",
    "            }\n",
    "            if(isIncreasing){\n",
    "                counter++;\n",
    "            }\n",
    "        }\n",
    "    }\n",
    "    return counter;\n",
    "}"
   ]
  }
 ],
 "metadata": {
  "kernelspec": {
   "display_name": "Java",
   "language": "java",
   "name": "java"
  },
  "language_info": {
   "codemirror_mode": "java",
   "file_extension": ".jshell",
   "mimetype": "text/x-java-source",
   "name": "Java",
   "pygments_lexer": "java",
   "version": "11.0.17+8-post-Ubuntu-1ubuntu218.04"
  },
  "orig_nbformat": 4
 },
 "nbformat": 4,
 "nbformat_minor": 2
}
