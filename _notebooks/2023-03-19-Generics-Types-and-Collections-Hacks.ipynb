{
 "cells": [
  {
   "attachments": {},
   "cell_type": "markdown",
   "metadata": {},
   "source": [
    "# Data Type\n",
    "> Data Types Hacks\n",
    "\n",
    "- toc: true \n",
    "- badges: true\n",
    "- comments: true\n",
    "- categories: [DataType]\n",
    "- image: images/chart-preview.png"
   ]
  },
  {
   "attachments": {},
   "cell_type": "markdown",
   "metadata": {},
   "source": [
    "# Hacks\n",
    "- Watch the college board video Classes and Objects* Blog and Define the details of a Class: Access modifier, constructor, modifiers/setters, getters, etc.\n",
    "- Build example code in jupyter notebook with Linked List, Queues, and Stacks.\n",
    "- Show familiarity with managing data (aka nodes in LL) in these structures.\n",
    "- Show familiarity with Generic data and ForEach loop support, similar to ArrayLists T. Here is sample Java Generic T and the Java Iterable interface by Geeks4Geeks."
   ]
  },
  {
   "attachments": {},
   "cell_type": "markdown",
   "metadata": {},
   "source": [
    "## Watch the college board video Classes and Objects* Blog and Define the details of a Class: Access modifier, constructor, modifiers/setters, getters, etc.\n",
    "\n",
    "### Define vocabulary\n",
    "- constructor: <br>\n",
    "creating class object, can have multiple constructor under a class(different argument). Usually when we use method outside the class, we first need to create a class object by calling the constructor, then use object.method(). <br>\n",
    "For example we can use the static methods from the math class we import in the directory like sqrt(), random()...etc and creating Math object to do the calculation. <br>\n",
    "Math.sqrt(argument), Math.random(). - all the methods are return methods.\n",
    "- The collegeboard video didn't talk about Access modifier, modifiers/setters, and getters. So I used the ChatGPT to find the definition:<br>\n",
    "\n",
    "1. Access modifier:\n",
    "\n",
    "2. modifiers/setters:\n",
    "\n",
    "3. getters:\n",
    "\n",
    "\n"
   ]
  },
  {
   "attachments": {},
   "cell_type": "markdown",
   "metadata": {},
   "source": [
    "## Build example code in jupyter notebook with Linked List, Queues, and Stacks."
   ]
  },
  {
   "cell_type": "code",
   "execution_count": null,
   "metadata": {
    "vscode": {
     "languageId": "java"
    }
   },
   "outputs": [],
   "source": []
  },
  {
   "attachments": {},
   "cell_type": "markdown",
   "metadata": {},
   "source": [
    "## Show familiarity with managing data (aka nodes in LL) in these structures."
   ]
  },
  {
   "cell_type": "markdown",
   "metadata": {},
   "source": []
  },
  {
   "attachments": {},
   "cell_type": "markdown",
   "metadata": {},
   "source": [
    "## Show familiarity with Generic data and ForEach loop support, similar to ArrayLists T. Here is sample Java Generic T and the Java Iterable interface by Geeks4Geeks."
   ]
  },
  {
   "cell_type": "markdown",
   "metadata": {},
   "source": []
  },
  {
   "attachments": {},
   "cell_type": "markdown",
   "metadata": {},
   "source": [
    "# Hacks:Code\n",
    "## Challenge #1\n",
    "Add and Delete elements from Queue. Working with the code that is given, you will need to adjust Add and write Delete, to output from the Queue as follows."
   ]
  },
  {
   "cell_type": "code",
   "execution_count": null,
   "metadata": {
    "vscode": {
     "languageId": "java"
    }
   },
   "outputs": [],
   "source": []
  }
 ],
 "metadata": {
  "language_info": {
   "name": "python"
  },
  "orig_nbformat": 4
 },
 "nbformat": 4,
 "nbformat_minor": 2
}
