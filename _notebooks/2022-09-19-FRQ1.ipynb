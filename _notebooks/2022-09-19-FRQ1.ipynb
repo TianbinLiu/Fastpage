{
 "cells": [
  {
   "cell_type": "markdown",
   "metadata": {},
   "source": [
    "# FRQ: Methods and control structures\n",
    "\n",
    "- toc: true \n",
    "- badges: true\n",
    "- comments: true\n",
    "- categories: [jupyter]\n",
    "- image: images/chart-preview.png"
   ]
  },
  {
   "cell_type": "markdown",
   "metadata": {},
   "source": [
    "<img src=\"/home/tianbinliu/vscode/Fastpage/images/free response 1.png\" alt=\"Alternative text\" />"
   ]
  },
  {
   "cell_type": "code",
   "execution_count": 36,
   "metadata": {
    "vscode": {
     "languageId": "java"
    }
   },
   "outputs": [
    {
     "name": "stdout",
     "output_type": "stream",
     "text": [
      "1904 is a leap year.\n",
      "1908 is a leap year.\n",
      "1912 is a leap year.\n",
      "1916 is a leap year.\n",
      "1920 is a leap year.\n",
      "1924 is a leap year.\n",
      "1928 is a leap year.\n",
      "1932 is a leap year.\n",
      "1936 is a leap year.\n",
      "1940 is a leap year.\n",
      "1944 is a leap year.\n",
      "1948 is a leap year.\n",
      "1952 is a leap year.\n",
      "1956 is a leap year.\n",
      "1960 is a leap year.\n",
      "1964 is a leap year.\n",
      "1968 is a leap year.\n",
      "1972 is a leap year.\n",
      "1976 is a leap year.\n",
      "1980 is a leap year.\n",
      "1984 is a leap year.\n",
      "1988 is a leap year.\n",
      "1992 is a leap year.\n",
      "1996 is a leap year.\n",
      "2000 is a leap year.\n"
     ]
    },
    {
     "data": {
      "text/plain": [
       "1900"
      ]
     },
     "execution_count": 36,
     "metadata": {},
     "output_type": "execute_result"
    }
   ],
   "source": [
    "public class FRQ1 {\n",
    "\n",
    "  public static int numberOfLeapYears(int year1, int year2) {  //create a static method\n",
    "\n",
    "    boolean isLeapYear = false; //create a boolean called isLeapYear\n",
    "\n",
    "    for(int i = year1 ; i <= year2 && i > 0; i++)\n",
    "    {\n",
    "      if (i % 4 ==0){               //determine if i(year) is or not a leap year\n",
    "\n",
    "        if (i % 100 == 0){\n",
    "\n",
    "          if (i % 400 == 0){\n",
    "\n",
    "            isLeapYear = true;\n",
    "\n",
    "          }\n",
    "          else {\n",
    "            isLeapYear = false;\n",
    "          }\n",
    "\n",
    "        }\n",
    "        else isLeapYear = true;\n",
    "\n",
    "      }\n",
    "      else isLeapYear = false;\n",
    "\n",
    "      if (isLeapYear){        //method that if the boolean is true(if i is a leap year), print the year\n",
    "        System.out.println(i + \" is a leap year.\");\n",
    "      }\n",
    "      \n",
    "    }\n",
    "\n",
    "\n",
    "    return year1;   //return code (no actual use, just to make sure the class goes well)\n",
    "  }\n",
    "  \n",
    "\n",
    "}\n",
    "\n",
    "\n",
    "FRQ1.numberOfLeapYears(1900, 2000);"
   ]
  }
 ],
 "metadata": {
  "kernelspec": {
   "display_name": "Java",
   "language": "java",
   "name": "java"
  },
  "language_info": {
   "codemirror_mode": "java",
   "file_extension": ".jshell",
   "mimetype": "text/x-java-source",
   "name": "Java",
   "pygments_lexer": "java",
   "version": "11.0.16+8-post-Ubuntu-0ubuntu118.04"
  },
  "orig_nbformat": 4
 },
 "nbformat": 4,
 "nbformat_minor": 2
}
