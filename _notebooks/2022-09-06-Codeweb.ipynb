{
 "cells": [
  {
   "cell_type": "markdown",
   "metadata": {},
   "source": [
    "# Fastpages Code.org blog with key learnings\n",
    "\n",
    "- toc: true \n",
    "- badges: true\n",
    "- comments: true\n",
    "- categories: [jupyter]\n",
    "- image: images/chart-preview.png"
   ]
  },
  {
   "cell_type": "markdown",
   "metadata": {},
   "source": [
    "## Discuss creating and Using Objects\n"
   ]
  },
  {
   "cell_type": "code",
   "execution_count": null,
   "metadata": {
    "vscode": {
     "languageId": "java"
    }
   },
   "outputs": [],
   "source": [
    "//we can use code below to create a object with a subclass called Writer.\n",
    "\n",
    "Writer mywriter = new Writer(); //creating an object call mywriter.\n",
    "\n",
    "//and using the object like give him an order\n",
    "\n",
    "mywriter.write(); // mywriter(objectname).write(methodname in the subclass)();"
   ]
  },
  {
   "cell_type": "markdown",
   "metadata": {},
   "source": [
    "### Discuss extends"
   ]
  },
  {
   "cell_type": "code",
   "execution_count": null,
   "metadata": {
    "vscode": {
     "languageId": "java"
    }
   },
   "outputs": [],
   "source": [
    "//extends like: a subclass \"extends\" the class\n",
    "//If we want to create a subclass extends a main class we can use the code below\n",
    "\n",
    "public class Writer extends Jobs {\n",
    "    \n",
    "    public Writter(){   //constructor\n",
    "        super()         //\"super\" means the method in the main class \"Jobs\" is also access to the subclass \"Writer\"\n",
    "    }\n",
    "    \n",
    "}\n"
   ]
  },
  {
   "cell_type": "markdown",
   "metadata": {},
   "source": [
    "### In code.org unit 1 lesson 14, I tried to test the code below but found an error: \"There is no more paint in the painter's bucket\"; so I can't even start to draw the pattern."
   ]
  },
  {
   "cell_type": "code",
   "execution_count": null,
   "metadata": {
    "vscode": {
     "languageId": "java"
    }
   },
   "outputs": [],
   "source": [
    "myPatternPainter.paintPattern(\"white\"); "
   ]
  }
 ],
 "metadata": {
  "kernelspec": {
   "display_name": "Java",
   "language": "java",
   "name": "java"
  },
  "language_info": {
   "codemirror_mode": "java",
   "file_extension": ".jshell",
   "mimetype": "text/x-java-source",
   "name": "Java",
   "pygments_lexer": "java",
   "version": "11.0.16+8-post-Ubuntu-0ubuntu118.04"
  },
  "orig_nbformat": 4
 },
 "nbformat": 4,
 "nbformat_minor": 2
}
