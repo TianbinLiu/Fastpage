{
 "cells": [
  {
   "cell_type": "markdown",
   "metadata": {},
   "source": [
    "# Key learning on Primitives\n",
    "\n",
    "- toc: true \n",
    "- badges: true\n",
    "- comments: true\n",
    "- categories: [jupyter]\n",
    "- image: images/chart-preview.png\n",
    "\n",
    "\n",
    "\n"
   ]
  },
  {
   "cell_type": "markdown",
   "metadata": {},
   "source": [
    "# Data Types\n",
    "- Define in a Class the following data types\n",
    "- Describe in comments how each data type choice is appropriate to application"
   ]
  },
  {
   "cell_type": "code",
   "execution_count": 20,
   "metadata": {},
   "outputs": [],
   "source": [
    "public class DefinePrimitives {\n",
    "    public static void main(String[] args) {\n",
    "      int anInt = 100;  //It can be used in app that stored user information like age\n",
    "      double aDouble = 89.9; //It like integer, but It can used to store information(number) after the decimal point\n",
    "      boolean aBoolean = true; // It can be used to define a value is true or not which we can use it in if statement\n",
    "\n",
    "      String aString = \"Hello, World!\";   //It can be used to print information in the screen for users to see\n",
    "      String aStringFormal = new String(\"Greetings, World!\");\n",
    "    }\n",
    "  }\n",
    "  DefinePrimitives.main(null)"
   ]
  },
  {
   "cell_type": "markdown",
   "metadata": {},
   "source": [
    "### Perform arithmetic expressions and assignment in a program code\n",
    "### Perform compound assignment operator (ie +=), add comments to describe the result of operator"
   ]
  },
  {
   "cell_type": "code",
   "execution_count": 19,
   "metadata": {},
   "outputs": [
    {
     "name": "stdout",
     "output_type": "stream",
     "text": [
      "c: -25000\n"
     ]
    }
   ],
   "source": [
    "int a = 100;\n",
    "int b = 200;\n",
    "int c = 0;\n",
    "\n",
    "c = (a + b) * (a - b);\n",
    "\n",
    "c += (100 * a)/b * a;\n",
    "\n",
    "System.out.println(\"c: \" + c);\n"
   ]
  },
  {
   "cell_type": "markdown",
   "metadata": {},
   "source": [
    "### Determine what is result is in a variable as a result of an data type and expression (ie integer vs double)\n",
    "\n",
    "### Answer: if the result in a variable is an integer number or the expression is int, then the data type is integer. If the result include a decimal point or the expression is double, then it is double. "
   ]
  },
  {
   "cell_type": "markdown",
   "metadata": {},
   "source": [
    "# Input Primitive data"
   ]
  },
  {
   "cell_type": "markdown",
   "metadata": {},
   "source": [
    "### Perform an arithmetic expressions that uses casting, add comments that show how it produces desired result. "
   ]
  },
  {
   "cell_type": "code",
   "execution_count": 2,
   "metadata": {},
   "outputs": [
    {
     "name": "stdout",
     "output_type": "stream",
     "text": [
      "12.2/2 =6.1\n"
     ]
    }
   ],
   "source": [
    "double a = 12.2/2;\n",
    "int b = (int)(a + 0.5);\n",
    "System.out.println(\"12.2/2 =\" + a);\n"
   ]
  }
 ],
 "metadata": {
  "kernelspec": {
   "display_name": "Java",
   "language": "java",
   "name": "java"
  },
  "language_info": {
   "codemirror_mode": "java",
   "file_extension": ".jshell",
   "mimetype": "text/x-java-source",
   "name": "java",
   "pygments_lexer": "java",
   "version": "11.0.16+8-post-Ubuntu-0ubuntu118.04"
  },
  "orig_nbformat": 4
 },
 "nbformat": 4,
 "nbformat_minor": 2
}
