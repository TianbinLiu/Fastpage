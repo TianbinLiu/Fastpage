{
 "cells": [
  {
   "cell_type": "markdown",
   "metadata": {},
   "source": [
    "# Fastpages Java Notebook Blog Post\n",
    "> First try of creating a Java Jupyter notebook\n",
    "\n",
    "- toc: true \n",
    "- badges: true\n",
    "- comments: true\n",
    "- categories: [jupyter]\n",
    "- image: images/chart-preview.png"
   ]
  },
  {
   "cell_type": "code",
   "execution_count": 1,
   "metadata": {},
   "outputs": [
    {
     "name": "stdout",
     "output_type": "stream",
     "text": [
      "Hello World!\n"
     ]
    }
   ],
   "source": [
    "public class HelloWorld {\n",
    "    public static void main(String[] args) {    \n",
    "        System.out.println(\"Hello World!\");\n",
    "    }\n",
    "}\n",
    "\n",
    "HelloWorld.main(null);"
   ]
  },
  {
   "cell_type": "code",
   "execution_count": 2,
   "metadata": {},
   "outputs": [
    {
     "name": "stdout",
     "output_type": "stream",
     "text": [
      "hello\n"
     ]
    }
   ],
   "source": [
    "public class HelloWorld {\n",
    "    public static void main(String[] args) {    \n",
    "        System.out.println(\"hello\");\n",
    "    }\n",
    "}\n",
    "\n",
    "HelloWorld.main(null);"
   ]
  },
  {
   "cell_type": "markdown",
   "metadata": {},
   "source": [
    "# Week 2 Gui Menu"
   ]
  },
  {
   "cell_type": "code",
   "execution_count": 8,
   "metadata": {},
   "outputs": [
    {
     "ename": "",
     "evalue": "",
     "output_type": "error",
     "traceback": [
      "\u001b[1;31mThe Kernel crashed while executing code in the the current cell or a previous cell. Please review the code in the cell(s) to identify a possible cause of the failure. Click <a href='https://aka.ms/vscodeJupyterKernelCrash'>here</a> for more info. View Jupyter <a href='command:jupyter.viewOutput'>log</a> for further details."
     ]
    }
   ],
   "source": [
    "import java.awt.*;\n",
    "import java.awt.event.*;\n",
    "import javax.swing.*;\n",
    "import java.util.Timer;\n",
    "import java.util.TimerTask;\n",
    "// Graphical-User-Interface for Desktop in Java using Java Swing. \n",
    "public class MenuJFrame extends JFrame implements ActionListener {\n",
    "    private JFrame frame;\n",
    "    private JMenuBar menubar;\n",
    "    private JMenu menu;\n",
    "    private JLabel message = new JLabel(\"Click on Menu to select an action.\");\n",
    "    public final String[] MENUS = { // 1D Array of Menu Choices\n",
    "        \"Home\", \"Game1\", \"Creators' interests\", \"Loading bar\",  \n",
    "    };\n",
    "    // Statics to assist with timer and messaging, single copy (no instance)\n",
    "    private\tstatic int delay = 20;\n",
    "    private\tstatic int step = 1;\n",
    "    private static String hashes = \"\";\n",
    "\n",
    "    // Constructor enables the Frame instance, the object \"this.frame\"\n",
    "    public MenuJFrame(String title) {\n",
    "\t    // Initializing Key Objects\n",
    "        frame = new JFrame(title);\n",
    "\t    menubar = new JMenuBar();\n",
    "\t    menu = new JMenu(\"Menu\");\n",
    "\n",
    "        // Initializing Menu objects and adding actions\n",
    "        for (String mx : MENUS) {\n",
    "            JMenuItem m = new JMenuItem(mx);\n",
    "            m.addActionListener(this);\n",
    "            menu.add(m); \n",
    "        }\n",
    "\n",
    "        // Adding / Connecting Objects\n",
    "        menubar.add(menu);\n",
    "        frame.setJMenuBar(menubar);\n",
    "        frame.add(message);\n",
    "\n",
    "        // Sets JFrame close operation to Class variable JFrame.EXIT_ON_CLOSE\n",
    "        frame.setDefaultCloseOperation(JFrame.EXIT_ON_CLOSE);\n",
    "        \n",
    "        // set the size of window based on objects\n",
    "        frame.setSize(600,400);\n",
    "\n",
    "        // makes the frame object visible according to properties previously set\n",
    "        frame.setVisible(true);  // flow of control shifts to frame object\n",
    "    }\n",
    "\n",
    "    \n",
    "\n",
    "\n",
    "    // event from user selecting a menu option\n",
    "    public void actionPerformed(ActionEvent e) {\n",
    "        // local variable to ActinEvent\n",
    "        String selection = e.getActionCommand();  // menu selection\n",
    "        String msg; // local variable to create response from action\n",
    "        final String[] COLORS = {\"Red\", \"Green\", \"Blue\"};  // add more colors here\n",
    " \t    final String start_msg = \"<html>\";  // html building\n",
    "       \tfinal String end_msg = \"</html>\";\n",
    "       \tfinal String hash = \"#\";\n",
    "        \n",
    "        int highestGrade = 0;\n",
    "        int lowestGrade = 0;\n",
    "        int grade1 = 50;\n",
    "        int grade2 = 100;\n",
    "\n",
    "        // run code based on the menuItem that was selected\n",
    "        if ( selection.equals(MENUS[0]) ) {  // Hello Action\n",
    "            msg = \"Mini Online Games center\";\n",
    "            message.setText(msg);\n",
    "        } else if ( selection.equals(MENUS[1]) ) { // Color Action\n",
    "            highestGrade = Math.max(grade1, grade2);\n",
    "            lowestGrade = Math.min(grade1, grade2);\n",
    "            message.setText(\n",
    "\n",
    "                \"<html>Let start with a warm up math game about how to calculate your average Grade<br>\"\n",
    "                + \"<br>\" + \n",
    "                \"First we have two grades: \" + grade1 + \" and \" + grade2 + \"<br>\"\n",
    "                + \"<br>\" +\n",
    "                \"Then find the highest Grade, using highestGrade = Math.max(grade1, grade2);\" + \"<br>\"\n",
    "                + \"<br>\" +\n",
    "                \"Now we find the highest Grade: \" + highestGrade + \"<br>\"\n",
    "                + \"<br>\" +\n",
    "                \"Then find the lowest Grade, using lowestGrade = Math.min(grade1, grade2);\" + \"<br>\"\n",
    "                + \"<br>\" +\n",
    "                \"Now we find the lowest Grade: \" + lowestGrade + \"<br>\"\n",
    "                + \"<br>\" +\n",
    "                \"Last, average the two value, we get our average grade: \" + (highestGrade - lowestGrade) + \n",
    "                \"</html>\"\n",
    "                );\n",
    "\n",
    "            \n",
    "        } else if ( selection.equals(MENUS[2]) ) {\n",
    "            msg = \"My interest: play video games and my pair's interest: dog training\";\n",
    "            message.setText(msg);\n",
    "        } else {  // Loading Bar Action\n",
    "\t    String loading = \"<p>Loading</p>\";\n",
    "            // Code to run on a Timer\n",
    "            Timer timer = new Timer();\n",
    "            TimerTask task = new TimerTask() {\n",
    "                public void run() {  // Method for TimerTask\n",
    "                    // Static and Local variables used to manage message building\n",
    "                    int random = (int) (Math.random() * COLORS.length);  // random logic\n",
    "                    MenuJFrame.hashes +=  \"<font color=\" + COLORS[random] + \">\" + hash + \"</font>\";\n",
    "                    String msg = start_msg + loading + hashes + end_msg;\n",
    "                    message.setText(msg);\n",
    "                    \n",
    "\t  \t            // Shutdown timer and reset data\n",
    "                    if(MenuJFrame.step++ > MenuJFrame.delay) {\n",
    "                        MenuJFrame.step = 1; MenuJFrame.hashes=\"\";\n",
    "                        timer.cancel();\n",
    "                    }\n",
    "                };\n",
    "            };\n",
    "            // Schedule task and interval\n",
    "            timer.schedule(task, 200, 200);\n",
    "            message.setText(start_msg + loading + hash + end_msg);  // prime/initial display\n",
    "        }\n",
    "    }\n",
    "\n",
    "    // Driver turn over control the GUI\n",
    "    public static void main(String[] args) {\n",
    "        // Activates an instance of MenuJFrame class, which makes a JFrame object\n",
    "        new MenuJFrame(\"Menu\");\n",
    "    }\n",
    "}\n",
    "MenuJFrame.main(null);"
   ]
  }
 ],
 "metadata": {
  "kernelspec": {
   "display_name": "Java",
   "language": "java",
   "name": "java"
  },
  "language_info": {
   "codemirror_mode": "java",
   "file_extension": ".jshell",
   "mimetype": "text/x-java-source",
   "name": "java",
   "pygments_lexer": "java",
   "version": "11.0.16+8-post-Ubuntu-0ubuntu118.04"
  },
  "orig_nbformat": 4,
  "vscode": {
   "interpreter": {
    "hash": "916dbcbb3f70747c44a77c7bcd40155683ae19c65e1c03b4aa3499c5328201f1"
   }
  }
 },
 "nbformat": 4,
 "nbformat_minor": 2
}
