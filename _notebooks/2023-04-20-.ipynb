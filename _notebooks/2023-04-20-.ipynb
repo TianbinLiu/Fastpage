{
 "cells": [
  {
   "attachments": {},
   "cell_type": "markdown",
   "metadata": {},
   "source": [
    "# Test\n",
    "> Test\n",
    "\n",
    "- toc: true \n",
    "- badges: true\n",
    "- comments: true\n",
    "- categories: [CSA]\n",
    "- image: images/chart-preview.png"
   ]
  },
  {
   "cell_type": "code",
   "execution_count": 11,
   "metadata": {
    "vscode": {
     "languageId": "java"
    }
   },
   "outputs": [
    {
     "name": "stdout",
     "output_type": "stream",
     "text": [
      "Book name: bookname1 ID: 1\n",
      "Book name: bookname2 ID: 2\n",
      "2\n"
     ]
    }
   ],
   "source": [
    "public class Book{\n",
    "    private String bookTitle;\n",
    "    private int bookID;\n",
    "    private static int Counter;\n",
    "\n",
    "    public Book(String Title, int ID){\n",
    "        this.bookTitle = Title;\n",
    "        this.bookID = ID;\n",
    "        Counter++; //there is a static int instance called counter under the class Book. Each time the class object is created, counter plus 1;\n",
    "    };\n",
    "\n",
    "    public String getTitle(){\n",
    "        return bookTitle;\n",
    "    }\n",
    "\n",
    "    public int getID(){\n",
    "        return bookID;\n",
    "    }\n",
    "    public static int getBookCount(){\n",
    "        return Counter; //return the book count\n",
    "    }\n",
    "\n",
    "    public String toString(){\n",
    "        return \"Book name: \" + getTitle() + \" ID: \" + getID();\n",
    "    };\n",
    "\n",
    "    public static void main(String[] args) {\n",
    "        Book[] a = {new Book(\"bookname1\", 1), new Book(\"bookname2\", 2)};\n",
    "        for(Book num : a){\n",
    "            System.out.println(num);\n",
    "        }\n",
    "        System.out.println(getBookCount());\n",
    "     }\n",
    "\n",
    "}\n",
    "\n",
    "Book.main(null);"
   ]
  },
  {
   "cell_type": "code",
   "execution_count": 14,
   "metadata": {
    "vscode": {
     "languageId": "java"
    }
   },
   "outputs": [
    {
     "name": "stdout",
     "output_type": "stream",
     "text": [
      "Book name: titlename1 ID: 1 author: author1\n",
      "Book name: titlename2 ID: 2 author: author2\n",
      "4\n"
     ]
    }
   ],
   "source": [
    "public class Novel extends Book{\n",
    "    private String bookAuthor;\n",
    "    \n",
    "    public Novel(String author, String Title, int ID){\n",
    "        super(Title, ID);\n",
    "        this.bookAuthor = author;\n",
    "    }\n",
    "\n",
    "    public String getAuthor(){\n",
    "        return bookAuthor;\n",
    "    }\n",
    "\n",
    "    public String toString(){\n",
    "        return \"Book name: \" + getTitle() + \" ID: \" + getID() + \" Author: \" + getAuthor();\n",
    "    };\n",
    "\n",
    "    public static void main(String[] args) {\n",
    "        Book[] a = {new Novel(\"author1\", \"titlename1\", 1), new Novel(\"author2\",\"titlename2\", 2)};\n",
    "        for(Book num : a){\n",
    "            System.out.println(num);\n",
    "        }\n",
    "        System.out.println(getBookCount());\n",
    "    }\n",
    "\n",
    "}\n",
    "Novel.main(null);"
   ]
  },
  {
   "cell_type": "code",
   "execution_count": 18,
   "metadata": {
    "vscode": {
     "languageId": "java"
    }
   },
   "outputs": [
    {
     "name": "stdout",
     "output_type": "stream",
     "text": [
      "Book name: titlename1 ID: 1 Company: company1\n",
      "Book name: titlename2 ID: 2 Company: company2\n",
      "8\n"
     ]
    }
   ],
   "source": [
    "public class Textbook extends Book{\n",
    "    private String bookCompany;\n",
    "\n",
    "    public Textbook(String company, String Title, int ID){\n",
    "        super(Title, ID);\n",
    "        this.bookCompany = company;\n",
    "    }\n",
    "\n",
    "    public String getbookCompany(){\n",
    "        return bookCompany;\n",
    "    }\n",
    "\n",
    "    public String toString(){\n",
    "        return \"Book name: \" + getTitle() + \" ID: \" + getID() + \" Company: \" + getbookCompany();\n",
    "    };\n",
    "\n",
    "    public static void main(String[] args) {\n",
    "        Book[] a = {new Textbook(\"company1\", \"titlename1\", 1), new Textbook\n",
    "        (\"company2\",\"titlename2\", 2)};\n",
    "        for(Book num : a){\n",
    "            System.out.println(num);\n",
    "        }\n",
    "        System.out.println(getBookCount());\n",
    "    }\n",
    "}\n",
    "Textbook.main(null);"
   ]
  }
 ],
 "metadata": {
  "kernelspec": {
   "display_name": "Java",
   "language": "java",
   "name": "java"
  },
  "language_info": {
   "codemirror_mode": "java",
   "file_extension": ".jshell",
   "mimetype": "text/x-java-source",
   "name": "Java",
   "pygments_lexer": "java",
   "version": "11.0.17+8-post-Ubuntu-1ubuntu218.04"
  },
  "orig_nbformat": 4
 },
 "nbformat": 4,
 "nbformat_minor": 2
}
