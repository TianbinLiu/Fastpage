{
 "cells": [
  {
   "attachments": {},
   "cell_type": "markdown",
   "metadata": {},
   "source": [
    "# HasMaps and BigO\n",
    "> HasMaps and BigO Hacks\n",
    "\n",
    "- toc: true \n",
    "- badges: true\n",
    "- comments: true\n",
    "- categories: [CSA]\n",
    "- image: images/chart-preview.png"
   ]
  },
  {
   "attachments": {},
   "cell_type": "markdown",
   "metadata": {},
   "source": [
    "## Hacks\n",
    "### Analyze the Big O complexity on Sorts.\n",
    "- Establish analytics including:time to sort, number of comparisons and number of swaps.- Average the results for each each Sort, run each at least 12 times and 5000 elements. You should throw out High and Low when doing analysis.\n",
    "- Make your final/judgement on best sort: Number of Comparisons, Number of Swaps, Big O complexity, and Total Time.\n",
    "\n",
    "### Build your own Hashmap. Make a HashMap to correspond to a Data Structure using a Collection.\n",
    "- Be sure to have 5000 records\n",
    "- Perform analysis on Binary Search vs HashMap Lookup, try using random to search and find 100 keys in 5000 records. Perform 12 times and throw out high and low.\n",
    "\n",
    "### Extra, Practical learning\n",
    "- Performing Iteration, Delete, and Add operations are another way to analyze Collection vs HashMap data structure.\n",
    "- A HashMap and a Collection can be used in a Class, POJO and API.\n",
    "- Make a Diagram on the Pros and Cons of Collection vs HashMap"
   ]
  },
  {
   "attachments": {},
   "cell_type": "markdown",
   "metadata": {},
   "source": [
    "#### Generate 5000 random Integers into an int Array"
   ]
  },
  {
   "cell_type": "code",
   "execution_count": 1,
   "metadata": {
    "vscode": {
     "languageId": "java"
    }
   },
   "outputs": [],
   "source": [
    "import java.util.Random;\n",
    "Random num = new Random();\n",
    "int arr[] = new int[5000];\n",
    "for (int i = 0; i < arr.length; i++) {\n",
    "    arr[i] = num.nextInt(); // storing random integers in an array\n",
    "}"
   ]
  },
  {
   "attachments": {},
   "cell_type": "markdown",
   "metadata": {},
   "source": [
    "---------------------------------------------------------------------------\n",
    "#### Analyze the Big O complexity on Sorts.(Bubble sort)\n",
    "- Results:\n",
    "\n",
    "| time to sort ( Nanoseconds ) | number of comparisons | number of swaps|\n",
    "| ----------- | ----------- | ----------- |\n",
    "| 40948868        | 24995000       | 18711184       |\n",
    "| 33597371        | 24995000       | 18711184       |\n",
    "| 35568813        | 24995000       | 18711184       |\n",
    "| 41071490        | 24995000       | 18711184       |\n",
    "| 32054804        | 24995000       | 18711184       |\n",
    "| 53361763        | 24995000       | 18711184       |\n",
    "| 30094006        | 24995000       | 18711184       |\n",
    "| 65122703        | 24995000       | 18711184       |\n",
    "| 30226742        | 24995000       | 18711184       |\n",
    "| 37281759        | 24995000       | 18711184       |\n",
    "| 39752651        | 24995000       | 18711184       |\n",
    "| 47037993        | 24995000       | 18711184       |\n",
    "- Average Result ( throw out High and Low ) :\n",
    "\n",
    "| time to sort ( Nanoseconds ) | number of comparisons | number of swaps|\n",
    "| ----------- | ----------- | ----------- |\n",
    "| 39090225.4 ( 0.03909023 sec ) | 24995000       | 18711184   |\n",
    "\n",
    "- Big O complexity: \n",
    "1. Worst case: O(n²).\n",
    "2. Best case: O(n). if array is already sorted."
   ]
  },
  {
   "cell_type": "code",
   "execution_count": 21,
   "metadata": {
    "vscode": {
     "languageId": "java"
    }
   },
   "outputs": [
    {
     "name": "stdout",
     "output_type": "stream",
     "text": [
      "Nanoseconds: 47037993\n",
      "number of comparisons: 24995000\n",
      "number of Swaps: 11459686\n"
     ]
    }
   ],
   "source": [
    "int numOfComparisons = 0;\n",
    "int numberOfSwaps = 0;\n",
    "\n",
    "public static void bubbleSort (int[] data)\n",
    "{\n",
    "    for(int i = 0;i < data.length; i++){\n",
    "        for(int j=0;j < data.length - 1; j++){\n",
    "            if(data[j] > data[j+1]){\n",
    "                int temp = arr[j];\n",
    "                data[j] = data[j+1];\n",
    "                data[j+1] = temp;\n",
    "                numberOfSwaps++;\n",
    "           }\n",
    "           numOfComparisons++;\n",
    "        }\n",
    "    }\n",
    "}\n",
    "//----------------------------------------------------------------------\n",
    "int bubbleSortTester[] = new int[5000];\n",
    "for (int i = 0; i < bubbleSortTester.length; i++) {\n",
    "    int num = arr[i];\n",
    "    bubbleSortTester[i] = num; // storing random integers in an array\n",
    "}\n",
    "long start = System.nanoTime();\n",
    "bubbleSort(bubbleSortTester); \n",
    "long finish = System.nanoTime();\n",
    "long timeElapsed = finish - start;\n",
    "System.out.println(\"Nanoseconds: \" + timeElapsed);\n",
    "System.out.println(\"number of comparisons: \" + numOfComparisons);\n",
    "System.out.println(\"number of Swaps: \" + numberOfSwaps);"
   ]
  },
  {
   "attachments": {},
   "cell_type": "markdown",
   "metadata": {},
   "source": [
    "---------------------------------------------------------------------------\n",
    "#### Analyze the Big O complexity on Sorts.(Selection Sort)\n",
    "- Results:\n",
    "\n",
    "| time to sort| number of comparisons | number of swaps|\n",
    "| ----------- | ----------- | ----------- |\n",
    "| 25184109        | 12497500       | 5000       |\n",
    "| 36724410        | 12497500       | 5000       |\n",
    "| 19282268        | 12497500       | 5000       |\n",
    "| 27323052        | 12497500       | 5000       |\n",
    "| 32623821        | 12497500       | 5000       |\n",
    "| 24525162        | 12497500       | 5000       |\n",
    "| 21620519        | 12497500       | 5000       |\n",
    "| 21299771        | 12497500       | 5000       |\n",
    "| 20977239        | 12497500       | 5000       |\n",
    "| 22184216        | 12497500       | 5000       |\n",
    "| 25525767        | 12497500       | 5000       |\n",
    "| 38868922        | 12497500       | 5000       |\n",
    "- Average Result ( throw out High and Low ) :\n",
    "\n",
    "| time to sort| number of comparisons | number of swaps|\n",
    "| ----------- | ----------- | ----------- |\n",
    "| 25798806.6  ( 0.02579881 sec )   | 12497500       | 5000   |\n",
    "\n",
    "- Big O complexity: \n",
    "1. Worst case: O(n²). Since we traverse through the remaining array to find the minimum for each element, the time complexity will become O(n²).\n",
    "2. Best case: O(n²). Even if the array has already been sorted, our algorithm looks for the minimum in the rest of the array. As a result, the best-case time complexity is the same as the worst-case."
   ]
  },
  {
   "cell_type": "code",
   "execution_count": 33,
   "metadata": {
    "vscode": {
     "languageId": "java"
    }
   },
   "outputs": [
    {
     "name": "stdout",
     "output_type": "stream",
     "text": [
      "Nanoseconds: 38868922\n",
      "number of comparisons: 12497500\n",
      "number of Swaps: 5000\n"
     ]
    }
   ],
   "source": [
    "int numOfComparisons = 0;\n",
    "int numberOfSwaps = 0;\n",
    "\n",
    "public static void selectionSort(int[] data)\n",
    "{\n",
    "    for(int i=0;i<arr.length; i++) {\n",
    "        int minIndex = i;  \n",
    "        for(int j=i+1;j<arr.length; j++) {\n",
    "           if(data[j]<data[minIndex]) {\n",
    "             minIndex = j;\n",
    "          }\n",
    "          numOfComparisons++;\n",
    "        }\n",
    "      int temp = data[i];\n",
    "      data[i] = data[minIndex];\n",
    "      data[minIndex] = temp;\n",
    "      numberOfSwaps++;\n",
    "    }\n",
    "}\n",
    "//---------------------------------------------------------------------------\n",
    "int selectionSortTester[] = new int[5000];\n",
    "for (int i = 0; i < selectionSortTester.length; i++) {\n",
    "    int num = arr[i];\n",
    "    selectionSortTester[i] = num; // storing random integers in an array\n",
    "}\n",
    "long start = System.nanoTime();\n",
    "selectionSort(selectionSortTester); \n",
    "long finish = System.nanoTime();\n",
    "long timeElapsed = finish - start;\n",
    "System.out.println(\"Nanoseconds: \" + timeElapsed);\n",
    "System.out.println(\"number of comparisons: \" + numOfComparisons);\n",
    "System.out.println(\"number of Swaps: \" + numberOfSwaps);"
   ]
  },
  {
   "attachments": {},
   "cell_type": "markdown",
   "metadata": {},
   "source": [
    "---------------------------------------------------------------------------\n",
    "#### Analyze the Big O complexity on Sorts.(Insertion Sort)\n",
    "- Results:\n",
    "\n",
    "| time to sort| number of comparisons | number of swaps|\n",
    "| ----------- | ----------- | ----------- |\n",
    "| 12123437        | 6150953       | 6150953       |\n",
    "| 13525997        | 6150953       | 6150953       |\n",
    "| 17174613        | 6150953       | 6150953       |\n",
    "| 19307095        | 6150953       | 6150953       |\n",
    "| 16558676        | 6150953       | 6150953       |\n",
    "| 15294102        | 6150953       | 6150953       |\n",
    "| 12936251        | 6150953       | 6150953       |\n",
    "| 28740336        | 6150953       | 6150953       |\n",
    "| 14485925        | 6150953       | 6150953       |\n",
    "| 15376347        | 6150953       | 6150953       |\n",
    "| 15016661        | 6150953       | 6150953       |\n",
    "| 17482556        | 6150953       | 6150953       |\n",
    "- Average Result ( throw out High and Low ) :\n",
    "\n",
    "| time to sort| number of comparisons | number of swaps|\n",
    "| ----------- | ----------- | ----------- |\n",
    "| 15715822.3 ( 0.01571582 sec )     | 6150953       | 6150953   |\n",
    "\n",
    "- Big O complexity: <br>\n",
    "1. Worst case: O(n²). In a worst case situation, our array is sorted in descending order. So, for each element, we have to keep traversing and swapping elements to the left.\n",
    "2. Best case: O(n). In the best case, our array is already sorted. So for each element, we compare our current element to the element at the left only once. Since the order is correct, we don’t swap and move on to the next element. Hence the time complexity will be O(n).1. "
   ]
  },
  {
   "cell_type": "code",
   "execution_count": 108,
   "metadata": {
    "vscode": {
     "languageId": "java"
    }
   },
   "outputs": [
    {
     "name": "stdout",
     "output_type": "stream",
     "text": [
      "Nanoseconds: 18049781\n",
      "number of comparisons: 6150953\n",
      "number of Swaps: 6150953\n"
     ]
    }
   ],
   "source": [
    "int numOfComparisons = 0;\n",
    "int numberOfSwaps = 0;\n",
    "\n",
    "public static void insertionSort(int[] data)\n",
    "{\n",
    "    for(int i = 1;i < data.length; i++) {\n",
    "        int j = i;\n",
    "        while(j > 0 && data[j] < data[j-1]) {\n",
    "            numOfComparisons++;\n",
    "            int temp = data[j];\n",
    "            data[j] = data[j-1];\n",
    "            data[j-1] = temp;\n",
    "            j--;\n",
    "            numberOfSwaps++;\n",
    "        }\n",
    "    }\n",
    "}\n",
    "\n",
    "//---------------------------------------------------------------------------\n",
    "int InsertionSortTester[] = new int[5000];\n",
    "for (int i = 0; i < InsertionSortTester.length; i++) {\n",
    "    int num = arr[i];\n",
    "    InsertionSortTester[i] = num; // storing random integers in an array\n",
    "}\n",
    "long start = System.nanoTime();\n",
    "insertionSort(InsertionSortTester); \n",
    "long finish = System.nanoTime();\n",
    "long timeElapsed = finish - start;\n",
    "\n",
    "System.out.println(\"Nanoseconds: \" + timeElapsed);\n",
    "System.out.println(\"number of comparisons: \" + numOfComparisons);\n",
    "System.out.println(\"number of Swaps: \" + numberOfSwaps);"
   ]
  },
  {
   "attachments": {},
   "cell_type": "markdown",
   "metadata": {},
   "source": [
    "---------------------------------------------------------------------------\n",
    "#### Analyze the Big O complexity on Sorts.(Merge Sort)\n",
    "- Results:\n",
    "\n",
    "| time to sort| number of comparisons | number of swaps|\n",
    "| ----------- | ----------- | ----------- |\n",
    "| 9317561        | 55175       | 61808       |\n",
    "| 12992589        | 55175       | 61808       |\n",
    "| 19746831        | 55175       | 61808       |\n",
    "| 12912218        | 55175       | 61808       |\n",
    "| 12534219        | 55175       | 61808       |\n",
    "| 16034847        | 55175       | 61808       |\n",
    "| 17103831        | 55175       | 61808       |\n",
    "| 18385908        | 55175       | 61808       |\n",
    "| 19866444        | 55175       | 61808       |\n",
    "| 10257987        | 55175       | 61808       |\n",
    "| 16992695        | 55175       | 61808       |\n",
    "| 11263257        | 55175       | 61808       |\n",
    "- Average Result ( throw out High and Low ) :\n",
    "\n",
    "| time to sort| number of comparisons | number of swaps|\n",
    "| ----------- | ----------- | ----------- |\n",
    "| 14822438.2 ( 0.01482244 sec )     | 55175      | 61808   |\n",
    "\n",
    "- Big O complexity: <br>\n",
    "1. Worst case: O(nlogn). The worst-case time complexity is the same as the best case.\n",
    "2. Best case: O(nlogn). We are dividing the array into two sub-arrays recursively, which will cost a time complexity of O(logn). For each function call, we are calling the partition function, which costs O(n) time complexity. Hence the total time complexity is O(nlogn)."
   ]
  },
  {
   "cell_type": "code",
   "execution_count": 104,
   "metadata": {
    "vscode": {
     "languageId": "java"
    }
   },
   "outputs": [
    {
     "name": "stdout",
     "output_type": "stream",
     "text": [
      "Nanoseconds: 11263257\n",
      "number of comparisons: 55264\n",
      "number of Swaps: 61808\n"
     ]
    }
   ],
   "source": [
    "int numOfComparisons = 0;\n",
    "int numberOfSwaps = 0;\n",
    "\n",
    "public void merge(int data[], int l, int m, int r) {\n",
    "    int n1 = m-l+1;\n",
    "    int n2 = r-m;\n",
    "    int[] L = new int[n1];\n",
    "    int[] R = new int[n2];\n",
    "    for(int i = 0;i < n1; i++) {\n",
    "        L[i] = data[l+i];\n",
    "    }\n",
    "    for(int i = 0;i < n2; i++) {\n",
    "        R[i] = data[m+1+i];\n",
    "    }\n",
    "    int i = 0, j = 0, k =l;\n",
    "    while(i < n1 && j < n2) {\n",
    "        if(L[i] <= R[j]) {\n",
    "            data[k++] = L[i++];\n",
    "            numOfComparisons++;\n",
    "            numberOfSwaps++;\n",
    "        }\n",
    "        else {\n",
    "            data[k++] = R[j++];\n",
    "            numOfComparisons++;\n",
    "            numberOfSwaps++;\n",
    "        }\n",
    "    }\n",
    "    while(i < n1) {\n",
    "        data[k++] = L[i++];\n",
    "        numberOfSwaps++;\n",
    "    }\n",
    "    while(j < n2) {\n",
    "        data[k++] = R[j++];\n",
    "        numberOfSwaps++;\n",
    "    }\n",
    "}\n",
    "public void mergeSort(int data[], int l, int r) {\n",
    "    if (l < r) {\n",
    "        int m = l + (r-l)/2;\n",
    "        mergeSort(data, l, m);\n",
    "        mergeSort(data , m+1, r);\n",
    "        merge(data, l, m, r);\n",
    "    }\n",
    "}\n",
    "\n",
    "//---------------------------------------------------------------------------\n",
    "int[] MergeSortTester = new int[5000];\n",
    "for (int i = 0; i < MergeSortTester.length; i++) {\n",
    "    int num = arr[i];\n",
    "    MergeSortTester[i] = num;\n",
    "}\n",
    "long start = System.nanoTime();\n",
    "mergeSort(MergeSortTester, 0, MergeSortTester.length-1);\n",
    "long finish = System.nanoTime();\n",
    "long timeElapsed = finish - start;\n",
    "System.out.println(\"Nanoseconds: \" + timeElapsed);\n",
    "System.out.println(\"number of comparisons: \" + numOfComparisons);\n",
    "System.out.println(\"number of Swaps: \" + numberOfSwaps);\n"
   ]
  },
  {
   "attachments": {},
   "cell_type": "markdown",
   "metadata": {},
   "source": [
    "---------------------------------------------------------------------------"
   ]
  },
  {
   "attachments": {},
   "cell_type": "markdown",
   "metadata": {},
   "source": [
    "| Sort | time to sort | number of comparisons | number of swaps|\n",
    "| ----------- | --------------------------------- | ----------- | ----------- |\n",
    "| Bubble      | 39090225.4 ( 0.03909023 sec )     | 24995000       | 18711184   |\n",
    "| Selection   | 25798806.6  ( 0.02579881 sec )    | 12497500       | 5000   |\n",
    "| Insertion   | 15715822.3 ( 0.01571582 sec )     | 6150953      | 6150953   |\n",
    "| Merge       | 14822438.2 ( 0.01482244 sec )     | 55175        | 61808   |\n"
   ]
  },
  {
   "attachments": {},
   "cell_type": "markdown",
   "metadata": {},
   "source": [
    "#### Hashmap(Binary Search vs. HashMap Lookup)"
   ]
  },
  {
   "attachments": {},
   "cell_type": "markdown",
   "metadata": {},
   "source": [
    "#### HashMap Random Lookup\n",
    "- Results:\n",
    "\n",
    "| time to search 100 random keys ( Nanoseconds )| \n",
    "| ----------- | \n",
    "| 11207453        | \n",
    "| 10757380        | \n",
    "| 13337548        | \n",
    "| 11290346        | \n",
    "| 12568205        | \n",
    "| 10702041        | \n",
    "| 12140286        | \n",
    "| 11913891        | \n",
    "| 17251758        | \n",
    "| 12408096        | \n",
    "| 12752262        | \n",
    "| 12379735        | \n",
    "- Average Result ( throw out High and Low ) :\n",
    "\n",
    "| time to search| \n",
    "| ----------- | \n",
    "| 12075520.2 ( 0.01207552 sec ) |\n",
    "\n",
    "- O(1)"
   ]
  },
  {
   "cell_type": "code",
   "execution_count": 227,
   "metadata": {
    "vscode": {
     "languageId": "java"
    }
   },
   "outputs": [],
   "source": [
    "import java.util.Random;\n",
    "int[] randomKey = new int[100];\n",
    "for(int i =0; i<100; i++){   \n",
    "    int random = (int)(Math.random()*5000);          //random search by 100 keys\n",
    "    randomKey[i] = random;\n",
    "}"
   ]
  },
  {
   "cell_type": "code",
   "execution_count": 256,
   "metadata": {
    "vscode": {
     "languageId": "java"
    }
   },
   "outputs": [],
   "source": [
    "Map<String, Integer> myHashMap = new HashMap<>();\n",
    "for (int i = 0; i < 5000; i++) {\n",
    "    myHashMap.put(\"apple\" + i, i); // storing random integers\n",
    "}"
   ]
  },
  {
   "cell_type": "code",
   "execution_count": 258,
   "metadata": {
    "vscode": {
     "languageId": "java"
    }
   },
   "outputs": [
    {
     "name": "stdout",
     "output_type": "stream",
     "text": [
      "\n",
      "Nanoseconds: 12379735\n"
     ]
    }
   ],
   "source": [
    "import java.util.HashMap;\n",
    "import java.util.Map;\n",
    "import java.util.Random;\n",
    "\n",
    "long start = System.nanoTime();\n",
    "for(int i =0; i<100; i++){            \n",
    "    myHashMap.get(\"apple\" + randomKey[i]);\n",
    "}\n",
    "long finish = System.nanoTime();\n",
    "long timeElapsed = finish - start;\n",
    "System.out.println();\n",
    "System.out.println(\"Nanoseconds: \" + timeElapsed);"
   ]
  },
  {
   "attachments": {},
   "cell_type": "markdown",
   "metadata": {},
   "source": [
    "#### Random Binary Search\n",
    "- Results:\n",
    "\n",
    "| time to search 100 random keys ( Nanoseconds )| \n",
    "| ----------- | \n",
    "| 10744880       | \n",
    "| 14870334        | \n",
    "| 17765997        | \n",
    "| 15532206        | \n",
    "| 19414759        | \n",
    "| 16884201        | \n",
    "| 13640847        | \n",
    "| 22480933        | \n",
    "| 14822539        | \n",
    "| 17184193        | \n",
    "| 24756768        | \n",
    "| 14169391        | \n",
    "- Average Result ( throw out High and Low ) :\n",
    "\n",
    "| time to search| \n",
    "| ----------- | \n",
    "| 16676540 ( 0.01667654 sec ) |\n",
    "\n",
    "- The time complexity of binary search is O(log n)"
   ]
  },
  {
   "cell_type": "code",
   "execution_count": 223,
   "metadata": {
    "vscode": {
     "languageId": "java"
    }
   },
   "outputs": [],
   "source": [
    "int binarySearchTester[] = new int[5000];\n",
    "for (int i = 0; i < binarySearchTester.length; i++) {\n",
    "    binarySearchTester[i] = i; // storing random integers in an array\n",
    "}"
   ]
  },
  {
   "cell_type": "code",
   "execution_count": 269,
   "metadata": {
    "vscode": {
     "languageId": "java"
    }
   },
   "outputs": [
    {
     "name": "stdout",
     "output_type": "stream",
     "text": [
      "\n",
      "Nanoseconds: 14169391\n"
     ]
    }
   ],
   "source": [
    "public static int binarySearch(int numArray[], int number_to_search_for) {\n",
    "  int low = 0;\n",
    "  int high = numArray.length - 1;\n",
    "  \n",
    "  while (low <= high){\n",
    "    int middleIndex = (low + high) / 2;\n",
    "      \n",
    "    if (number_to_search_for == numArray[middleIndex]){\n",
    "        return middleIndex;\n",
    "    }\n",
    "    if (number_to_search_for < numArray[middleIndex]){\n",
    "        high = middleIndex - 1;\n",
    "    }\n",
    "    if (number_to_search_for > numArray[middleIndex]){\n",
    "        low = middleIndex + 1;\n",
    "    }\n",
    "  }\n",
    "  \n",
    "  return -1;\n",
    "}\n",
    "\n",
    "//---------------------------------------------------------------------------\n",
    "long start = System.nanoTime();\n",
    "for(int i =0; i<100; i++){            \n",
    "    binarySearch(binarySearchTester, binarySearchTester[randomKey[i]]);\n",
    "}\n",
    "long finish = System.nanoTime();\n",
    "long timeElapsed = finish - start;\n",
    "System.out.println();\n",
    "System.out.println(\"Nanoseconds: \" + timeElapsed);"
   ]
  },
  {
   "attachments": {},
   "cell_type": "markdown",
   "metadata": {},
   "source": [
    "| Binary Search vs HashMap Lookup | Time to Search |\n",
    "| ----------- | --------------------------------- |\n",
    "| HashMap Lookup | 12075520.2 ( 0.01207552 sec )  |\n",
    "| Binary Search  | 16676540 ( 0.01667654 sec )  |\n",
    "\n",
    "- Result: HashMap Lookup is faster than Binary Search\n",
    "\n",
    "- Reason: Because Hash algorithms are O(1) while binary search is O(log n)."
   ]
  }
 ],
 "metadata": {
  "kernelspec": {
   "display_name": "Java",
   "language": "java",
   "name": "java"
  },
  "language_info": {
   "codemirror_mode": "java",
   "file_extension": ".jshell",
   "mimetype": "text/x-java-source",
   "name": "Java",
   "pygments_lexer": "java",
   "version": "11.0.17+8-post-Ubuntu-1ubuntu218.04"
  },
  "orig_nbformat": 4
 },
 "nbformat": 4,
 "nbformat_minor": 2
}
