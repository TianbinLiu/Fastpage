{
 "cells": [
  {
   "attachments": {},
   "cell_type": "markdown",
   "metadata": {},
   "source": [
    "# HasMaps and BigO\n",
    "> HasMaps and BigO Hacks\n",
    "\n",
    "- toc: true \n",
    "- badges: true\n",
    "- comments: true\n",
    "- categories: [CSA]\n",
    "- image: images/chart-preview.png"
   ]
  },
  {
   "attachments": {},
   "cell_type": "markdown",
   "metadata": {},
   "source": [
    "## Hacks\n",
    "### Analyze the Big O complexity on Sorts.\n",
    "- Establish analytics including:time to sort, number of comparisons and number of swaps.- Average the results for each each Sort, run each at least 12 times and 5000 elements. You should throw out High and Low when doing analysis.\n",
    "- Make your final/judgement on best sort: Number of Comparisons, Number of Swaps, Big O complexity, and Total Time.\n",
    "\n",
    "### Build your own Hashmap. Make a HashMap to correspond to a Data Structure using a Collection.\n",
    "- Be sure to have 5000 records\n",
    "- Perform analysis on Binary Search vs HashMap Lookup, try using random to search and find 100 keys in 5000 records. Perform 12 times and throw out high and low.\n",
    "\n",
    "### Extra, Practical learning\n",
    "- Performing Iteration, Delete, and Add operations are another way to analyze Collection vs HashMap data structure.\n",
    "- A HashMap and a Collection can be used in a Class, POJO and API.\n",
    "- Make a Diagram on the Pros and Cons of Collection vs HashMap"
   ]
  },
  {
   "attachments": {},
   "cell_type": "markdown",
   "metadata": {},
   "source": [
    "#### Generate 5000 random Integers into an int Array"
   ]
  },
  {
   "cell_type": "code",
   "execution_count": 1,
   "metadata": {
    "vscode": {
     "languageId": "java"
    }
   },
   "outputs": [],
   "source": [
    "import java.util.Random;\n",
    "Random num = new Random();\n",
    "int arr[] = new int[5000];\n",
    "for (int i = 0; i < arr.length; i++) {\n",
    "    arr[i] = num.nextInt(); // storing random integers in an array\n",
    "}"
   ]
  },
  {
   "attachments": {},
   "cell_type": "markdown",
   "metadata": {},
   "source": [
    "---------------------------------------------------------------------------\n",
    "#### Analyze the Big O complexity on Sorts.(Bubble sort)\n",
    "- Results:\n",
    "\n",
    "| time to sort ( Nanoseconds ) | number of comparisons | number of swaps|\n",
    "| ----------- | ----------- | ----------- |\n",
    "| 40948868        | 24995000       | 18711184       |\n",
    "| 33597371        | 24995000       | 18711184       |\n",
    "| 35568813        | 24995000       | 18711184       |\n",
    "| 41071490        | 24995000       | 18711184       |\n",
    "| 32054804        | 24995000       | 18711184       |\n",
    "| 53361763        | 24995000       | 18711184       |\n",
    "| 30094006        | 24995000       | 18711184       |\n",
    "| 65122703        | 24995000       | 18711184       |\n",
    "| 30226742        | 24995000       | 18711184       |\n",
    "| 37281759        | 24995000       | 18711184       |\n",
    "| 39752651        | 24995000       | 18711184       |\n",
    "| 47037993        | 24995000       | 18711184       |\n",
    "- Average Result ( throw out High and Low ) :\n",
    "\n",
    "| time to sort ( Nanoseconds ) | number of comparisons | number of swaps|\n",
    "| ----------- | ----------- | ----------- |\n",
    "| 39090225.4 ( 0.03909023 sec ) | 24995000       | 18711184   |\n",
    "\n",
    "- Big O complexity: \n",
    "1. Worst case: O(n²).\n",
    "2. Best case: O(n). if array is already sorted."
   ]
  },
  {
   "cell_type": "code",
   "execution_count": 21,
   "metadata": {
    "vscode": {
     "languageId": "java"
    }
   },
   "outputs": [
    {
     "name": "stdout",
     "output_type": "stream",
     "text": [
      "Nanoseconds: 47037993\n",
      "number of comparisons: 24995000\n",
      "number of Swaps: 11459686\n"
     ]
    }
   ],
   "source": [
    "int numOfComparisons = 0;\n",
    "int numberOfSwaps = 0;\n",
    "\n",
    "public static void bubbleSort (int[] data)\n",
    "{\n",
    "    for(int i = 0;i < data.length; i++){\n",
    "        for(int j=0;j < data.length - 1; j++){\n",
    "            if(data[j] > data[j+1]){\n",
    "                int temp = arr[j];\n",
    "                data[j] = data[j+1];\n",
    "                data[j+1] = temp;\n",
    "                numberOfSwaps++;\n",
    "           }\n",
    "           numOfComparisons++;\n",
    "        }\n",
    "    }\n",
    "}\n",
    "//----------------------------------------------------------------------\n",
    "int bubbleSortTester[] = new int[5000];\n",
    "for (int i = 0; i < bubbleSortTester.length; i++) {\n",
    "    int num = arr[i];\n",
    "    bubbleSortTester[i] = num; // storing random integers in an array\n",
    "}\n",
    "long start = System.nanoTime();\n",
    "bubbleSort(bubbleSortTester); \n",
    "long finish = System.nanoTime();\n",
    "long timeElapsed = finish - start;\n",
    "System.out.println(\"Nanoseconds: \" + timeElapsed);\n",
    "System.out.println(\"number of comparisons: \" + numOfComparisons);\n",
    "System.out.println(\"number of Swaps: \" + numberOfSwaps);"
   ]
  },
  {
   "attachments": {},
   "cell_type": "markdown",
   "metadata": {},
   "source": [
    "---------------------------------------------------------------------------\n",
    "#### Analyze the Big O complexity on Sorts.(Selection Sort)\n",
    "- Results:\n",
    "\n",
    "| time to sort| number of comparisons | number of swaps|\n",
    "| ----------- | ----------- | ----------- |\n",
    "| 25184109        | 12497500       | 5000       |\n",
    "| 36724410        | 12497500       | 5000       |\n",
    "| 19282268        | 12497500       | 5000       |\n",
    "| 27323052        | 12497500       | 5000       |\n",
    "| 32623821        | 12497500       | 5000       |\n",
    "| 24525162        | 12497500       | 5000       |\n",
    "| 21620519        | 12497500       | 5000       |\n",
    "| 21299771        | 12497500       | 5000       |\n",
    "| 20977239        | 12497500       | 5000       |\n",
    "| 22184216        | 12497500       | 5000       |\n",
    "| 25525767        | 12497500       | 5000       |\n",
    "| 38868922        | 12497500       | 5000       |\n",
    "- Average Result ( throw out High and Low ) :\n",
    "\n",
    "| time to sort| number of comparisons | number of swaps|\n",
    "| ----------- | ----------- | ----------- |\n",
    "| 25798806.6  ( 0.02579881 sec )   | 12497500       | 5000   |\n",
    "\n",
    "- Big O complexity: \n",
    "1. Worst case: O(n²). Since we traverse through the remaining array to find the minimum for each element, the time complexity will become O(n²).\n",
    "2. Best case: O(n²). Even if the array has already been sorted, our algorithm looks for the minimum in the rest of the array. As a result, the best-case time complexity is the same as the worst-case."
   ]
  },
  {
   "cell_type": "code",
   "execution_count": 33,
   "metadata": {
    "vscode": {
     "languageId": "java"
    }
   },
   "outputs": [
    {
     "name": "stdout",
     "output_type": "stream",
     "text": [
      "Nanoseconds: 38868922\n",
      "number of comparisons: 12497500\n",
      "number of Swaps: 5000\n"
     ]
    }
   ],
   "source": [
    "int numOfComparisons = 0;\n",
    "int numberOfSwaps = 0;\n",
    "\n",
    "public static void selectionSort(int[] data)\n",
    "{\n",
    "    for(int i=0;i<arr.length; i++) {\n",
    "        int minIndex = i;  \n",
    "        for(int j=i+1;j<arr.length; j++) {\n",
    "           if(data[j]<data[minIndex]) {\n",
    "             minIndex = j;\n",
    "          }\n",
    "          numOfComparisons++;\n",
    "        }\n",
    "      int temp = data[i];\n",
    "      data[i] = data[minIndex];\n",
    "      data[minIndex] = temp;\n",
    "      numberOfSwaps++;\n",
    "    }\n",
    "}\n",
    "//---------------------------------------------------------------------------\n",
    "int selectionSortTester[] = new int[5000];\n",
    "for (int i = 0; i < selectionSortTester.length; i++) {\n",
    "    int num = arr[i];\n",
    "    selectionSortTester[i] = num; // storing random integers in an array\n",
    "}\n",
    "long start = System.nanoTime();\n",
    "selectionSort(selectionSortTester); \n",
    "long finish = System.nanoTime();\n",
    "long timeElapsed = finish - start;\n",
    "System.out.println(\"Nanoseconds: \" + timeElapsed);\n",
    "System.out.println(\"number of comparisons: \" + numOfComparisons);\n",
    "System.out.println(\"number of Swaps: \" + numberOfSwaps);"
   ]
  },
  {
   "attachments": {},
   "cell_type": "markdown",
   "metadata": {},
   "source": [
    "---------------------------------------------------------------------------\n",
    "#### Analyze the Big O complexity on Sorts.(Insertion Sort)\n",
    "- Results:\n",
    "\n",
    "| time to sort| number of comparisons | number of swaps|\n",
    "| ----------- | ----------- | ----------- |\n",
    "| 12123437        | 6150953       | 6150953       |\n",
    "| 13525997        | 6150953       | 6150953       |\n",
    "| 17174613        | 6150953       | 6150953       |\n",
    "| 19307095        | 6150953       | 6150953       |\n",
    "| 16558676        | 6150953       | 6150953       |\n",
    "| 15294102        | 6150953       | 6150953       |\n",
    "| 12936251        | 6150953       | 6150953       |\n",
    "| 28740336        | 6150953       | 6150953       |\n",
    "| 14485925        | 6150953       | 6150953       |\n",
    "| 15376347        | 6150953       | 6150953       |\n",
    "| 15016661        | 6150953       | 6150953       |\n",
    "| 17482556        | 6150953       | 6150953       |\n",
    "- Average Result ( throw out High and Low ) :\n",
    "\n",
    "| time to sort| number of comparisons | number of swaps|\n",
    "| ----------- | ----------- | ----------- |\n",
    "| 15715822.3 ( 0.01571582 sec )     | 6150953       | 6150953   |\n",
    "\n",
    "- Big O complexity: <br>\n",
    "1. Worst case: O(n²). In a worst case situation, our array is sorted in descending order. So, for each element, we have to keep traversing and swapping elements to the left.\n",
    "2. Best case: O(n). In the best case, our array is already sorted. So for each element, we compare our current element to the element at the left only once. Since the order is correct, we don’t swap and move on to the next element. Hence the time complexity will be O(n).1. "
   ]
  },
  {
   "cell_type": "code",
   "execution_count": 108,
   "metadata": {
    "vscode": {
     "languageId": "java"
    }
   },
   "outputs": [
    {
     "name": "stdout",
     "output_type": "stream",
     "text": [
      "Nanoseconds: 18049781\n",
      "number of comparisons: 6150953\n",
      "number of Swaps: 6150953\n"
     ]
    }
   ],
   "source": [
    "int numOfComparisons = 0;\n",
    "int numberOfSwaps = 0;\n",
    "\n",
    "public static void insertionSort(int[] data)\n",
    "{\n",
    "    for(int i = 1;i < data.length; i++) {\n",
    "        int j = i;\n",
    "        while(j > 0 && data[j] < data[j-1]) {\n",
    "            numOfComparisons++;\n",
    "            int temp = data[j];\n",
    "            data[j] = data[j-1];\n",
    "            data[j-1] = temp;\n",
    "            j--;\n",
    "            numberOfSwaps++;\n",
    "        }\n",
    "    }\n",
    "}\n",
    "\n",
    "//---------------------------------------------------------------------------\n",
    "int InsertionSortTester[] = new int[5000];\n",
    "for (int i = 0; i < InsertionSortTester.length; i++) {\n",
    "    int num = arr[i];\n",
    "    InsertionSortTester[i] = num; // storing random integers in an array\n",
    "}\n",
    "long start = System.nanoTime();\n",
    "insertionSort(InsertionSortTester); \n",
    "long finish = System.nanoTime();\n",
    "long timeElapsed = finish - start;\n",
    "\n",
    "System.out.println(\"Nanoseconds: \" + timeElapsed);\n",
    "System.out.println(\"number of comparisons: \" + numOfComparisons);\n",
    "System.out.println(\"number of Swaps: \" + numberOfSwaps);"
   ]
  },
  {
   "attachments": {},
   "cell_type": "markdown",
   "metadata": {},
   "source": [
    "---------------------------------------------------------------------------\n",
    "#### Analyze the Big O complexity on Sorts.(Merge Sort)\n",
    "- Results:\n",
    "\n",
    "| time to sort| number of comparisons | number of swaps|\n",
    "| ----------- | ----------- | ----------- |\n",
    "| 9317561        | 55175       | 61808       |\n",
    "| 12992589        | 55175       | 61808       |\n",
    "| 19746831        | 55175       | 61808       |\n",
    "| 12912218        | 55175       | 61808       |\n",
    "| 12534219        | 55175       | 61808       |\n",
    "| 16034847        | 55175       | 61808       |\n",
    "| 17103831        | 55175       | 61808       |\n",
    "| 18385908        | 55175       | 61808       |\n",
    "| 19866444        | 55175       | 61808       |\n",
    "| 10257987        | 55175       | 61808       |\n",
    "| 16992695        | 55175       | 61808       |\n",
    "| 11263257        | 55175       | 61808       |\n",
    "- Average Result ( throw out High and Low ) :\n",
    "\n",
    "| time to sort| number of comparisons | number of swaps|\n",
    "| ----------- | ----------- | ----------- |\n",
    "| 14822438.2 ( 0.01482244 sec )     | 55175      | 61808   |\n",
    "\n",
    "- Big O complexity: <br>\n",
    "1. Worst case: O(nlogn). The worst-case time complexity is the same as the best case.\n",
    "2. Best case: O(nlogn). We are dividing the array into two sub-arrays recursively, which will cost a time complexity of O(logn). For each function call, we are calling the partition function, which costs O(n) time complexity. Hence the total time complexity is O(nlogn)."
   ]
  },
  {
   "cell_type": "code",
   "execution_count": 104,
   "metadata": {
    "vscode": {
     "languageId": "java"
    }
   },
   "outputs": [
    {
     "name": "stdout",
     "output_type": "stream",
     "text": [
      "Nanoseconds: 11263257\n",
      "number of comparisons: 55264\n",
      "number of Swaps: 61808\n"
     ]
    }
   ],
   "source": [
    "int numOfComparisons = 0;\n",
    "int numberOfSwaps = 0;\n",
    "\n",
    "public void merge(int data[], int l, int m, int r) {\n",
    "    int n1 = m-l+1;\n",
    "    int n2 = r-m;\n",
    "    int[] L = new int[n1];\n",
    "    int[] R = new int[n2];\n",
    "    for(int i = 0;i < n1; i++) {\n",
    "        L[i] = data[l+i];\n",
    "    }\n",
    "    for(int i = 0;i < n2; i++) {\n",
    "        R[i] = data[m+1+i];\n",
    "    }\n",
    "    int i = 0, j = 0, k =l;\n",
    "    while(i < n1 && j < n2) {\n",
    "        if(L[i] <= R[j]) {\n",
    "            data[k++] = L[i++];\n",
    "            numOfComparisons++;\n",
    "            numberOfSwaps++;\n",
    "        }\n",
    "        else {\n",
    "            data[k++] = R[j++];\n",
    "            numOfComparisons++;\n",
    "            numberOfSwaps++;\n",
    "        }\n",
    "    }\n",
    "    while(i < n1) {\n",
    "        data[k++] = L[i++];\n",
    "        numberOfSwaps++;\n",
    "    }\n",
    "    while(j < n2) {\n",
    "        data[k++] = R[j++];\n",
    "        numberOfSwaps++;\n",
    "    }\n",
    "}\n",
    "public void mergeSort(int data[], int l, int r) {\n",
    "    if (l < r) {\n",
    "        int m = l + (r-l)/2;\n",
    "        mergeSort(data, l, m);\n",
    "        mergeSort(data , m+1, r);\n",
    "        merge(data, l, m, r);\n",
    "    }\n",
    "}\n",
    "\n",
    "//---------------------------------------------------------------------------\n",
    "int[] MergeSortTester = new int[5000];\n",
    "for (int i = 0; i < MergeSortTester.length; i++) {\n",
    "    int num = arr[i];\n",
    "    MergeSortTester[i] = num;\n",
    "}\n",
    "long start = System.nanoTime();\n",
    "mergeSort(MergeSortTester, 0, MergeSortTester.length-1);\n",
    "long finish = System.nanoTime();\n",
    "long timeElapsed = finish - start;\n",
    "System.out.println(\"Nanoseconds: \" + timeElapsed);\n",
    "System.out.println(\"number of comparisons: \" + numOfComparisons);\n",
    "System.out.println(\"number of Swaps: \" + numberOfSwaps);\n"
   ]
  },
  {
   "attachments": {},
   "cell_type": "markdown",
   "metadata": {},
   "source": [
    "---------------------------------------------------------------------------"
   ]
  },
  {
   "attachments": {},
   "cell_type": "markdown",
   "metadata": {},
   "source": [
    "| Sort | time to sort | number of comparisons | number of swaps|\n",
    "| ----------- | --------------------------------- | ----------- | ----------- |\n",
    "| Bubble      | 39090225.4 ( 0.03909023 sec )     | 24995000       | 18711184   |\n",
    "| Selection   | 25798806.6  ( 0.02579881 sec )    | 12497500       | 5000   |\n",
    "| Insertion   | 15715822.3 ( 0.01571582 sec )     | 6150953      | 6150953   |\n",
    "| Merge       | 14822438.2 ( 0.01482244 sec )     | 55175        | 61808   |\n"
   ]
  },
  {
   "attachments": {},
   "cell_type": "markdown",
   "metadata": {},
   "source": [
    "#### Hashmap(Binary Search vs. HashMap Lookup)"
   ]
  },
  {
   "attachments": {},
   "cell_type": "markdown",
   "metadata": {},
   "source": [
    "#### HashMap Random Lookup\n",
    "- Results:\n",
    "\n",
    "| time to search 100 random keys ( Nanoseconds )| \n",
    "| ----------- | \n",
    "| 21147409        | \n",
    "| 17971487        | \n",
    "| 14196609        | \n",
    "| 23624916        | \n",
    "| 11359610        | \n",
    "| 12544533        | \n",
    "| 14472982        | \n",
    "| 14071210        | \n",
    "| 11588485        | \n",
    "| 14515871        | \n",
    "| 11867038        | \n",
    "| 10295192        | \n",
    "- Average Result ( throw out High and Low ) :\n",
    "\n",
    "| time to search| \n",
    "| ----------- | \n",
    "| 14373523.4 ( 0.01437352 sec ) |"
   ]
  },
  {
   "cell_type": "code",
   "execution_count": 98,
   "metadata": {
    "vscode": {
     "languageId": "java"
    }
   },
   "outputs": [
    {
     "name": "stdout",
     "output_type": "stream",
     "text": [
      "-1807590958 -2022798256 -265889577 -1284133417 -1865923133 -1499463285 -1453802482 -988082258 -1698817405 778147834 -394236743 -1079096090 -221649971 561792724 -855262580 1750775252 -2101523736 -1360335804 -1038841541 -361839305 721622123 750616224 -2037365889 -394824207 1149997312 -189846171 868359064 -249171623 1489800719 1670148897 438741829 -783775279 -1675428194 -2095325306 -1225406038 -354902172 171683063 -1569320304 930291783 1293822786 -1151432786 -873508315 1531127508 1848599485 1404713989 569221106 -2118526719 -1631275559 -1384121399 -1836948568 -947738434 -760631961 657253524 724656068 1944379065 -230118707 -1345757187 1663479151 1577629748 -2143869268 -854710992 -899334937 -1247063951 1601541118 -52885294 153078620 -2088737819 -1254006374 135224691 -1939190201 -77243665 98313747 1482970184 -15059824 -1793050088 26918344 -40886393 -620594971 211095118 1795421435 1997265781 149262331 123703442 309585153 1167314106 956946075 2029342129 -1394478569 -37262916 -1263449873 -1145821007 2126656753 -664035681 1945636786 279373443 -409301321 -591609622 -748432348 2118909879 -1643864658 \n",
      "Nanoseconds: 11071151\n"
     ]
    }
   ],
   "source": [
    "import java.util.HashMap;\n",
    "import java.util.Map;\n",
    "import java.util.Random;\n",
    "\n",
    "Random num = new Random();\n",
    "Map<String, Integer> myHashMap = new HashMap<>();\n",
    "for (int i = 0; i < 5000; i++) {\n",
    "    myHashMap.put(\"apple\" + i, num.nextInt()); // storing random integers\n",
    "}\n",
    "long start = System.nanoTime();\n",
    "\n",
    "for(int i =0; i<100; i++){   \n",
    "    int random = (int)(Math.random()*5000);          //random search by 100 keys\n",
    "    System.out.print(myHashMap.get(\"apple\" + random) + \" \");\n",
    "}\n",
    "\n",
    "long finish = System.nanoTime();\n",
    "long timeElapsed = finish - start;\n",
    "System.out.println();\n",
    "System.out.println(\"Nanoseconds: \" + timeElapsed);"
   ]
  },
  {
   "attachments": {},
   "cell_type": "markdown",
   "metadata": {},
   "source": [
    "#### Random Binary Search\n",
    "- Results:\n",
    "\n",
    "| time to search 100 random keys ( Nanoseconds )| \n",
    "| ----------- | \n",
    "| 1096481       | \n",
    "| 762543        | \n",
    "| 756480        | \n",
    "| 737596        | \n",
    "| 769618        | \n",
    "| 812615        | \n",
    "| 757250        | \n",
    "| 693996        | \n",
    "| 782765        | \n",
    "| 752727        | \n",
    "| 873094        | \n",
    "| 690335        | \n",
    "- Average Result ( throw out High and Low ) :\n",
    "\n",
    "| time to search| \n",
    "| ----------- | \n",
    "| 769868.4 ( 0.0007698684 sec ) |\n",
    "\n",
    "- The time complexity of binary search is O(log n)"
   ]
  },
  {
   "cell_type": "code",
   "execution_count": 117,
   "metadata": {
    "vscode": {
     "languageId": "java"
    }
   },
   "outputs": [
    {
     "name": "stdout",
     "output_type": "stream",
     "text": [
      "908 4462 456 896 2577 3675 4318 1131 4396 4512 3376 4798 1218 662 3906 1309 3940 3253 2303 4935 2924 1463 3360 492 4177 450 1066 410 864 4894 247 2829 2523 2790 1871 2111 4850 2489 2642 4426 4239 1444 593 1864 3392 2520 2732 3892 2123 3231 3470 4811 1213 4772 3429 290 1555 1248 2496 4966 1067 69 3420 1586 2869 2110 3045 129 4964 4815 2315 2895 4267 3168 3509 3600 1142 2050 3783 86 4747 4340 2984 1395 4390 1773 865 590 2784 433 4303 4894 3571 4543 3846 4436 2715 1077 923 113 \n",
      "Nanoseconds: 996107\n"
     ]
    }
   ],
   "source": [
    "import java.util.Random;\n",
    "\n",
    "class BinarySearchExample{  \n",
    "   public static void binarySearch(int arr[], int key){  \n",
    "   int first = 0;\n",
    "   int last=arr.length-1;\n",
    "   int mid = (first + last)/2;  \n",
    "      while( first <= last ){  \n",
    "         if ( arr[mid] < key ){  \n",
    "           first = mid + 1;     \n",
    "         }\n",
    "         else if ( arr[mid] == key ){  \n",
    "           System.out.print(mid + \" \");  \n",
    "           break;  \n",
    "         }\n",
    "         else{  \n",
    "            last = mid - 1;  \n",
    "         }  \n",
    "         mid = (first + last)/2;  \n",
    "      }  \n",
    "      if ( first > last ){  \n",
    "         System.out.println(\"Element is not found!\");  \n",
    "      }  \n",
    "   }  \n",
    "   \n",
    "   public static void main(String args[]){  \n",
    "      Random num = new Random();\n",
    "\n",
    "      int arr[] = new int[5000];\n",
    "      for (int i = 0; i < arr.length; i++) {\n",
    "         arr[i] = i; // storing random integers in an array\n",
    "      }\n",
    "      \n",
    "      long start = System.nanoTime();\n",
    "      for(int i =0; i<100; i++){ \n",
    "         int random = (int)(Math.random()*5000);   //random search by 100 keys\n",
    "         binarySearch(arr, arr[random]);\n",
    "      }\n",
    "      long finish = System.nanoTime();\n",
    "      long timeElapsed = finish - start;\n",
    "      System.out.println();\n",
    "      System.out.println(\"Nanoseconds: \" + timeElapsed);  \n",
    "   }  \n",
    "}  \n",
    "BinarySearchExample.main(null);"
   ]
  },
  {
   "attachments": {},
   "cell_type": "markdown",
   "metadata": {},
   "source": [
    "| Binary Search vs HashMap Lookup | Time to Search |\n",
    "| ----------- | --------------------------------- |\n",
    "| HashMap Lookup | 14373523.4 ( 0.01437352 sec )  |\n",
    "| Binary Search  | 769868.4 ( 0.0007698684 sec )  |"
   ]
  }
 ],
 "metadata": {
  "kernelspec": {
   "display_name": "Java",
   "language": "java",
   "name": "java"
  },
  "language_info": {
   "codemirror_mode": "java",
   "file_extension": ".jshell",
   "mimetype": "text/x-java-source",
   "name": "Java",
   "pygments_lexer": "java",
   "version": "11.0.17+8-post-Ubuntu-1ubuntu218.04"
  },
  "orig_nbformat": 4
 },
 "nbformat": 4,
 "nbformat_minor": 2
}
