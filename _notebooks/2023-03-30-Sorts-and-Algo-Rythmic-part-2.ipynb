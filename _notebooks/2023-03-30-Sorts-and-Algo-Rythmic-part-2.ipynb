{
 "cells": [
  {
   "attachments": {},
   "cell_type": "markdown",
   "metadata": {},
   "source": [
    "# Sorts and Algo Rythmic part 2\n",
    "> Sorts and Algo Rythmic part 2 Hacks\n",
    "\n",
    "- toc: true \n",
    "- badges: true\n",
    "- comments: true\n",
    "- categories: [CSA]\n",
    "- image: images/chart-preview.png"
   ]
  },
  {
   "attachments": {},
   "cell_type": "markdown",
   "metadata": {},
   "source": [
    "# Hacks\n",
    "Build your favorite sort into your custom built collection, aka LinkedList\n",
    "\n",
    "- Implement a Sort into your LL in Jupyter Notebook ... Here is concept.- Utilize Capabilities of Object overrides with toString and compareTo to Sort using Object overrides (these are built in by extending Collectable, formerly Generics). Build toString to return JSON for LinkedList, Queue and/or Stack so they could be utilized with API.\n",
    "\n",
    "- Demostrate changing Sort keys with Tester Methods\n",
    "\n",
    "- Look at this for FrontEnd ideas using these new Data Ops"
   ]
  },
  {
   "cell_type": "code",
   "execution_count": 1,
   "metadata": {
    "vscode": {
     "languageId": "java"
    }
   },
   "outputs": [
    {
     "ename": "CompilationException",
     "evalue": "",
     "output_type": "error",
     "traceback": [
      "\u001b[1m\u001b[30m|   \u001b[1m\u001b[30m\u001b[0m\u001b[1m\u001b[30m\u001b[41m\u001b[0m\u001b[1m\u001b[30mpackage com.nighthawk.csa.utility.LinkedLists;\u001b[0m",
      "\u001b[1m\u001b[31millegal start of expression\u001b[0m",
      ""
     ]
    }
   ],
   "source": [
    "//it doesn't work...So I might need to use normal List to fit the concept\n",
    "package com.nighthawk.csa.utility.LinkedLists;"
   ]
  },
  {
   "cell_type": "code",
   "execution_count": 24,
   "metadata": {
    "vscode": {
     "languageId": "java"
    }
   },
   "outputs": [
    {
     "name": "stdout",
     "output_type": "stream",
     "text": [
      "Bird name: Landroval, type: sparrow, age: 1\n"
     ]
    }
   ],
   "source": [
    "\n",
    "public class Animal{ \n",
    "    private String name; //ignore from here to \n",
    "    private int age;\n",
    "\n",
    "    public Animal(){\n",
    "        this.name = \"default\";\n",
    "        this.age = 0;\n",
    "    };\n",
    "\n",
    "    public Animal(String a, int b){\n",
    "        name = a;\n",
    "        age = b;\n",
    "    };\n",
    "\n",
    "    public String getName(){\n",
    "        return name;\n",
    "    };  \n",
    "\n",
    "    public int getAge(){\n",
    "        return age;\n",
    "    };                              //here\n",
    "\n",
    "    //focus on this toString method, later below we will how does the object override works\n",
    "    public String toString(){\n",
    "        return \"Animal name: \" + name  + \", age: \" + age;\n",
    "    }\n",
    "\n",
    "}\n",
    "\n",
    "//Inheritance, class Bird is a subclass to class Animal\n",
    "public class Bird extends Animal{     \n",
    "    private String type;\n",
    "\n",
    "    public Bird(){          //Skip here to \n",
    "        super();\n",
    "        this.type = \"default\";\n",
    "    };\n",
    "\n",
    "    public Bird(String a, int b, String Birdtype){\n",
    "        super(a, b);\n",
    "        this.type = Birdtype;\n",
    "    };\n",
    "\n",
    "    public String getType(){\n",
    "        return type;\n",
    "    };                      //here\n",
    "                                \n",
    "\n",
    "    //Remember this toString method, we will use it later.\n",
    "    public String toString(){\n",
    "        return \"Bird name: \" + getName() + \", type: \" + type + \", age: \" + getAge();\n",
    "    }\n",
    "}\n",
    "\n",
    "Animal list = new Bird(\"Landroval\", 1, \"sparrow\"); //Animal type reference refers to a Bird object \n",
    "System.out.println(list); //Bird's toString is called. This is called RUN TIME POLYMORPHISM."
   ]
  },
  {
   "attachments": {},
   "cell_type": "markdown",
   "metadata": {},
   "source": [
    "- Object override : When a method in a subclass has the same name, same parameters or signature, and same return type(or sub-type) as a method in its super-class, then the method in the subclass is said to override the method in the super-class."
   ]
  }
 ],
 "metadata": {
  "kernelspec": {
   "display_name": "Java",
   "language": "java",
   "name": "java"
  },
  "language_info": {
   "codemirror_mode": "java",
   "file_extension": ".jshell",
   "mimetype": "text/x-java-source",
   "name": "Java",
   "pygments_lexer": "java",
   "version": "11.0.17+8-post-Ubuntu-1ubuntu218.04"
  },
  "orig_nbformat": 4
 },
 "nbformat": 4,
 "nbformat_minor": 2
}
