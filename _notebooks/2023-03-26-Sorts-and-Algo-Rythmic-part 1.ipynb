{
 "cells": [
  {
   "attachments": {},
   "cell_type": "markdown",
   "metadata": {},
   "source": [
    "# Sorts and Algo Rythmic part 1\n",
    "> Sorts and Algo Rythmic part 1 Hacks\n",
    "\n",
    "- toc: true \n",
    "- badges: true\n",
    "- comments: true\n",
    "- categories: [CSA]\n",
    "- image: images/chart-preview.png"
   ]
  },
  {
   "attachments": {},
   "cell_type": "markdown",
   "metadata": {},
   "source": [
    "# Hacks\n",
    "#### CB wants you to work with Bubble Sort, Selection Sort, Insertion Sort and Merge Sort. The material on these sorts is prevelant on the Internet and ChatGPT.\n",
    "\n",
    "- Build into this Jupyter Notebook(s) for Bubble Sort, Selection Sort, Insertion Sort and Merge Sort.\n",
    "\n",
    "- Build into this Jupyter Notebooks Tester methods that runs each Sort\n",
    "\n",
    "- Commit to GitHub Repository often, try to use GitHub commits to show iterations on work\n",
    "\n",
    "- Note, build your sorts into Generic T Queue using toString and compareTo to compare keys.\n"
   ]
  },
  {
   "attachments": {},
   "cell_type": "markdown",
   "metadata": {},
   "source": [
    "## Methods we used:"
   ]
  },
  {
   "attachments": {},
   "cell_type": "markdown",
   "metadata": {},
   "source": [
    "### Print array - .toString()"
   ]
  },
  {
   "cell_type": "code",
   "execution_count": null,
   "metadata": {},
   "outputs": [],
   "source": [
    "int[] myArray = {1,2,3,4,5};\n",
    "\n",
    "for (int i = 0; i < myArray.length; i++){\n",
    "    System.out.print(Arrays.toString(myArray));\n",
    "}"
   ]
  },
  {
   "attachments": {},
   "cell_type": "markdown",
   "metadata": {},
   "source": [
    "### compareTo()\n",
    "- The compareTo() method is a method provided by the Java programming language that is used to compare two objects(wrapper class, include Integer, String, etc...). \n",
    "\n",
    "- if it is a String object - compare alphabetically, return 0 if String is equal to its String input and return a value greater 0 if String is greater than the String it compare to, and return a value less than 0 if String is less than the String it compare to.<br>\n",
    "ex. guess1.compareTo(guess2)>0,  if String guess1 is greater than guess2<br>"
   ]
  },
  {
   "attachments": {},
   "cell_type": "markdown",
   "metadata": {},
   "source": [
    "## Build into this Jupyter Notebook(s) for Bubble Sort, Selection Sort, Insertion Sort and Merge Sort.\n",
    "\n",
    "#### Bubble Sort\n",
    "- All that happens is that adjacent partners swap if they are in the wrong slot until the algorithm is complete. Notice they have to do a final pass before they can decide that it really is \"all sorted\"."
   ]
  },
  {
   "cell_type": "code",
   "execution_count": 54,
   "metadata": {},
   "outputs": [
    {
     "name": "stdout",
     "output_type": "stream",
     "text": [
      "1 2 3 4 5 "
     ]
    }
   ],
   "source": [
    "public class BubbleSort{  \n",
    "    static void bubbleSort(int[] arr) {   \n",
    "        int temp = 0;  \n",
    "        for(int i=0; i < arr.length; i++){  \n",
    "            for(int j=1; j < (arr.length-i); j++){  \n",
    "                if(arr[j-1] > arr[j]){   \n",
    "                    temp = arr[j-1];  \n",
    "                    arr[j-1] = arr[j];  \n",
    "                    arr[j] = temp;  \n",
    "                }  \n",
    "            }  \n",
    "        }  \n",
    "  \n",
    "    }  \n",
    "    public static void main(String[] args) {  \n",
    "        int arr[] ={1,5,4,3,2};         \n",
    "        bubbleSort(arr); \n",
    "        for(int i=0; i < arr.length; i++){  \n",
    "                System.out.print(arr[i] + \" \");  \n",
    "            }\n",
    "        }  \n",
    "}  \n",
    "BubbleSort.main(null);\n"
   ]
  },
  {
   "attachments": {},
   "cell_type": "markdown",
   "metadata": {},
   "source": [
    "#### Selection Sort\n",
    "- Selection sort is a linear sort algorithm as it moves from index [0] to [n-1]. In the inner loop which is a second linear loop it compares two elements (like seen in the visual below) and notes which is smallest, after cycling to the end it swaps the smallest number to beginning position in the round."
   ]
  },
  {
   "cell_type": "code",
   "execution_count": 9,
   "metadata": {},
   "outputs": [],
   "source": [
    "private void swapItems(int firstIndex, int secondIndex, Object[] arrayOfStuff){\n",
    "    Object thirdHand = arrayOfStuff[firstIndex];\n",
    "    arrayOfStuff[firstIndex] = arrayOfStuff[secondIndex];\n",
    "    arrayOfStuff[secondIndex] = thirdHand;\n",
    "}"
   ]
  },
  {
   "cell_type": "code",
   "execution_count": 42,
   "metadata": {},
   "outputs": [
    {
     "name": "stdout",
     "output_type": "stream",
     "text": [
      "1 2 3 4 5 "
     ]
    }
   ],
   "source": [
    "Integer[] Array = {1,5,4,3,2};\n",
    "\n",
    "for (int outerLoop = 0; outerLoop < Array.length; outerLoop++){\n",
    "    int minIndex = outerLoop;\n",
    "    for (int inner = outerLoop +1; inner < Array.length; inner++){\n",
    "        if (Array[inner].compareTo(Array[minIndex]) < 0){\n",
    "            minIndex = inner;\n",
    "        }\n",
    "    }\n",
    "\n",
    "    if (minIndex != outerLoop){\n",
    "        swapItems(minIndex, outerLoop, Array);\n",
    "    }\n",
    "}\n",
    "\n",
    "for (int i = 0; i < Array.length; i++){\n",
    "    System.out.print(Array[i] + \" \");\n",
    "}\n"
   ]
  },
  {
   "attachments": {},
   "cell_type": "markdown",
   "metadata": {},
   "source": [
    "#### Insertion Sort\n",
    "- The insertion sort is characterized by building a sorted structure as it proceeds. It inserts each value it finds at the appropriate location in the data structure. This is often accomplished by using a while loop as the inner loop."
   ]
  },
  {
   "cell_type": "code",
   "execution_count": 41,
   "metadata": {},
   "outputs": [
    {
     "name": "stdout",
     "output_type": "stream",
     "text": [
      "1 2 3 4 5 "
     ]
    }
   ],
   "source": [
    "ArrayList<Integer> tester = new ArrayList<Integer>();\n",
    "tester.add(1);\n",
    "tester.add(5);\n",
    "tester.add(4);\n",
    "tester.add(3);\n",
    "tester.add(2);\n",
    "\n",
    "for (int outerLoop = 1; outerLoop < tester.size(); outerLoop++){\n",
    "    Integer tested = tester.get(outerLoop);\n",
    "    int inner = outerLoop -1 ;\n",
    "    while (inner >= 0 && tested.compareTo(tester.get(inner)) < 0){\n",
    "        tester.set(inner + 1, tester.get(inner));\n",
    "        inner--;\n",
    "    }\n",
    "    tester.set(inner + 1, tested);\n",
    "}\n",
    "\n",
    "for (int i = 0; i < tester.size(); i++){\n",
    "    System.out.print(tester.get(i) + \" \");\n",
    "}\n"
   ]
  },
  {
   "attachments": {},
   "cell_type": "markdown",
   "metadata": {},
   "source": [
    "#### Merge Sort\n",
    "- This algorithm uses a divide and conquer algorithm, versus linear algorithm of insertion or selection sort. Looking at it can be complicated, but it is more simple than it looks. It divides the array into two different groups recursively, until it gets only two to compare, swaps if necessary. Then it pops out of the recursion, observe the cascading and then the inverted assembly in illustration, after pop it puts each split group back together using a sorted comparison."
   ]
  },
  {
   "cell_type": "code",
   "execution_count": 49,
   "metadata": {},
   "outputs": [
    {
     "name": "stdout",
     "output_type": "stream",
     "text": [
      "1 2 3 4 5 "
     ]
    }
   ],
   "source": [
    "public static void merge(int[] a, int[] l, int[] r, int left, int right) {\n",
    " \n",
    "    int i = 0, j = 0, k = 0;\n",
    "    while (i < left && j < right) {\n",
    "        if (l[i] <= r[j]) {\n",
    "            a[k++] = l[i++];\n",
    "        }\n",
    "        else {\n",
    "            a[k++] = r[j++];\n",
    "        }\n",
    "    }\n",
    "    while (i < left) {\n",
    "        a[k++] = l[i++];\n",
    "    }\n",
    "    while (j < right) {\n",
    "        a[k++] = r[j++];\n",
    "    }\n",
    "}\n",
    "\n",
    "public static void mergeSort(int[]myArray, int index){\n",
    "        if (index < 2){\n",
    "            return;\n",
    "        }\n",
    "    \n",
    "        int middle = (index)/2;\n",
    "        int[] leftArray = new int[middle];\n",
    "        int[] rightArray = new int[index - middle];\n",
    "    \n",
    "        for (int i = 0; i < middle; i++) {\n",
    "            leftArray[i] = myArray[i];\n",
    "        }\n",
    "        for (int i = middle; i < index; i++) {\n",
    "            rightArray[i - middle] = myArray[i];\n",
    "        }\n",
    "        mergeSort(leftArray, middle);\n",
    "        mergeSort(rightArray, index - middle);\n",
    "        merge(myArray, leftArray, rightArray, middle, index-middle);\n",
    "}\n",
    "\n",
    "int[] tester = { 1,5,4,3,2 };\n",
    "mergeSort(tester, tester.length);\n",
    "for (int i = 0; i < tester.length; i++){\n",
    "    System.out.print(tester[i] + \" \");\n",
    "}\n",
    "\n"
   ]
  }
 ],
 "metadata": {
  "kernelspec": {
   "display_name": "Java",
   "language": "java",
   "name": "java"
  },
  "language_info": {
   "codemirror_mode": "java",
   "file_extension": ".jshell",
   "mimetype": "text/x-java-source",
   "name": "java",
   "pygments_lexer": "java",
   "version": "11.0.17+8-post-Ubuntu-1ubuntu218.04"
  },
  "orig_nbformat": 4
 },
 "nbformat": 4,
 "nbformat_minor": 2
}
