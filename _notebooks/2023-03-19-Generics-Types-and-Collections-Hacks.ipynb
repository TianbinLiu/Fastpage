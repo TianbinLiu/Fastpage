{
 "cells": [
  {
   "attachments": {},
   "cell_type": "markdown",
   "metadata": {},
   "source": [
    "# Generics Types and Collections\n",
    "> Generics Types and Collections Hacks\n",
    "\n",
    "- toc: true \n",
    "- badges: true\n",
    "- comments: true\n",
    "- categories: [CSA]\n",
    "- image: images/chart-preview.png"
   ]
  },
  {
   "attachments": {},
   "cell_type": "markdown",
   "metadata": {},
   "source": [
    "# Hacks\n",
    "- Watch the college board video Classes and Objects* Blog and Define the details of a Class: Access modifier, constructor, modifiers/setters, getters, etc.\n",
    "- Build example code in jupyter notebook with Linked List, Queues, and Stacks.\n",
    "- Show familiarity with managing data (aka nodes in LL) in these structures.\n",
    "- Show familiarity with Generic data and ForEach loop support, similar to ArrayLists T. Here is sample Java Generic T and the Java Iterable interface by Geeks4Geeks."
   ]
  },
  {
   "attachments": {},
   "cell_type": "markdown",
   "metadata": {},
   "source": [
    "## Watch the college board video Classes and Objects* Blog and Define the details of a Class: Access modifier, constructor, modifiers/setters, getters, etc.\n",
    "\n",
    "### Define vocabulary\n",
    "- constructor: <br>\n",
    "creating class object, can have multiple constructor under a class(different argument). Usually when we use method outside the class, we first need to create a class object by calling the constructor, then use object.method(). <br>\n",
    "For example we can use the static methods from the math class we import in the directory like sqrt(), random()...etc and creating Math object to do the calculation. <br>\n",
    "Math.sqrt(argument), Math.random(). - all the methods are return methods.<br>\n",
    "\n",
    "The collegeboard video didn't talk about Access modifier, modifiers/setters, and getters. So I find the definition online:<br>\n",
    "\n",
    "1.Access modifier:<br>\n",
    "Default – No keyword required<br>\n",
    "Private<br>\n",
    "Protected<br>\n",
    "Public<br>\n",
    "<br>\n",
    "Default: When no access modifier is specified for a class, method, or data member – It is said to be having the default access modifier by default. <br>\n",
    "\n",
    "Private: <br>\n",
    "- The methods or data members declared as private are accessible only within the class in which they are declared.\n",
    "- Any other class of the same package will not be able to access these members.\n",
    "- Top-level classes or interfaces can not be declared as private because\n",
    "- - private means “only visible within the enclosing class”.\n",
    "- - protected means “only visible within the enclosing class and any subclasses”\n",
    "\n",
    "Protected: <br>\n",
    "The methods or data members declared as protected are accessible within the same package or subclasses in different packages.<br>\n",
    "<br>\n",
    "\n",
    "Public: <br>\n",
    "-  The public access modifier has the widest scope among all other access modifiers.\n",
    "- Classes, methods, or data members that are declared as public are accessible from everywhere in the program. There is no restriction on the scope of public data members.\n",
    "\n",
    "<br>\n",
    "Getters/Setters:<br>\n",
    "<br>\n",
    "getter - return the value, ex. accessors methods<br>\n",
    "setter - sets/update the value, ex. mutators methods<br>\n",
    "\n",
    "\n"
   ]
  },
  {
   "attachments": {},
   "cell_type": "markdown",
   "metadata": {},
   "source": [
    "## Build example code in jupyter notebook with Linked List, Queues, and Stacks."
   ]
  },
  {
   "cell_type": "code",
   "execution_count": null,
   "metadata": {
    "vscode": {
     "languageId": "java"
    }
   },
   "outputs": [],
   "source": []
  },
  {
   "attachments": {},
   "cell_type": "markdown",
   "metadata": {},
   "source": [
    "## Show familiarity with managing data (aka nodes in LL) in these structures."
   ]
  },
  {
   "cell_type": "markdown",
   "metadata": {},
   "source": []
  },
  {
   "attachments": {},
   "cell_type": "markdown",
   "metadata": {},
   "source": [
    "## Show familiarity with Generic data and ForEach loop support, similar to ArrayLists T. Here is sample Java Generic T and the Java Iterable interface by Geeks4Geeks."
   ]
  },
  {
   "cell_type": "markdown",
   "metadata": {},
   "source": []
  },
  {
   "attachments": {},
   "cell_type": "markdown",
   "metadata": {},
   "source": [
    "# Hacks:Code\n",
    "## Challenge #1\n",
    "Add and Delete elements from Queue. Working with the code that is given, you will need to adjust Add and write Delete, to output from the Queue as follows."
   ]
  },
  {
   "cell_type": "code",
   "execution_count": null,
   "metadata": {
    "vscode": {
     "languageId": "java"
    }
   },
   "outputs": [],
   "source": []
  }
 ],
 "metadata": {
  "language_info": {
   "name": "python"
  },
  "orig_nbformat": 4
 },
 "nbformat": 4,
 "nbformat_minor": 2
}
