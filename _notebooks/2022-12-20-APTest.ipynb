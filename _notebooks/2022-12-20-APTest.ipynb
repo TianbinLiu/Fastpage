{
 "cells": [
  {
   "attachments": {},
   "cell_type": "markdown",
   "metadata": {},
   "source": [
    "# 2D Array"
   ]
  },
  {
   "attachments": {},
   "cell_type": "markdown",
   "metadata": {},
   "source": [
    "<img src=\"images/2DArray/2DArrayMCQ1.png\" alt=\"Alternative text\" />\n"
   ]
  },
  {
   "attachments": {},
   "cell_type": "markdown",
   "metadata": {},
   "source": [
    "## Answer:  D"
   ]
  },
  {
   "attachments": {},
   "cell_type": "markdown",
   "metadata": {},
   "source": [
    "<img src=\"images/2DArray/2DArrayMCQ2a.png\" alt=\"Alternative text\" />\n",
    "<img src=\"images/2DArray/2DArrayMCQ2b.png\" alt=\"Alternative text\" />"
   ]
  },
  {
   "attachments": {},
   "cell_type": "markdown",
   "metadata": {},
   "source": [
    "## Answer : B"
   ]
  },
  {
   "attachments": {},
   "cell_type": "markdown",
   "metadata": {},
   "source": [
    "<img src=\"images/2DArray/2DArrayMCQ3.png\" alt=\"Alternative text\" />"
   ]
  },
  {
   "attachments": {},
   "cell_type": "markdown",
   "metadata": {},
   "source": [
    "## Answer: \n",
    "## (A.) \n",
    "## (B.)\n",
    "## (C.)\n",
    "## (D.)"
   ]
  },
  {
   "attachments": {},
   "cell_type": "markdown",
   "metadata": {},
   "source": [
    "<img src=\"images/2DArray/2DArrayFRQ1.png\" alt=\"Alternative text\" />"
   ]
  },
  {
   "cell_type": "code",
   "execution_count": null,
   "metadata": {
    "vscode": {
     "languageId": "java"
    }
   },
   "outputs": [],
   "source": [
    "private void fillBlock(String str){\n",
    "    String [][] letterBlock = new String [numRows][numCols];\n",
    "    for (c = 0; c < letterBlock[r].length; c++){\n",
    "        for (r = 0; r < letterBlock.length ; r++){\n",
    "            letterBlock[r][c] = ;\n",
    "            \n",
    "        }\n",
    "    }\n",
    "}"
   ]
  }
 ],
 "metadata": {
  "language_info": {
   "name": "python"
  },
  "orig_nbformat": 4
 },
 "nbformat": 4,
 "nbformat_minor": 2
}
