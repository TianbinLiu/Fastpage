{
 "cells": [
  {
   "attachments": {},
   "cell_type": "markdown",
   "metadata": {},
   "source": [
    "# HW\n",
    "> HW\n",
    "\n",
    "- toc: true \n",
    "- badges: true\n",
    "- comments: true\n",
    "- categories: [CSA]\n",
    "- image: images/chart-preview.png"
   ]
  },
  {
   "attachments": {},
   "cell_type": "markdown",
   "metadata": {},
   "source": [
    "## Hack 1"
   ]
  },
  {
   "cell_type": "code",
   "execution_count": 1,
   "metadata": {
    "vscode": {
     "languageId": "java"
    }
   },
   "outputs": [
    {
     "name": "stdout",
     "output_type": "stream",
     "text": [
      "Enter the number of the 4-wheel cars: \n",
      "Enter the number of the 2-wheel cars: \n",
      "\n",
      "The total number of wheels: 8\n"
     ]
    }
   ],
   "source": [
    "public class Hack1 {\n",
    "    public static void main(String[] args) {\n",
    "        \n",
    "        //calculate cars\n",
    "        Scanner scanner = new Scanner(System.in);\n",
    "        System.out.println(\"Enter the number of the 4-wheel cars: \");\n",
    "        double car1 = scanner.nextDouble();\n",
    "\n",
    "        Scanner scanner2 = new Scanner(System.in);\n",
    "        System.out.println(\"Enter the number of the 2-wheel cars: \");\n",
    "        double car2 = scanner2.nextDouble();\n",
    "\n",
    "        System.out.println();\n",
    "        System.out.println(\"The total number of wheels: \" + (int)(car1*4 + car2*2));\n",
    "\n",
    "        scanner.close();\n",
    "        scanner2.close();\n",
    "\n",
    "    }\n",
    "}\n",
    "Hack1.main(null);"
   ]
  },
  {
   "attachments": {},
   "cell_type": "markdown",
   "metadata": {},
   "source": [
    "## Hack 2"
   ]
  },
  {
   "cell_type": "code",
   "execution_count": 21,
   "metadata": {
    "vscode": {
     "languageId": "java"
    }
   },
   "outputs": [],
   "source": [
    "public class Car {\n",
    "    private String make;\n",
    "    private String model;\n",
    "    private int year;\n",
    "    private double price;\n",
    "    private boolean isUsed;\n",
    "\n",
    "    public Car(String makeInput, String modelInput, int yearInput, double priceInput, boolean isUsedInput){\n",
    "        make = makeInput;\n",
    "        model = modelInput;\n",
    "        year = yearInput;\n",
    "        price = priceInput;\n",
    "        isUsed = isUsedInput;\n",
    "    }\n",
    "\n",
    "    public String getMake() {\n",
    "        return make;\n",
    "    }\n",
    "\n",
    "    public String getModel() {\n",
    "        return model;\n",
    "    }\n",
    "\n",
    "    public int getYear() {\n",
    "        return year;\n",
    "    }\n",
    "\n",
    "    public double getPrice() {\n",
    "        return price;\n",
    "    }\n",
    "\n",
    "    public boolean getIsUsed() {\n",
    "        return isUsed;\n",
    "    }\n",
    "\n",
    "    // create constructor\n",
    "    public void printCarDetails() {\n",
    "        System.out.println(getMake() + getModel() + getYear() + getPrice() + getIsUsed());\n",
    "    }\n",
    "\n",
    "    public static void main(String[] args) {\n",
    "       Car[] cars  = {new Car(\"make1\", \"model1\",  1, 1.0, true), new Car(\"make2\", \"model2\",  2, 2.0, false), new Car(\"make3\", \"model3\",  3, 3.0, true)};\n",
    "\n",
    "\n",
    "    }\n",
    "}"
   ]
  }
 ],
 "metadata": {
  "kernelspec": {
   "display_name": "Java",
   "language": "java",
   "name": "java"
  },
  "language_info": {
   "codemirror_mode": "java",
   "file_extension": ".jshell",
   "mimetype": "text/x-java-source",
   "name": "Java",
   "pygments_lexer": "java",
   "version": "11.0.17+8-post-Ubuntu-1ubuntu218.04"
  },
  "orig_nbformat": 4
 },
 "nbformat": 4,
 "nbformat_minor": 2
}
