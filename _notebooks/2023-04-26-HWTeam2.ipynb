{
 "cells": [
  {
   "attachments": {},
   "cell_type": "markdown",
   "metadata": {},
   "source": [
    "# HWTeam2\n",
    "> HWTeam2\n",
    "\n",
    "- toc: true \n",
    "- badges: true\n",
    "- comments: true\n",
    "- categories: [CSA]\n",
    "- image: images/chart-preview.png"
   ]
  },
  {
   "attachments": {},
   "cell_type": "markdown",
   "metadata": {},
   "source": [
    "## Unit 5 Hack\n",
    "Class which has a constructor which sets at least 1 public and 1 private attribute (incorporate “this” keyword) <hr>\n",
    "Class which has public and private attributes and methods <hr>\n",
    "Class which has at least 1 static attribute <hr>\n",
    "Class which has getters and setters for at least 1 private attribute <hr>"
   ]
  },
  {
   "cell_type": "code",
   "execution_count": 2,
   "metadata": {
    "vscode": {
     "languageId": "java"
    }
   },
   "outputs": [
    {
     "name": "stdout",
     "output_type": "stream",
     "text": [
      "Enter the number of cars: \n",
      "Enter the make of your 2 car: \n",
      "Enter the model of your 2 car: \n",
      "Enter the make of your 1 car: \n",
      "Enter the model of your 1 car: \n",
      "Want to check the cars you own in the garage? Type yes or no: \n",
      "You have 2 cars in your garage.\n",
      "Make: a, Model: b, Vehicle residence time: 47 days\n",
      "Make: b, Model: a, Vehicle residence time: 39 days\n",
      "\n",
      "Do you want to get any cars out from the garage? If yes, enter the car make + space + car model, if no, type no: \n",
      "\n",
      "Want to add more car? Enter yes or no: \n"
     ]
    }
   ],
   "source": [
    "public class Car {\n",
    "    private static HashMap<String, Car> Garage = new HashMap<String, Car>();\n",
    "\n",
    "    private String make;\n",
    "    private String model;\n",
    "    private static int carCount;\n",
    "\n",
    "    private long start;\n",
    "    private long finish;\n",
    "\n",
    "    public String nothing = \"why do we need a public attribute? does private instance and the getter doesn't seems good enough?\";\n",
    "    \n",
    "    // Constructor\n",
    "    public Car(String make, String model) {\n",
    "        this.make = make;\n",
    "        this.model = model;\n",
    "        this.start = System.currentTimeMillis()/100;\n",
    "        Garage.put((make + \" \" + model), this);\n",
    "    }\n",
    "    \n",
    "    // Getter methods\n",
    "    public String getMake() {\n",
    "        return make;\n",
    "    }\n",
    "    \n",
    "    public String getModel() {\n",
    "        return model;\n",
    "    }\n",
    "\n",
    "    public long getCarEnter(){\n",
    "        return start;\n",
    "    }\n",
    "\n",
    "    public long getCarExit(){\n",
    "        finish = System.currentTimeMillis()/100;\n",
    "        return finish;\n",
    "    }\n",
    "\n",
    "    public static void CarExit(String carMakeAndModel){\n",
    "        Garage.remove(carMakeAndModel);\n",
    "    }\n",
    "\n",
    "    public static long getCurrentCarTime(Car check){\n",
    "        return (check.getCarExit() - check.getCarEnter());\n",
    "    }\n",
    "\n",
    "    public static int getCarCount(){\n",
    "        return Garage.size();\n",
    "    }\n",
    "    \n",
    "    public String toString() {\n",
    "        return (\"Make: \" + getMake() + \", Model: \" + getModel() + \", Vehicle residence time: \" + getCurrentCarTime(this) + \" days\");\n",
    "    }\n",
    "\n",
    "    // Main method\n",
    "    public static void main(String[] args) {\n",
    "        boolean checkUser = true;\n",
    "        while(true){\n",
    "            while (checkUser){\n",
    "                try{\n",
    "                    Scanner scanner = new Scanner(System.in);\n",
    "                    System.out.println(\"Enter the number of cars: \");\n",
    "                    int carNum = scanner.nextInt();\n",
    "                    while(carNum >0){ //Use a while loop to ensure that the user enters a positive integer for the number of cars they own.\n",
    "                        Scanner scanner2 = new Scanner(System.in);\n",
    "                        System.out.println(\"Enter the make of your \" + carNum + \" car: \");\n",
    "                        String carMake = scanner2.nextLine();\n",
    "\n",
    "                        Scanner scanner3 = new Scanner(System.in);\n",
    "                        System.out.println(\"Enter the model of your \" + carNum + \" car: \");\n",
    "                        String carModel = scanner3.nextLine();\n",
    "\n",
    "                        Car car = new Car(carMake, carModel);\n",
    "                        carNum--;\n",
    "                    }\n",
    "                    if (carNum == 0){\n",
    "                        checkUser = false;\n",
    "                    }\n",
    "                    if (carNum < 0){\n",
    "                        System.out.println(\"Try to enter a positive integer\");\n",
    "                    }\n",
    "                }catch (ArithmeticException e) {\n",
    "                    System.out.println(\"Error: Wrong input, please enter a positive integer!\"); // Catching and handling the exception\n",
    "                }\n",
    "            }\n",
    "\n",
    "            Scanner carList = new Scanner(System.in);\n",
    "            System.out.println(\"Want to check the cars you own in the garage? Type yes or no: \");\n",
    "            String userChose3 = carList.nextLine();\n",
    "\n",
    "            if(userChose3.equals(\"yes\")){\n",
    "                if(Garage.size() == 0){\n",
    "                    System.out.println(\"There is no car in the garage.\");\n",
    "                    System.out.println();\n",
    "                }\n",
    "                else{\n",
    "                    System.out.println(\"You have \" + getCarCount() + \" cars in your garage.\");\n",
    "                    for (Map.Entry entry : Garage.entrySet()) {\n",
    "                        System.out.println(entry.getValue());\n",
    "                    }\n",
    "                    System.out.println();\n",
    "                }\n",
    "\n",
    "            }\n",
    "\n",
    "            Scanner carExit = new Scanner(System.in);\n",
    "            System.out.println(\"Do you want to get any cars out from the garage? If yes, enter the car make + space + car model, if no, type no: \");\n",
    "            System.out.println();\n",
    "            String userChose2 = carExit.nextLine();\n",
    "\n",
    "            if(userChose2.equals(\"no\") !=true){\n",
    "                Garage.get(userChose2);\n",
    "                System.out.println(\"The car you chose is: \" + userChose2 + \", the vehicle stayed in garage for about :\" + getCurrentCarTime(Garage.get(userChose2)) + \" days\");\n",
    "                System.out.println();\n",
    "                CarExit(userChose2);\n",
    "                System.out.println(\"You have \" + getCarCount() + \" cars in your garage.\");\n",
    "                for (Map.Entry entry : Garage.entrySet()) {\n",
    "                    System.out.println(entry.getValue());\n",
    "                }\n",
    "                System.out.println();\n",
    "            }\n",
    "\n",
    "            Scanner scanner4 = new Scanner(System.in);\n",
    "            System.out.println(\"Want to add more car? Enter yes or no: \");\n",
    "            String userChose = scanner4.nextLine();\n",
    "            if (userChose.equals(\"yes\")){\n",
    "                System.out.println();\n",
    "                checkUser = true;\n",
    "            }\n",
    "            else{\n",
    "                break;\n",
    "            }\n",
    "        }\n",
    "    }\n",
    "}\n",
    "Car.main(null);"
   ]
  },
  {
   "attachments": {},
   "cell_type": "markdown",
   "metadata": {},
   "source": [
    "## Unit 9 Hack\n",
    "1. Create a parent class of your choice\n",
    "2. Create 2 subclasses from that parent superclass\n",
    "3. incorporate some data and atleast one method into each class, using super keyword\n",
    "4. Override superclass method in the subclasses\n",
    "5. Use a tester method to create objects from the superclass that take on the forms of the subclasses, and print some outputs"
   ]
  },
  {
   "cell_type": "code",
   "execution_count": 36,
   "metadata": {
    "vscode": {
     "languageId": "java"
    }
   },
   "outputs": [
    {
     "name": "stdout",
     "output_type": "stream",
     "text": [
      "Animal name: 1, type: Bird\n",
      "Animal name: 2, type: Cat\n"
     ]
    }
   ],
   "source": [
    "public class Animal{\n",
    "    private String name;\n",
    "\n",
    "    public Animal(String nameAnimal){\n",
    "        this.name = nameAnimal;\n",
    "    }\n",
    "\n",
    "    public String getName(){\n",
    "        return name;\n",
    "    }\n",
    "\n",
    "    public String toString(){\n",
    "        return \"Animal name: \" + this.getName();\n",
    "    }\n",
    "    \n",
    "    public static void main(String[] args) {\n",
    "        Animal tester = new Bird(\"1\", \"Bird\");\n",
    "        System.out.println(tester);\n",
    "        Animal tester2 = new Cat(\"2\", \"Cat\");\n",
    "        System.out.println(tester2);\n",
    "    }\n",
    "}\n",
    "Animal.main(null);"
   ]
  },
  {
   "cell_type": "code",
   "execution_count": 31,
   "metadata": {
    "vscode": {
     "languageId": "java"
    }
   },
   "outputs": [],
   "source": [
    "public class Bird extends Animal{\n",
    "    private String type;\n",
    "    \n",
    "    public Bird(String birdName, String typeAnimal){\n",
    "        super(birdName);\n",
    "        this.type = typeAnimal;\n",
    "    }\n",
    "\n",
    "    public String getType(){\n",
    "        return type;\n",
    "    }\n",
    "\n",
    "    public String toString(){\n",
    "        return super.toString() + \", type: \" + this.getType();\n",
    "    }\n",
    "\n",
    "}"
   ]
  },
  {
   "cell_type": "code",
   "execution_count": 35,
   "metadata": {
    "vscode": {
     "languageId": "java"
    }
   },
   "outputs": [],
   "source": [
    "public class Cat extends Animal{\n",
    "    private String type;\n",
    "\n",
    "    public Cat(String catName, String typeAnimal){\n",
    "        super(catName);\n",
    "        this.type = typeAnimal;\n",
    "    }\n",
    "\n",
    "    public String getType(){\n",
    "        return type;\n",
    "    }\n",
    "\n",
    "    public String toString(){\n",
    "        return super.toString() + \", type: \" + this.getType();\n",
    "    }\n",
    "}"
   ]
  },
  {
   "attachments": {},
   "cell_type": "markdown",
   "metadata": {},
   "source": [
    "## Unit 10 Hack"
   ]
  },
  {
   "cell_type": "code",
   "execution_count": null,
   "metadata": {
    "vscode": {
     "languageId": "java"
    }
   },
   "outputs": [],
   "source": []
  }
 ],
 "metadata": {
  "kernelspec": {
   "display_name": "Java",
   "language": "java",
   "name": "java"
  },
  "language_info": {
   "codemirror_mode": "java",
   "file_extension": ".jshell",
   "mimetype": "text/x-java-source",
   "name": "Java",
   "pygments_lexer": "java",
   "version": "11.0.17+8-post-Ubuntu-1ubuntu218.04"
  },
  "orig_nbformat": 4
 },
 "nbformat": 4,
 "nbformat_minor": 2
}
