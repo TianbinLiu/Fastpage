{
 "cells": [
  {
   "cell_type": "markdown",
   "metadata": {},
   "source": [
    "# Jupyter Notebook lesson on ifs\n",
    "\n",
    "- toc: true \n",
    "- badges: true\n",
    "- comments: true\n",
    "- categories: [jupyter]\n",
    "- image: images/chart-preview.png"
   ]
  },
  {
   "cell_type": "markdown",
   "metadata": {},
   "source": [
    "### Build your own Jupyter Notebook lesson on ifs\n",
    "* Explain if, if-else, and if-elseif-else.\n",
    "* Make a markdown block before you sample code\n",
    "* Comment in code to describe each decision"
   ]
  },
  {
   "cell_type": "code",
   "execution_count": 7,
   "metadata": {},
   "outputs": [
    {
     "name": "stdout",
     "output_type": "stream",
     "text": [
      "highest value:14\n"
     ]
    }
   ],
   "source": [
    "// if, if-else, and if-elseif-else are all conditional statement and return a boolean value(true or false)\n",
    "//else statement does not include condition.\n",
    "//Example of only one if statement\n",
    "\n",
    "    int a = 13; //set a value\n",
    "    int b = 14; //set a value\n",
    "    public ifstatement(){\n",
    "        if (a < b){ //if the condition is true then execute the code inside the curly braces\n",
    "            System.out.println(\"highest value:\" + b); // code that will be executed\n",
    "        }\n",
    "    }\n",
    "\n",
    "//Example of if-else statement\n",
    "\n",
    "    public ifelsestatement(){\n",
    "        if (a < b){ //if the condition is true then execute the code inside the curly braces\n",
    "            System.out.println(\"highest value:\" + b); // code that will be executed\n",
    "        }   \n",
    "        else if (a > b){   //if the first if statement is not true and the condition of the else-if statement is true, then execute the code inside the curly braces\n",
    "            System.out.println(\"highest value:\" + a); // code that will be executed\n",
    "        }\n",
    "    }\n",
    "\n",
    "//Example of if-elseif-else statement\n",
    "\n",
    "    public ifelseifelse(){\n",
    "        if (a < b){ //if the condition is true then execute the code inside the curly braces\n",
    "            System.out.println(\"highest value:\" + b); // code that will be executed\n",
    "        }  \n",
    "        else if (a > b){   //if the first if statement is not true and the condition of the else-if statement is true, then execute the code inside the curly braces\n",
    "            System.out.println(\"highest value:\" + a); // code that will be executed\n",
    "        }\n",
    "        else { //if all if-statement above this else-statement is not true, then execute the code inside the curly braces\n",
    "            System.out.println(\"highest value: none\"); // code that will be executed\n",
    "        }\n",
    "    }\n",
    "\n",
    "\n",
    "\n",
    "\n"
   ]
  },
  {
   "cell_type": "markdown",
   "metadata": {},
   "source": [
    "### Add to lesson switch-case\n",
    "1. Create and if-elseif-elseif-elsif-else statement, 5 or more conditions.\n",
    "2. Covert the 5 or more decisions to a switch-case-case-case-case-otherwise.\n",
    "3. Make a markdown block before each code example\n",
    "4. Comment/establish a style of comments for your if-elseif and switch-case code blocks"
   ]
  },
  {
   "cell_type": "code",
   "execution_count": 9,
   "metadata": {},
   "outputs": [
    {
     "ename": "CompilationException",
     "evalue": "",
     "output_type": "error",
     "traceback": [
      "\u001b[1m\u001b[30m|   \u001b[1m\u001b[30mint a = \u001b[0m\u001b[1m\u001b[30m\u001b[41mrandom\u001b[0m\u001b[1m\u001b[30m(ram1,ram3);\u001b[0m",
      "\u001b[1m\u001b[31mcannot find symbol\u001b[0m",
      "\u001b[1m\u001b[31m  symbol:   method random(int,int)\u001b[0m",
      ""
     ]
    }
   ],
   "source": [
    "int a = random(1,500);\n",
    "int b = random(1,1000);\n",
    "int c = 500;\n",
    "\n",
    "if(c < a = b){  //if a is equal to b and greater than c, execute the code below\n",
    "    System.out.println(\"two highest value a and b:\" + a); // code that will be executed\n",
    "}\n",
    "else if(c > a = b){ //if the condition of statement above is not true, then check for this condition.\n",
    "    System.out.println(\"highest value c:\" + c); // code that will be executed\n",
    "}\n",
    "else if(b < a < c){//if the condition of statement above is not true, then check for this condition.\n",
    "    System.out.println(\"highest value c:\" + c); // code that will be executed\n",
    "}\n",
    "else if(c < a < b){//if the condition of statement above is not true, then check for this condition.\n",
    "    System.out.println(\"highest value b:\" + b); // code that will be executed\n",
    "}\n",
    "else if(a = c > b){//if the condition of statement above is not true, then check for this condition.\n",
    "    System.out.println(\"two highest value a and c:\" + b); // code that will be executed\n",
    "}\n",
    "else if(a = c < b){//if the condition of statement above is not true, then check for this condition.\n",
    "    System.out.println(\"highest value:\" + b); // code that will be executed\n",
    "}\n",
    "else{//if all the conditions of statements above are not true, then execute the code below.\n",
    "    System.out.println(\"Can you tell me the answer?\"); // code that will be executed\n",
    "}"
   ]
  },
  {
   "cell_type": "markdown",
   "metadata": {},
   "source": [
    "### Finish lesson with De Morgan's law\n",
    "1. Describe De Morgan's law\n",
    "* ex. !(A || B) = (not A) and (not B) ; !(A && B) = (not A) or (not B)\n",
    "2. Illustrate De Morgan's law\n",
    "* Not (A and B) is the same as Not A or Not B. \n",
    "* Not (A or B) is the same as Not A and Not B.\n",
    "3. Show some code running that shows understanding"
   ]
  },
  {
   "cell_type": "code",
   "execution_count": 14,
   "metadata": {},
   "outputs": [
    {
     "name": "stdout",
     "output_type": "stream",
     "text": [
      "a and b is equal\n"
     ]
    }
   ],
   "source": [
    "int a = 50;\n",
    "int b = 50;\n",
    "\n",
    "if (!((a < b) || (a > b))){\n",
    "    System.out.println(\"a and b is equal\"); // code that will be executed\n",
    "}"
   ]
  }
 ],
 "metadata": {
  "kernelspec": {
   "display_name": "Java",
   "language": "java",
   "name": "java"
  },
  "language_info": {
   "codemirror_mode": "java",
   "file_extension": ".jshell",
   "mimetype": "text/x-java-source",
   "name": "java",
   "pygments_lexer": "java",
   "version": "11.0.16+8-post-Ubuntu-0ubuntu118.04"
  },
  "orig_nbformat": 4
 },
 "nbformat": 4,
 "nbformat_minor": 2
}
